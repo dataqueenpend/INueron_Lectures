{
 "cells": [
  {
   "cell_type": "markdown",
   "id": "85d7efc1",
   "metadata": {},
   "source": [
    "### Imports"
   ]
  },
  {
   "cell_type": "code",
   "execution_count": 2,
   "id": "9428ca08",
   "metadata": {},
   "outputs": [],
   "source": [
    "import scipy.stats as stats\n",
    "import pandas as pd\n",
    "import numpy as np\n",
    "import seaborn as sns"
   ]
  },
  {
   "cell_type": "code",
   "execution_count": 3,
   "id": "ad9b7bfd",
   "metadata": {},
   "outputs": [
    {
     "data": {
      "text/html": [
       "<div>\n",
       "<style scoped>\n",
       "    .dataframe tbody tr th:only-of-type {\n",
       "        vertical-align: middle;\n",
       "    }\n",
       "\n",
       "    .dataframe tbody tr th {\n",
       "        vertical-align: top;\n",
       "    }\n",
       "\n",
       "    .dataframe thead th {\n",
       "        text-align: right;\n",
       "    }\n",
       "</style>\n",
       "<table border=\"1\" class=\"dataframe\">\n",
       "  <thead>\n",
       "    <tr style=\"text-align: right;\">\n",
       "      <th></th>\n",
       "      <th>total_bill</th>\n",
       "      <th>tip</th>\n",
       "      <th>sex</th>\n",
       "      <th>smoker</th>\n",
       "      <th>day</th>\n",
       "      <th>time</th>\n",
       "      <th>size</th>\n",
       "    </tr>\n",
       "  </thead>\n",
       "  <tbody>\n",
       "    <tr>\n",
       "      <th>0</th>\n",
       "      <td>16.99</td>\n",
       "      <td>1.01</td>\n",
       "      <td>Female</td>\n",
       "      <td>No</td>\n",
       "      <td>Sun</td>\n",
       "      <td>Dinner</td>\n",
       "      <td>2</td>\n",
       "    </tr>\n",
       "    <tr>\n",
       "      <th>1</th>\n",
       "      <td>10.34</td>\n",
       "      <td>1.66</td>\n",
       "      <td>Male</td>\n",
       "      <td>No</td>\n",
       "      <td>Sun</td>\n",
       "      <td>Dinner</td>\n",
       "      <td>3</td>\n",
       "    </tr>\n",
       "    <tr>\n",
       "      <th>2</th>\n",
       "      <td>21.01</td>\n",
       "      <td>3.50</td>\n",
       "      <td>Male</td>\n",
       "      <td>No</td>\n",
       "      <td>Sun</td>\n",
       "      <td>Dinner</td>\n",
       "      <td>3</td>\n",
       "    </tr>\n",
       "    <tr>\n",
       "      <th>3</th>\n",
       "      <td>23.68</td>\n",
       "      <td>3.31</td>\n",
       "      <td>Male</td>\n",
       "      <td>No</td>\n",
       "      <td>Sun</td>\n",
       "      <td>Dinner</td>\n",
       "      <td>2</td>\n",
       "    </tr>\n",
       "    <tr>\n",
       "      <th>4</th>\n",
       "      <td>24.59</td>\n",
       "      <td>3.61</td>\n",
       "      <td>Female</td>\n",
       "      <td>No</td>\n",
       "      <td>Sun</td>\n",
       "      <td>Dinner</td>\n",
       "      <td>4</td>\n",
       "    </tr>\n",
       "  </tbody>\n",
       "</table>\n",
       "</div>"
      ],
      "text/plain": [
       "   total_bill   tip     sex smoker  day    time  size\n",
       "0       16.99  1.01  Female     No  Sun  Dinner     2\n",
       "1       10.34  1.66    Male     No  Sun  Dinner     3\n",
       "2       21.01  3.50    Male     No  Sun  Dinner     3\n",
       "3       23.68  3.31    Male     No  Sun  Dinner     2\n",
       "4       24.59  3.61  Female     No  Sun  Dinner     4"
      ]
     },
     "execution_count": 3,
     "metadata": {},
     "output_type": "execute_result"
    }
   ],
   "source": [
    "df = sns.load_dataset('tips')\n",
    "df.head()"
   ]
  },
  {
   "cell_type": "markdown",
   "id": "0f4c2fcb",
   "metadata": {},
   "source": [
    "## Chi Square Test\n",
    "\n",
    "Applies when testing two categorical variables from a single population. \n",
    "\n",
    "Used to determine whether or not there is a significant association between two categorical variables."
   ]
  },
  {
   "cell_type": "code",
   "execution_count": 4,
   "id": "a7d93865",
   "metadata": {},
   "outputs": [
    {
     "name": "stdout",
     "output_type": "stream",
     "text": [
      "smoker  Yes  No\n",
      "sex            \n",
      "Male     60  97\n",
      "Female   33  54\n"
     ]
    }
   ],
   "source": [
    "# Cross-table\n",
    "df = pd.crosstab(df['sex'], df['smoker'])\n",
    "print(df)"
   ]
  },
  {
   "cell_type": "code",
   "execution_count": 5,
   "id": "459ab12e",
   "metadata": {},
   "outputs": [
    {
     "name": "stdout",
     "output_type": "stream",
     "text": [
      "Observed values: \n",
      " [[60 97]\n",
      " [33 54]]\n"
     ]
    }
   ],
   "source": [
    "# Calculating observed values\n",
    "observed_values = df.values\n",
    "print('Observed values: \\n', observed_values)"
   ]
  },
  {
   "cell_type": "code",
   "execution_count": 6,
   "id": "47b0c700",
   "metadata": {},
   "outputs": [],
   "source": [
    "# Chi - Square test of independence of variables in contingency table\n",
    "val = stats.chi2_contingency(df)"
   ]
  },
  {
   "cell_type": "code",
   "execution_count": 7,
   "id": "cb387fd4",
   "metadata": {},
   "outputs": [
    {
     "data": {
      "text/plain": [
       "(0.0,\n",
       " 1.0,\n",
       " 1,\n",
       " array([[59.84016393, 97.15983607],\n",
       "        [33.15983607, 53.84016393]]))"
      ]
     },
     "execution_count": 7,
     "metadata": {},
     "output_type": "execute_result"
    }
   ],
   "source": [
    "val"
   ]
  },
  {
   "cell_type": "code",
   "execution_count": 8,
   "id": "5b5380c6",
   "metadata": {},
   "outputs": [],
   "source": [
    "expected_values = val[3]"
   ]
  },
  {
   "cell_type": "code",
   "execution_count": 9,
   "id": "1b29a06b",
   "metadata": {},
   "outputs": [
    {
     "name": "stdout",
     "output_type": "stream",
     "text": [
      "Chi-Square statistic:  0.001934818536627623\n"
     ]
    }
   ],
   "source": [
    "# Applying chi2 \n",
    "from scipy.stats import chi2\n",
    "chi_square = sum([(o-e)**2./e for o,e in zip(observed_values, expected_values)])\n",
    "chi_square_statistics = chi_square[0]+chi_square[1]\n",
    "\n",
    "print('Chi-Square statistic: ', chi_square_statistics)"
   ]
  },
  {
   "cell_type": "code",
   "execution_count": 12,
   "id": "d33838a8",
   "metadata": {},
   "outputs": [
    {
     "name": "stdout",
     "output_type": "stream",
     "text": [
      "Degree of Freedom:  1\n"
     ]
    }
   ],
   "source": [
    "no_of_rows = len(df.iloc[0:2,0])\n",
    "no_of_columns = len(df.iloc[0,0:2])\n",
    "ddof = (no_of_rows-1)*(no_of_columns-1)\n",
    "print('Degree of Freedom: ', ddof)\n",
    "alpha = 0.05"
   ]
  },
  {
   "cell_type": "code",
   "execution_count": 13,
   "id": "06c873a5",
   "metadata": {},
   "outputs": [
    {
     "name": "stdout",
     "output_type": "stream",
     "text": [
      "Critical value:  3.841458820694124\n"
     ]
    }
   ],
   "source": [
    "# Finding critical value\n",
    "critical_value = chi2.ppf(q=1-alpha, df=ddof)\n",
    "print('Critical value: ', critical_value)"
   ]
  },
  {
   "cell_type": "code",
   "execution_count": 14,
   "id": "60466bb0",
   "metadata": {},
   "outputs": [
    {
     "name": "stdout",
     "output_type": "stream",
     "text": [
      "p-value:  0.964915107315732\n",
      "Significance level:  0.05\n",
      "Degree of Freedom:  1\n"
     ]
    }
   ],
   "source": [
    "# p-value\n",
    "p_value = 1-chi2.cdf(x=chi_square_statistics, df=ddof)\n",
    "print('p-value: ', p_value)\n",
    "print('Significance level: ', alpha)\n",
    "print('Degree of Freedom: ', ddof)"
   ]
  },
  {
   "cell_type": "code",
   "execution_count": 17,
   "id": "975fa3c7",
   "metadata": {},
   "outputs": [
    {
     "name": "stdout",
     "output_type": "stream",
     "text": [
      "Retain H0. There is NO relationship between 2 categorical variables. \n",
      "Retain H0. There is NO relationship between 2 categorical variables.\n"
     ]
    }
   ],
   "source": [
    "# Hypothesis test\n",
    "\n",
    "if chi_square_statistics >= critical_value:\n",
    "    print('Reject H0. There is a relationship between 2 categorical variables.')\n",
    "else:\n",
    "    print('Retain H0. There is NO relationship between 2 categorical variables. ')\n",
    "    \n",
    "if p_value <= alpha:\n",
    "    print('Reject H0. There is a relationship between 2 categorical variables.')\n",
    "else:\n",
    "    print('Retain H0. There is NO relationship between 2 categorical variables.')"
   ]
  }
 ],
 "metadata": {
  "kernelspec": {
   "display_name": "Python 3 (ipykernel)",
   "language": "python",
   "name": "python3"
  },
  "language_info": {
   "codemirror_mode": {
    "name": "ipython",
    "version": 3
   },
   "file_extension": ".py",
   "mimetype": "text/x-python",
   "name": "python",
   "nbconvert_exporter": "python",
   "pygments_lexer": "ipython3",
   "version": "3.9.7"
  }
 },
 "nbformat": 4,
 "nbformat_minor": 5
}
