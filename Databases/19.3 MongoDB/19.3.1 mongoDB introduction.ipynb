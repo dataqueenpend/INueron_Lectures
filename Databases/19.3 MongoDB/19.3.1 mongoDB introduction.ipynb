{
 "cells": [
  {
   "cell_type": "markdown",
   "metadata": {},
   "source": [
    "<img src=\"https://d24cdstip7q8pz.cloudfront.net/t/ineuron1/content/common/images/final%20logo.png\" height=60 alt-text=\"iNeuron.ai logo\">"
   ]
  },
  {
   "cell_type": "markdown",
   "metadata": {
    "colab_type": "text",
    "id": "BSYYna6uWn-n"
   },
   "source": [
    "## 19.3.1 NoSQL DBs (Not Only Structured Query Language)\n",
    "NoSQL DBs are flexible DBs, unlike SQL DBs which are tabular in nature. Since SQL is tabular in Nature it can have null values present in the columns where fields are empty that create irregularity. In such cases, we can go for NoSQL DBs like MongoDB Because in NoSQL DBs like MongoDB we put data in a JSON Object. \n",
    "\n",
    "NoSQL is preferable when you want flexibility like in startups where things may change in the future with respect to the opportunities they get as here it’s not bound to a particular structure. But for well-established companies where operations are fixed they can go for SQL DBs in general.\n",
    "\n",
    "See the following difference between two most popular SQL and NoSQL Dbs-\n",
    "\n",
    "|MySQL|MongoDB|\n",
    "|:-:|:-:|\n",
    "|Matured or stable|Its new and updated frequently|\n",
    "|It follows tabular structure|It follows document structure like JSON format|\n",
    "|It needs a proper schema| Its flexible in nature|\n",
    "|Managing complex relations among different tables is easy|Its not that great in complex managing relationship|\n",
    "|Its scales vertically| Horizontaly scalable|"
   ]
  },
  {
   "cell_type": "markdown",
   "metadata": {
    "colab_type": "text",
    "id": "NnZxk_-8cayJ"
   },
   "source": [
    "---\n",
    "\n",
    "### 19.3.1.1 Working with MongoDB\n",
    "\n",
    "MongoDB is a document-based, general-purpose, distributed database with scalability and flexibility. And most of the features are free to use. \n"
   ]
  },
  {
   "cell_type": "markdown",
   "metadata": {},
   "source": [
    "\n",
    "\n",
    "### 19.3.1.2 Features of MongoDB\n",
    "\n",
    "**i. Rich JSON Documents-**\n",
    "\n",
    "* The most natural and productive way to work with data.\n",
    "* Supports arrays and nested objects as values.\n",
    "* Allows for flexible and dynamic schemas.\n",
    "* The document model maps to the objects in your application code, making data easy to work with.\n",
    "\n",
    "```JSON\n",
    "{\n",
    " \"name\": \"notebook\",\n",
    " \"qty\": 50,\n",
    " \"rating\": [ { \"score\": 8 }, { \"score\": 9 } ],\n",
    " \"size\": { \"height\": 11, \"width\": 8.5, \"unit\": \"in\" },\n",
    " \"status\": \"A\",\n",
    " \"tags\": [ \"college-ruled\", \"perforated\"]\n",
    "}\n",
    "```\n",
    "\n",
    "**ii. Powerful query language-**\n",
    "* Rich and expressive query language that allows you to filter and sort by any field, no matter how nested it may be within a document.\n",
    "* Support for aggregations and other modern use-cases such as geo-based search,  graph search, and text search.\n",
    "* Queries are themselves JSON, and thus easily composable. No more concatenating strings to dynamically generate SQL queries.\n",
    "```\n",
    "> db.collection.find( { qty: { $gt: 4 } } )\n",
    "```\n",
    "OUTPUT:\n",
    "```JSON\n",
    "{ \"_id\": \"apples\", \"qty\": 5 }\n",
    "{ \"_id\": \"bananas\", \"qty\": 7 }\n",
    "```\n"
   ]
  },
  {
   "cell_type": "markdown",
   "metadata": {},
   "source": [
    "\n",
    "### 19.3.1.3 All the power of a relational database, and more...\n",
    "\n",
    "* Full ACID(Atomicity, Consistency, Isolation, Durability) transactions.\n",
    "* Support for joins in queries.\n",
    "* Two types of relationships instead of one: reference and embedded.\n"
   ]
  },
  {
   "cell_type": "markdown",
   "metadata": {},
   "source": [
    "### 19.3.1.4 Charts\n",
    "\n",
    "* The fastest way to create visualizations of MongoDB data.\n",
    "* Built for the document model.\n",
    "* Visualize live data from any of your MongoDB instances. Available on MongoDB Atlas.\n"
   ]
  },
  {
   "cell_type": "markdown",
   "metadata": {},
   "source": [
    "### 19.3.1.5 BI Connector\n",
    "* Allow any BI tool that can speak the MySQL protocol to work with your MongoDB data.\n",
    "* Leverage the BI tools your organization already uses.\n",
    "* Perform federated analytics, combining data from MongoDB and other databases."
   ]
  },
  {
   "cell_type": "markdown",
   "metadata": {},
   "source": [
    "\n",
    "### 19.3.1.6 Compass\n"
   ]
  },
  {
   "cell_type": "markdown",
   "metadata": {
    "colab_type": "text",
    "id": "GeJZ8GDBdc1X"
   },
   "source": [
    "---\n",
    "\n",
    "## 19.3.2 Installing MongoDB (Community Edition) [[Official Documents](https://docs.mongodb.com/manual/administration/install-community/)]\n",
    "\n"
   ]
  },
  {
   "cell_type": "markdown",
   "metadata": {},
   "source": [
    "### 19.3.2.1 For Windows\n",
    "\n",
    "STEP 1: Download the installer file from download center from [here](https://www.mongodb.com/try/download/community?tck=docs_server)\n",
    "> ![mongoDB Community Server](mongo_img/mDBCommServer.JPG)\n",
    "1. Select the Version\n",
    "2. Choose platform as windows\n",
    "3. Select package as msi\n",
    "4. Click on download\n",
    "\n",
    "\n",
    "---\n",
    "\n",
    "\n",
    "STEP 2: Run the installer that you have downloaded\n",
    "\n",
    "1. Double click on the installer for mongoDB (which has .msi extension) from the location where you have downloaded the file\n",
    "\n",
    "> ![installer1](mongo_img/msi1.JPG)\n",
    "\n",
    "---\n",
    "\n",
    "\n",
    "STEP 3: Follow along the installation wizard\n",
    "\n",
    "1. Choose the setup type Complete or Custom (for advance users). The Complete setup option will choose the default location in your PC to install unlike Custom installation which allows you to choose the other location to install.\n",
    "\n",
    "> ![installer3](mongo_img/msi3.JPG)\n",
    "\n",
    "\n",
    "2. Select intall MongoDB as a Service.\n",
    "\n",
    "> ![installer4](mongo_img/msi4.JPG)\n",
    "\n",
    "\n",
    "3. Select Run the service as Network Service user (Default)\n",
    "\n",
    "\n",
    "\n",
    "\n",
    "4. Service Name. Specify the service name. Default name is MongoDB. If you already have a service with the specified name, you must choose another name.\n",
    "\n",
    "\n",
    "5. Data Directory. Specify the data directory, which corresponds to the --dbpath. If the directory does not exist, the installer will create the directory and sets the directory access to the service user.\n",
    "\n",
    "\n",
    "6. Log Directory. Specify the Log directory, which corresponds to the --logpath. If the directory does not exist, the installer will create the directory and sets the directory access to the service user.\n",
    "\n",
    "---\n",
    "\n",
    "\n",
    "STEP 4: Install [MongoDB compass](https://www.mongodb.com/products/compass) (Optional)\n",
    "\n",
    "> ![installer5](mongo_img/msi5.JPG)\n",
    "\n",
    "MongoDB compass is a UI tool for mongoDB. Once Compass is installed you'll see following screens - \n",
    "\n",
    "> ![installed1](mongo_img/installed1.JPG)\n",
    "\n",
    "> ![installed1](mongo_img/compass1.JPG)\n",
    "\n"
   ]
  },
  {
   "cell_type": "markdown",
   "metadata": {},
   "source": [
    "### 19.3.2.2 For Ubuntu \n",
    "Refer Official Docs - [here](https://docs.mongodb.com/manual/tutorial/install-mongodb-on-ubuntu/)"
   ]
  },
  {
   "cell_type": "markdown",
   "metadata": {},
   "source": [
    "### 19.3.2.3 For Mac\n",
    "Refer Official Docs - [here](https://docs.mongodb.com/manual/tutorial/install-mongodb-on-os-x/)"
   ]
  },
  {
   "cell_type": "markdown",
   "metadata": {},
   "source": [
    "## 19.3.3 Pymongo\n",
    "\n",
    "use the following command in your anaconda prompt to install pymongo\n",
    "\n",
    "```\n",
    "python -m pip install pymongo\n",
    "```\n",
    "\n",
    "Or you can directly run below cell to install pymongo in current environment-"
   ]
  },
  {
   "cell_type": "code",
   "execution_count": 1,
   "metadata": {},
   "outputs": [
    {
     "name": "stdout",
     "output_type": "stream",
     "text": [
      "Collecting pymongo\n",
      "  Downloading pymongo-4.0.1-cp39-cp39-win_amd64.whl (354 kB)\n",
      "Installing collected packages: pymongo\n",
      "Successfully installed pymongo-4.0.1\n"
     ]
    }
   ],
   "source": [
    "!python -m pip install pymongo"
   ]
  },
  {
   "cell_type": "code",
   "execution_count": 3,
   "metadata": {},
   "outputs": [],
   "source": [
    "import pymongo"
   ]
  },
  {
   "cell_type": "code",
   "execution_count": 4,
   "metadata": {},
   "outputs": [],
   "source": [
    "client = pymongo.MongoClient('mongodb://localhost:27017') ##Conecting to local Mongo"
   ]
  },
  {
   "cell_type": "code",
   "execution_count": 5,
   "metadata": {},
   "outputs": [
    {
     "data": {
      "text/plain": [
       "MongoClient(host=['localhost:27017'], document_class=dict, tz_aware=False, connect=True)"
      ]
     },
     "execution_count": 5,
     "metadata": {},
     "output_type": "execute_result"
    }
   ],
   "source": [
    "client #Checkinh if connected"
   ]
  },
  {
   "cell_type": "code",
   "execution_count": 8,
   "metadata": {},
   "outputs": [],
   "source": [
    "db_1 = client['kira'] #Creating a database"
   ]
  },
  {
   "cell_type": "code",
   "execution_count": 9,
   "metadata": {},
   "outputs": [
    {
     "data": {
      "text/plain": [
       "['admin', 'config', 'local']"
      ]
     },
     "execution_count": 9,
     "metadata": {},
     "output_type": "execute_result"
    }
   ],
   "source": [
    "client.list_database_names()"
   ]
  },
  {
   "cell_type": "markdown",
   "metadata": {},
   "source": [
    "## Creating record in the collection\n",
    "\n",
    "MongoDB is accepting records in a form of a collection (key:value pairs) like a dictionary in Python."
   ]
  },
  {
   "cell_type": "code",
   "execution_count": 10,
   "metadata": {},
   "outputs": [],
   "source": [
    "record = {'companyName': 'iNeuron',\n",
    "         'product': 'Affordable AI',\n",
    "         'courseOffered': 'Deep Learning for Computer Vision',\n",
    "         'name' : [\"sudhan\",\"kumar\",5466],\n",
    "         \"record_dict\" :{\"name\" :\"sudhanshu\" , \"mail_id\" : \"sudhanshu@fadfsaf.ai\",\"ph_number\" :543535}}"
   ]
  },
  {
   "cell_type": "code",
   "execution_count": 11,
   "metadata": {},
   "outputs": [
    {
     "data": {
      "text/plain": [
       "Database(MongoClient(host=['localhost:27017'], document_class=dict, tz_aware=False, connect=True), 'kira')"
      ]
     },
     "execution_count": 11,
     "metadata": {},
     "output_type": "execute_result"
    }
   ],
   "source": [
    "db_1 #Checking if db is availabel"
   ]
  },
  {
   "cell_type": "code",
   "execution_count": 12,
   "metadata": {},
   "outputs": [],
   "source": [
    "collection = db_1['kira'] #Creating a collection"
   ]
  },
  {
   "cell_type": "code",
   "execution_count": 13,
   "metadata": {},
   "outputs": [
    {
     "data": {
      "text/plain": [
       "<pymongo.results.InsertOneResult at 0x27f22730780>"
      ]
     },
     "execution_count": 13,
     "metadata": {},
     "output_type": "execute_result"
    }
   ],
   "source": [
    "collection.insert_one(record)"
   ]
  },
  {
   "cell_type": "markdown",
   "metadata": {},
   "source": [
    "## Insert Multiple records"
   ]
  },
  {
   "cell_type": "code",
   "execution_count": 14,
   "metadata": {},
   "outputs": [],
   "source": [
    "list_of_records = [\n",
    "    {'companyName': 'iNeuron',\n",
    "     'product': 'Affordable AI',\n",
    "     'courseOffered': 'Machine Learning with Deployment'},\n",
    "    \n",
    "    {'companyName': 'iNeuron',\n",
    "     'product': 'Affordable AI',\n",
    "     'courseOffered': 'Deep Learning for NLP and Computer vision'},\n",
    "    \n",
    "    {'companyName': 'iNeuron',\n",
    "     'product': 'Master Program',\n",
    "     'courseOffered': 'Data Science Masters Program',\n",
    "    \"test\" : \"ffsdfsffsf\",\n",
    "     \"complex\" : [{\"name\" : \"sudhanshu\",\"list\" : [554,545,454,54,5,4]},{\"email_id\" :\"sudhanshu@dffsf\"},{\"phone_no\":345345345353},[4,54,534,5,45,5,45,4]]\n",
    "\n",
    "    }]"
   ]
  },
  {
   "cell_type": "code",
   "execution_count": 15,
   "metadata": {},
   "outputs": [],
   "source": [
    "rec = collection.insert_many(list_of_records)"
   ]
  },
  {
   "cell_type": "code",
   "execution_count": 16,
   "metadata": {},
   "outputs": [
    {
     "data": {
      "text/plain": [
       "{'_id': ObjectId('620a465e1a7c7d4b8a7b99bf'),\n",
       " 'companyName': 'iNeuron',\n",
       " 'product': 'Affordable AI',\n",
       " 'courseOffered': 'Deep Learning for Computer Vision',\n",
       " 'name': ['sudhan', 'kumar', 5466],\n",
       " 'record_dict': {'name': 'sudhanshu',\n",
       "  'mail_id': 'sudhanshu@fadfsaf.ai',\n",
       "  'ph_number': 543535}}"
      ]
     },
     "execution_count": 16,
     "metadata": {},
     "output_type": "execute_result"
    }
   ],
   "source": [
    "collection.find_one()"
   ]
  },
  {
   "cell_type": "code",
   "execution_count": 17,
   "metadata": {},
   "outputs": [
    {
     "name": "stdout",
     "output_type": "stream",
     "text": [
      "{'_id': ObjectId('620a465e1a7c7d4b8a7b99bf'), 'companyName': 'iNeuron', 'product': 'Affordable AI', 'courseOffered': 'Deep Learning for Computer Vision', 'name': ['sudhan', 'kumar', 5466], 'record_dict': {'name': 'sudhanshu', 'mail_id': 'sudhanshu@fadfsaf.ai', 'ph_number': 543535}}\n",
      "{'_id': ObjectId('620a46b28a21068d8a7395ad'), 'companyName': 'iNeuron', 'product': 'Affordable AI', 'courseOffered': 'Deep Learning for Computer Vision', 'name': ['sudhan', 'kumar', 5466], 'record_dict': {'name': 'sudhanshu', 'mail_id': 'sudhanshu@fadfsaf.ai', 'ph_number': 543535}}\n",
      "{'_id': ObjectId('620a46b58a21068d8a7395ae'), 'companyName': 'iNeuron', 'product': 'Affordable AI', 'courseOffered': 'Deep Learning for Computer Vision', 'name': ['sudhan', 'kumar', 5466], 'record_dict': {'name': 'sudhanshu', 'mail_id': 'sudhanshu@fadfsaf.ai', 'ph_number': 543535}}\n",
      "{'_id': ObjectId('620a49a91a7c7d4b8a7b99c0'), 'companyName': 'iNeuron', 'product': 'Affordable AI', 'courseOffered': 'Machine Learning with Deployment'}\n",
      "{'_id': ObjectId('620a49a91a7c7d4b8a7b99c1'), 'companyName': 'iNeuron', 'product': 'Affordable AI', 'courseOffered': 'Deep Learning for NLP and Computer vision'}\n",
      "{'_id': ObjectId('620a49a91a7c7d4b8a7b99c2'), 'companyName': 'iNeuron', 'product': 'Master Program', 'courseOffered': 'Data Science Masters Program', 'test': 'ffsdfsffsf', 'complex': [{'name': 'sudhanshu', 'list': [554, 545, 454, 54, 5, 4]}, {'email_id': 'sudhanshu@dffsf'}, {'phone_no': 345345345353}, [4, 54, 534, 5, 45, 5, 45, 4]]}\n"
     ]
    }
   ],
   "source": [
    "for i in collection.find(): #Checking records in notebook\n",
    "    print(i)"
   ]
  },
  {
   "cell_type": "markdown",
   "metadata": {},
   "source": [
    "## Query or filter out data in MongoDB"
   ]
  },
  {
   "cell_type": "code",
   "execution_count": 18,
   "metadata": {},
   "outputs": [],
   "source": [
    "inserted_ids = rec.inserted_ids #Unique ids that we have inserted"
   ]
  },
  {
   "cell_type": "code",
   "execution_count": 19,
   "metadata": {},
   "outputs": [
    {
     "name": "stdout",
     "output_type": "stream",
     "text": [
      "0. 620a49a91a7c7d4b8a7b99c0\n",
      "1. 620a49a91a7c7d4b8a7b99c1\n",
      "2. 620a49a91a7c7d4b8a7b99c2\n"
     ]
    }
   ],
   "source": [
    "for idx, unique_ids in enumerate(inserted_ids):\n",
    "    print(f'{idx}. {unique_ids}')"
   ]
  }
 ],
 "metadata": {
  "colab": {
   "authorship_tag": "ABX9TyNC3FuR5eaXYbJw0NPE6YHk",
   "collapsed_sections": [],
   "name": "mongoDB.ipynb",
   "provenance": []
  },
  "kernelspec": {
   "display_name": "Python 3 (ipykernel)",
   "language": "python",
   "name": "python3"
  },
  "language_info": {
   "codemirror_mode": {
    "name": "ipython",
    "version": 3
   },
   "file_extension": ".py",
   "mimetype": "text/x-python",
   "name": "python",
   "nbconvert_exporter": "python",
   "pygments_lexer": "ipython3",
   "version": "3.9.7"
  }
 },
 "nbformat": 4,
 "nbformat_minor": 4
}
