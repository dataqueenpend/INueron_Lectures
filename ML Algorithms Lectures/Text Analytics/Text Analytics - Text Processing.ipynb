{
 "cells": [
  {
   "cell_type": "markdown",
   "id": "0d68e906",
   "metadata": {},
   "source": [
    "### Converting text to numerical information"
   ]
  },
  {
   "cell_type": "code",
   "execution_count": 1,
   "id": "d0363911",
   "metadata": {},
   "outputs": [],
   "source": [
    "import nltk"
   ]
  },
  {
   "cell_type": "code",
   "execution_count": 2,
   "id": "a2620f41",
   "metadata": {},
   "outputs": [],
   "source": [
    "text = \"\"\"Data science is an interdisciplinary field that uses scientific methods, processes, algorithms and systems to extract knowledge and insights from noisy, structured and unstructured data,[1][2] and apply knowledge and actionable insights from data across a broad range of application domains. Data science is related to data mining, machine learning and big data.\n",
    "\n",
    "Data science is a \"concept to unify statistics, data analysis, informatics, and their related methods\" in order to \"understand and analyze actual phenomena\" with data.[3] It uses techniques and theories drawn from many fields within the context of mathematics, statistics, computer science, information science, and domain knowledge. However, data science is different from computer science and information science. Turing Award winner Jim Gray imagined data science as a \"fourth paradigm\" of science (empirical, theoretical, computational, and now data-driven) and asserted that \"everything about science is changing because of the impact of information technology\" and the data deluge.[4][5]\n",
    "\n",
    "A data scientist is someone who creates programming code, and combines it with statistical knowledge to create insights on business data.[6]\"\"\""
   ]
  },
  {
   "cell_type": "markdown",
   "id": "f7638cc1",
   "metadata": {},
   "source": [
    "Converting text to sentences. "
   ]
  },
  {
   "cell_type": "code",
   "execution_count": 4,
   "id": "45a869f3",
   "metadata": {},
   "outputs": [
    {
     "name": "stderr",
     "output_type": "stream",
     "text": [
      "[nltk_data] Downloading package punkt to\n",
      "[nltk_data]     C:\\Users\\kskua\\AppData\\Roaming\\nltk_data...\n",
      "[nltk_data]   Unzipping tokenizers\\punkt.zip.\n"
     ]
    },
    {
     "data": {
      "text/plain": [
       "True"
      ]
     },
     "execution_count": 4,
     "metadata": {},
     "output_type": "execute_result"
    }
   ],
   "source": [
    "nltk.download('punkt')"
   ]
  },
  {
   "cell_type": "code",
   "execution_count": 5,
   "id": "9b296841",
   "metadata": {},
   "outputs": [
    {
     "data": {
      "text/plain": [
       "['Data science is an interdisciplinary field that uses scientific methods, processes, algorithms and systems to extract knowledge and insights from noisy, structured and unstructured data,[1][2] and apply knowledge and actionable insights from data across a broad range of application domains.',\n",
       " 'Data science is related to data mining, machine learning and big data.',\n",
       " 'Data science is a \"concept to unify statistics, data analysis, informatics, and their related methods\" in order to \"understand and analyze actual phenomena\" with data.',\n",
       " '[3] It uses techniques and theories drawn from many fields within the context of mathematics, statistics, computer science, information science, and domain knowledge.',\n",
       " 'However, data science is different from computer science and information science.',\n",
       " 'Turing Award winner Jim Gray imagined data science as a \"fourth paradigm\" of science (empirical, theoretical, computational, and now data-driven) and asserted that \"everything about science is changing because of the impact of information technology\" and the data deluge.',\n",
       " '[4][5]\\n\\nA data scientist is someone who creates programming code, and combines it with statistical knowledge to create insights on business data.',\n",
       " '[6]']"
      ]
     },
     "execution_count": 5,
     "metadata": {},
     "output_type": "execute_result"
    }
   ],
   "source": [
    "nltk.sent_tokenize(text)"
   ]
  },
  {
   "cell_type": "code",
   "execution_count": null,
   "id": "856e9d61",
   "metadata": {},
   "outputs": [],
   "source": [
    "Slicing sentences. "
   ]
  },
  {
   "cell_type": "code",
   "execution_count": 6,
   "id": "2a9eac25",
   "metadata": {},
   "outputs": [
    {
     "data": {
      "text/plain": [
       "'Data science is a \"concept to unify statistics, data analysis, informatics, and their related methods\" in order to \"understand and analyze actual phenomena\" with data.'"
      ]
     },
     "execution_count": 6,
     "metadata": {},
     "output_type": "execute_result"
    }
   ],
   "source": [
    "nltk.sent_tokenize(text)[2]"
   ]
  },
  {
   "cell_type": "markdown",
   "id": "58f856ee",
   "metadata": {},
   "source": [
    "Converting text to words. "
   ]
  },
  {
   "cell_type": "code",
   "execution_count": 7,
   "id": "128de71c",
   "metadata": {},
   "outputs": [
    {
     "data": {
      "text/plain": [
       "['Data',\n",
       " 'science',\n",
       " 'is',\n",
       " 'an',\n",
       " 'interdisciplinary',\n",
       " 'field',\n",
       " 'that',\n",
       " 'uses',\n",
       " 'scientific',\n",
       " 'methods',\n",
       " ',',\n",
       " 'processes',\n",
       " ',',\n",
       " 'algorithms',\n",
       " 'and',\n",
       " 'systems',\n",
       " 'to',\n",
       " 'extract',\n",
       " 'knowledge',\n",
       " 'and',\n",
       " 'insights',\n",
       " 'from',\n",
       " 'noisy',\n",
       " ',',\n",
       " 'structured',\n",
       " 'and',\n",
       " 'unstructured',\n",
       " 'data',\n",
       " ',',\n",
       " '[',\n",
       " '1',\n",
       " ']',\n",
       " '[',\n",
       " '2',\n",
       " ']',\n",
       " 'and',\n",
       " 'apply',\n",
       " 'knowledge',\n",
       " 'and',\n",
       " 'actionable',\n",
       " 'insights',\n",
       " 'from',\n",
       " 'data',\n",
       " 'across',\n",
       " 'a',\n",
       " 'broad',\n",
       " 'range',\n",
       " 'of',\n",
       " 'application',\n",
       " 'domains',\n",
       " '.',\n",
       " 'Data',\n",
       " 'science',\n",
       " 'is',\n",
       " 'related',\n",
       " 'to',\n",
       " 'data',\n",
       " 'mining',\n",
       " ',',\n",
       " 'machine',\n",
       " 'learning',\n",
       " 'and',\n",
       " 'big',\n",
       " 'data',\n",
       " '.',\n",
       " 'Data',\n",
       " 'science',\n",
       " 'is',\n",
       " 'a',\n",
       " '``',\n",
       " 'concept',\n",
       " 'to',\n",
       " 'unify',\n",
       " 'statistics',\n",
       " ',',\n",
       " 'data',\n",
       " 'analysis',\n",
       " ',',\n",
       " 'informatics',\n",
       " ',',\n",
       " 'and',\n",
       " 'their',\n",
       " 'related',\n",
       " 'methods',\n",
       " \"''\",\n",
       " 'in',\n",
       " 'order',\n",
       " 'to',\n",
       " '``',\n",
       " 'understand',\n",
       " 'and',\n",
       " 'analyze',\n",
       " 'actual',\n",
       " 'phenomena',\n",
       " \"''\",\n",
       " 'with',\n",
       " 'data',\n",
       " '.',\n",
       " '[',\n",
       " '3',\n",
       " ']',\n",
       " 'It',\n",
       " 'uses',\n",
       " 'techniques',\n",
       " 'and',\n",
       " 'theories',\n",
       " 'drawn',\n",
       " 'from',\n",
       " 'many',\n",
       " 'fields',\n",
       " 'within',\n",
       " 'the',\n",
       " 'context',\n",
       " 'of',\n",
       " 'mathematics',\n",
       " ',',\n",
       " 'statistics',\n",
       " ',',\n",
       " 'computer',\n",
       " 'science',\n",
       " ',',\n",
       " 'information',\n",
       " 'science',\n",
       " ',',\n",
       " 'and',\n",
       " 'domain',\n",
       " 'knowledge',\n",
       " '.',\n",
       " 'However',\n",
       " ',',\n",
       " 'data',\n",
       " 'science',\n",
       " 'is',\n",
       " 'different',\n",
       " 'from',\n",
       " 'computer',\n",
       " 'science',\n",
       " 'and',\n",
       " 'information',\n",
       " 'science',\n",
       " '.',\n",
       " 'Turing',\n",
       " 'Award',\n",
       " 'winner',\n",
       " 'Jim',\n",
       " 'Gray',\n",
       " 'imagined',\n",
       " 'data',\n",
       " 'science',\n",
       " 'as',\n",
       " 'a',\n",
       " '``',\n",
       " 'fourth',\n",
       " 'paradigm',\n",
       " \"''\",\n",
       " 'of',\n",
       " 'science',\n",
       " '(',\n",
       " 'empirical',\n",
       " ',',\n",
       " 'theoretical',\n",
       " ',',\n",
       " 'computational',\n",
       " ',',\n",
       " 'and',\n",
       " 'now',\n",
       " 'data-driven',\n",
       " ')',\n",
       " 'and',\n",
       " 'asserted',\n",
       " 'that',\n",
       " '``',\n",
       " 'everything',\n",
       " 'about',\n",
       " 'science',\n",
       " 'is',\n",
       " 'changing',\n",
       " 'because',\n",
       " 'of',\n",
       " 'the',\n",
       " 'impact',\n",
       " 'of',\n",
       " 'information',\n",
       " 'technology',\n",
       " \"''\",\n",
       " 'and',\n",
       " 'the',\n",
       " 'data',\n",
       " 'deluge',\n",
       " '.',\n",
       " '[',\n",
       " '4',\n",
       " ']',\n",
       " '[',\n",
       " '5',\n",
       " ']',\n",
       " 'A',\n",
       " 'data',\n",
       " 'scientist',\n",
       " 'is',\n",
       " 'someone',\n",
       " 'who',\n",
       " 'creates',\n",
       " 'programming',\n",
       " 'code',\n",
       " ',',\n",
       " 'and',\n",
       " 'combines',\n",
       " 'it',\n",
       " 'with',\n",
       " 'statistical',\n",
       " 'knowledge',\n",
       " 'to',\n",
       " 'create',\n",
       " 'insights',\n",
       " 'on',\n",
       " 'business',\n",
       " 'data',\n",
       " '.',\n",
       " '[',\n",
       " '6',\n",
       " ']']"
      ]
     },
     "execution_count": 7,
     "metadata": {},
     "output_type": "execute_result"
    }
   ],
   "source": [
    "nltk.word_tokenize(text)"
   ]
  },
  {
   "cell_type": "code",
   "execution_count": 14,
   "id": "8b0f520d",
   "metadata": {},
   "outputs": [],
   "source": [
    "text1 = 'testing nltk lib'"
   ]
  },
  {
   "cell_type": "markdown",
   "id": "dae3b19d",
   "metadata": {},
   "source": [
    "Checking what is a adjecvtive, verb etc in the sentence. "
   ]
  },
  {
   "cell_type": "code",
   "execution_count": 10,
   "id": "5bd22f71",
   "metadata": {},
   "outputs": [
    {
     "name": "stderr",
     "output_type": "stream",
     "text": [
      "[nltk_data] Downloading package averaged_perceptron_tagger to\n",
      "[nltk_data]     C:\\Users\\kskua\\AppData\\Roaming\\nltk_data...\n",
      "[nltk_data]   Unzipping taggers\\averaged_perceptron_tagger.zip.\n"
     ]
    },
    {
     "data": {
      "text/plain": [
       "True"
      ]
     },
     "execution_count": 10,
     "metadata": {},
     "output_type": "execute_result"
    }
   ],
   "source": [
    "nltk.download('averaged_perceptron_tagger')"
   ]
  },
  {
   "cell_type": "code",
   "execution_count": 16,
   "id": "fde835c6",
   "metadata": {},
   "outputs": [
    {
     "data": {
      "text/plain": [
       "[('testing', 'VBG'), ('nltk', 'JJ'), ('lib', 'NN')]"
      ]
     },
     "execution_count": 16,
     "metadata": {},
     "output_type": "execute_result"
    }
   ],
   "source": [
    "nltk.pos_tag(nltk.word_tokenize(text1))"
   ]
  },
  {
   "cell_type": "markdown",
   "id": "27de778a",
   "metadata": {},
   "source": [
    "https://www.guru99.com/pos-tagging-chunking-nltk.html"
   ]
  },
  {
   "cell_type": "markdown",
   "id": "6d69a7ab",
   "metadata": {},
   "source": [
    "#### Removing unnecessary words from the text. For example the words which have any sentiment. "
   ]
  },
  {
   "cell_type": "code",
   "execution_count": 18,
   "id": "41ad733e",
   "metadata": {},
   "outputs": [
    {
     "name": "stderr",
     "output_type": "stream",
     "text": [
      "[nltk_data] Downloading package stopwords to\n",
      "[nltk_data]     C:\\Users\\kskua\\AppData\\Roaming\\nltk_data...\n",
      "[nltk_data]   Unzipping corpora\\stopwords.zip.\n"
     ]
    },
    {
     "data": {
      "text/plain": [
       "True"
      ]
     },
     "execution_count": 18,
     "metadata": {},
     "output_type": "execute_result"
    }
   ],
   "source": [
    "nltk.download('stopwords')"
   ]
  },
  {
   "cell_type": "code",
   "execution_count": 21,
   "id": "514219e4",
   "metadata": {},
   "outputs": [],
   "source": [
    "from nltk.corpus import stopwords\n",
    "stop_words = stopwords.words('english')"
   ]
  },
  {
   "cell_type": "markdown",
   "id": "e1bdc62e",
   "metadata": {},
   "source": [
    "> For othe languages we can download the necessary stopwords. "
   ]
  },
  {
   "cell_type": "markdown",
   "id": "b05411ea",
   "metadata": {},
   "source": [
    "#### Removing punctuation."
   ]
  },
  {
   "cell_type": "code",
   "execution_count": 23,
   "id": "32cb45c7",
   "metadata": {},
   "outputs": [],
   "source": [
    "import string\n",
    "punct = string.punctuation"
   ]
  },
  {
   "cell_type": "code",
   "execution_count": 24,
   "id": "e8eca5e9",
   "metadata": {},
   "outputs": [],
   "source": [
    "l = []\n",
    "for word in nltk.word_tokenize(text):\n",
    "    if word not in stop_words:\n",
    "        if word not in punct:\n",
    "            l.append(word)"
   ]
  },
  {
   "cell_type": "code",
   "execution_count": 25,
   "id": "1b46aac1",
   "metadata": {},
   "outputs": [
    {
     "data": {
      "text/plain": [
       "['Data',\n",
       " 'science',\n",
       " 'interdisciplinary',\n",
       " 'field',\n",
       " 'uses',\n",
       " 'scientific',\n",
       " 'methods',\n",
       " 'processes',\n",
       " 'algorithms',\n",
       " 'systems',\n",
       " 'extract',\n",
       " 'knowledge',\n",
       " 'insights',\n",
       " 'noisy',\n",
       " 'structured',\n",
       " 'unstructured',\n",
       " 'data',\n",
       " '1',\n",
       " '2',\n",
       " 'apply',\n",
       " 'knowledge',\n",
       " 'actionable',\n",
       " 'insights',\n",
       " 'data',\n",
       " 'across',\n",
       " 'broad',\n",
       " 'range',\n",
       " 'application',\n",
       " 'domains',\n",
       " 'Data',\n",
       " 'science',\n",
       " 'related',\n",
       " 'data',\n",
       " 'mining',\n",
       " 'machine',\n",
       " 'learning',\n",
       " 'big',\n",
       " 'data',\n",
       " 'Data',\n",
       " 'science',\n",
       " '``',\n",
       " 'concept',\n",
       " 'unify',\n",
       " 'statistics',\n",
       " 'data',\n",
       " 'analysis',\n",
       " 'informatics',\n",
       " 'related',\n",
       " 'methods',\n",
       " \"''\",\n",
       " 'order',\n",
       " '``',\n",
       " 'understand',\n",
       " 'analyze',\n",
       " 'actual',\n",
       " 'phenomena',\n",
       " \"''\",\n",
       " 'data',\n",
       " '3',\n",
       " 'It',\n",
       " 'uses',\n",
       " 'techniques',\n",
       " 'theories',\n",
       " 'drawn',\n",
       " 'many',\n",
       " 'fields',\n",
       " 'within',\n",
       " 'context',\n",
       " 'mathematics',\n",
       " 'statistics',\n",
       " 'computer',\n",
       " 'science',\n",
       " 'information',\n",
       " 'science',\n",
       " 'domain',\n",
       " 'knowledge',\n",
       " 'However',\n",
       " 'data',\n",
       " 'science',\n",
       " 'different',\n",
       " 'computer',\n",
       " 'science',\n",
       " 'information',\n",
       " 'science',\n",
       " 'Turing',\n",
       " 'Award',\n",
       " 'winner',\n",
       " 'Jim',\n",
       " 'Gray',\n",
       " 'imagined',\n",
       " 'data',\n",
       " 'science',\n",
       " '``',\n",
       " 'fourth',\n",
       " 'paradigm',\n",
       " \"''\",\n",
       " 'science',\n",
       " 'empirical',\n",
       " 'theoretical',\n",
       " 'computational',\n",
       " 'data-driven',\n",
       " 'asserted',\n",
       " '``',\n",
       " 'everything',\n",
       " 'science',\n",
       " 'changing',\n",
       " 'impact',\n",
       " 'information',\n",
       " 'technology',\n",
       " \"''\",\n",
       " 'data',\n",
       " 'deluge',\n",
       " '4',\n",
       " '5',\n",
       " 'A',\n",
       " 'data',\n",
       " 'scientist',\n",
       " 'someone',\n",
       " 'creates',\n",
       " 'programming',\n",
       " 'code',\n",
       " 'combines',\n",
       " 'statistical',\n",
       " 'knowledge',\n",
       " 'create',\n",
       " 'insights',\n",
       " 'business',\n",
       " 'data',\n",
       " '6']"
      ]
     },
     "execution_count": 25,
     "metadata": {},
     "output_type": "execute_result"
    }
   ],
   "source": [
    "l"
   ]
  },
  {
   "cell_type": "code",
   "execution_count": 26,
   "id": "69618271",
   "metadata": {},
   "outputs": [
    {
     "data": {
      "text/plain": [
       "[('Data', 'NNP'),\n",
       " ('science', 'NN'),\n",
       " ('interdisciplinary', 'JJ'),\n",
       " ('field', 'NN'),\n",
       " ('uses', 'VBZ'),\n",
       " ('scientific', 'JJ'),\n",
       " ('methods', 'NNS'),\n",
       " ('processes', 'VBZ'),\n",
       " ('algorithms', 'JJ'),\n",
       " ('systems', 'NNS'),\n",
       " ('extract', 'JJ'),\n",
       " ('knowledge', 'JJ'),\n",
       " ('insights', 'NNS'),\n",
       " ('noisy', 'RB'),\n",
       " ('structured', 'VBD'),\n",
       " ('unstructured', 'JJ'),\n",
       " ('data', 'NNS'),\n",
       " ('1', 'CD'),\n",
       " ('2', 'CD'),\n",
       " ('apply', 'NN'),\n",
       " ('knowledge', 'NN'),\n",
       " ('actionable', 'JJ'),\n",
       " ('insights', 'NNS'),\n",
       " ('data', 'NNS'),\n",
       " ('across', 'IN'),\n",
       " ('broad', 'JJ'),\n",
       " ('range', 'NN'),\n",
       " ('application', 'NN'),\n",
       " ('domains', 'VBZ'),\n",
       " ('Data', 'NNP'),\n",
       " ('science', 'NN'),\n",
       " ('related', 'VBN'),\n",
       " ('data', 'NNS'),\n",
       " ('mining', 'NN'),\n",
       " ('machine', 'NN'),\n",
       " ('learning', 'VBG'),\n",
       " ('big', 'JJ'),\n",
       " ('data', 'NNS'),\n",
       " ('Data', 'NNP'),\n",
       " ('science', 'NN'),\n",
       " ('``', '``'),\n",
       " ('concept', 'JJ'),\n",
       " ('unify', 'JJ'),\n",
       " ('statistics', 'NNS'),\n",
       " ('data', 'NNS'),\n",
       " ('analysis', 'NN'),\n",
       " ('informatics', 'NNS'),\n",
       " ('related', 'JJ'),\n",
       " ('methods', 'NNS'),\n",
       " (\"''\", \"''\"),\n",
       " ('order', 'NN'),\n",
       " ('``', '``'),\n",
       " ('understand', 'JJ'),\n",
       " ('analyze', 'NN'),\n",
       " ('actual', 'JJ'),\n",
       " ('phenomena', 'NN'),\n",
       " (\"''\", \"''\"),\n",
       " ('data', 'NNS'),\n",
       " ('3', 'CD'),\n",
       " ('It', 'PRP'),\n",
       " ('uses', 'VBZ'),\n",
       " ('techniques', 'NNS'),\n",
       " ('theories', 'NNS'),\n",
       " ('drawn', 'VBP'),\n",
       " ('many', 'JJ'),\n",
       " ('fields', 'NNS'),\n",
       " ('within', 'IN'),\n",
       " ('context', 'NN'),\n",
       " ('mathematics', 'NNS'),\n",
       " ('statistics', 'NNS'),\n",
       " ('computer', 'NN'),\n",
       " ('science', 'NN'),\n",
       " ('information', 'NN'),\n",
       " ('science', 'NN'),\n",
       " ('domain', 'NN'),\n",
       " ('knowledge', 'NN'),\n",
       " ('However', 'RB'),\n",
       " ('data', 'VBZ'),\n",
       " ('science', 'NN'),\n",
       " ('different', 'JJ'),\n",
       " ('computer', 'NN'),\n",
       " ('science', 'NN'),\n",
       " ('information', 'NN'),\n",
       " ('science', 'NN'),\n",
       " ('Turing', 'NNP'),\n",
       " ('Award', 'NNP'),\n",
       " ('winner', 'NN'),\n",
       " ('Jim', 'NNP'),\n",
       " ('Gray', 'NNP'),\n",
       " ('imagined', 'VBD'),\n",
       " ('data', 'NNS'),\n",
       " ('science', 'NN'),\n",
       " ('``', '``'),\n",
       " ('fourth', 'JJ'),\n",
       " ('paradigm', 'NN'),\n",
       " (\"''\", \"''\"),\n",
       " ('science', 'NN'),\n",
       " ('empirical', 'JJ'),\n",
       " ('theoretical', 'JJ'),\n",
       " ('computational', 'JJ'),\n",
       " ('data-driven', 'NN'),\n",
       " ('asserted', 'VBD'),\n",
       " ('``', '``'),\n",
       " ('everything', 'NN'),\n",
       " ('science', 'NN'),\n",
       " ('changing', 'VBG'),\n",
       " ('impact', 'JJ'),\n",
       " ('information', 'NN'),\n",
       " ('technology', 'NN'),\n",
       " (\"''\", \"''\"),\n",
       " ('data', 'NNS'),\n",
       " ('deluge', 'VBD'),\n",
       " ('4', 'CD'),\n",
       " ('5', 'CD'),\n",
       " ('A', 'NNP'),\n",
       " ('data', 'NNS'),\n",
       " ('scientist', 'NN'),\n",
       " ('someone', 'NN'),\n",
       " ('creates', 'VBZ'),\n",
       " ('programming', 'VBG'),\n",
       " ('code', 'NN'),\n",
       " ('combines', 'NNS'),\n",
       " ('statistical', 'JJ'),\n",
       " ('knowledge', 'NN'),\n",
       " ('create', 'NN'),\n",
       " ('insights', 'NNS'),\n",
       " ('business', 'NN'),\n",
       " ('data', 'NNS'),\n",
       " ('6', 'CD')]"
      ]
     },
     "execution_count": 26,
     "metadata": {},
     "output_type": "execute_result"
    }
   ],
   "source": [
    "# Parts of speach\n",
    "nltk.pos_tag(l)"
   ]
  },
  {
   "cell_type": "code",
   "execution_count": null,
   "id": "63e62f23",
   "metadata": {},
   "outputs": [],
   "source": []
  }
 ],
 "metadata": {
  "kernelspec": {
   "display_name": "Python 3 (ipykernel)",
   "language": "python",
   "name": "python3"
  },
  "language_info": {
   "codemirror_mode": {
    "name": "ipython",
    "version": 3
   },
   "file_extension": ".py",
   "mimetype": "text/x-python",
   "name": "python",
   "nbconvert_exporter": "python",
   "pygments_lexer": "ipython3",
   "version": "3.9.7"
  }
 },
 "nbformat": 4,
 "nbformat_minor": 5
}
