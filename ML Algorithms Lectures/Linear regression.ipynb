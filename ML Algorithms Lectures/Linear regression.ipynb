{
 "cells": [
  {
   "cell_type": "markdown",
   "id": "53790f0b",
   "metadata": {},
   "source": [
    "## Interview questions \n",
    "\n",
    "https://drive.google.com/drive/folders/1BrZ3ZRDYvwGiiFoH13PEGv-c9RQ0-vWE\n",
    "\n",
    "https://colab.research.google.com/drive/1zfOkg1XCkXVHBQ26soQgPFL3eVFhHLfS - Linear regression notebook"
   ]
  },
  {
   "cell_type": "markdown",
   "id": "4744179c",
   "metadata": {},
   "source": [
    "## Linear regression\n",
    "\n"
   ]
  },
  {
   "cell_type": "markdown",
   "id": "7949bf8c",
   "metadata": {},
   "source": [
    "### Imports"
   ]
  },
  {
   "cell_type": "code",
   "execution_count": 1,
   "id": "b34f0b27",
   "metadata": {},
   "outputs": [],
   "source": [
    "import numpy as np\n",
    "import pandas as pd\n",
    "import matplotlib.pyplot as plt\n",
    "import pickle\n",
    "from pandas_profiling import ProfileReport\n",
    "from sklearn.preprocessing import StandardScaler\n",
    "from sklearn.linear_model import Ridge, Lasso, RidgeCV, LassoCV, ElasticNet, ElasticNetCV\n",
    "from sklearn.model_selection import train_test_split\n",
    "import statsmodels.api as sm\n",
    "import seaborn as sns"
   ]
  },
  {
   "cell_type": "code",
   "execution_count": 2,
   "id": "9787189a",
   "metadata": {},
   "outputs": [
    {
     "data": {
      "text/html": [
       "<div>\n",
       "<style scoped>\n",
       "    .dataframe tbody tr th:only-of-type {\n",
       "        vertical-align: middle;\n",
       "    }\n",
       "\n",
       "    .dataframe tbody tr th {\n",
       "        vertical-align: top;\n",
       "    }\n",
       "\n",
       "    .dataframe thead th {\n",
       "        text-align: right;\n",
       "    }\n",
       "</style>\n",
       "<table border=\"1\" class=\"dataframe\">\n",
       "  <thead>\n",
       "    <tr style=\"text-align: right;\">\n",
       "      <th></th>\n",
       "      <th>Unnamed: 0</th>\n",
       "      <th>TV</th>\n",
       "      <th>Radio</th>\n",
       "      <th>Newspaper</th>\n",
       "      <th>Sales</th>\n",
       "    </tr>\n",
       "  </thead>\n",
       "  <tbody>\n",
       "    <tr>\n",
       "      <th>0</th>\n",
       "      <td>1</td>\n",
       "      <td>230.1</td>\n",
       "      <td>37.8</td>\n",
       "      <td>69.2</td>\n",
       "      <td>22.1</td>\n",
       "    </tr>\n",
       "    <tr>\n",
       "      <th>1</th>\n",
       "      <td>2</td>\n",
       "      <td>44.5</td>\n",
       "      <td>39.3</td>\n",
       "      <td>45.1</td>\n",
       "      <td>10.4</td>\n",
       "    </tr>\n",
       "    <tr>\n",
       "      <th>2</th>\n",
       "      <td>3</td>\n",
       "      <td>17.2</td>\n",
       "      <td>45.9</td>\n",
       "      <td>69.3</td>\n",
       "      <td>9.3</td>\n",
       "    </tr>\n",
       "    <tr>\n",
       "      <th>3</th>\n",
       "      <td>4</td>\n",
       "      <td>151.5</td>\n",
       "      <td>41.3</td>\n",
       "      <td>58.5</td>\n",
       "      <td>18.5</td>\n",
       "    </tr>\n",
       "    <tr>\n",
       "      <th>4</th>\n",
       "      <td>5</td>\n",
       "      <td>180.8</td>\n",
       "      <td>10.8</td>\n",
       "      <td>58.4</td>\n",
       "      <td>12.9</td>\n",
       "    </tr>\n",
       "    <tr>\n",
       "      <th>...</th>\n",
       "      <td>...</td>\n",
       "      <td>...</td>\n",
       "      <td>...</td>\n",
       "      <td>...</td>\n",
       "      <td>...</td>\n",
       "    </tr>\n",
       "    <tr>\n",
       "      <th>195</th>\n",
       "      <td>196</td>\n",
       "      <td>38.2</td>\n",
       "      <td>3.7</td>\n",
       "      <td>13.8</td>\n",
       "      <td>7.6</td>\n",
       "    </tr>\n",
       "    <tr>\n",
       "      <th>196</th>\n",
       "      <td>197</td>\n",
       "      <td>94.2</td>\n",
       "      <td>4.9</td>\n",
       "      <td>8.1</td>\n",
       "      <td>9.7</td>\n",
       "    </tr>\n",
       "    <tr>\n",
       "      <th>197</th>\n",
       "      <td>198</td>\n",
       "      <td>177.0</td>\n",
       "      <td>9.3</td>\n",
       "      <td>6.4</td>\n",
       "      <td>12.8</td>\n",
       "    </tr>\n",
       "    <tr>\n",
       "      <th>198</th>\n",
       "      <td>199</td>\n",
       "      <td>283.6</td>\n",
       "      <td>42.0</td>\n",
       "      <td>66.2</td>\n",
       "      <td>25.5</td>\n",
       "    </tr>\n",
       "    <tr>\n",
       "      <th>199</th>\n",
       "      <td>200</td>\n",
       "      <td>232.1</td>\n",
       "      <td>8.6</td>\n",
       "      <td>8.7</td>\n",
       "      <td>13.4</td>\n",
       "    </tr>\n",
       "  </tbody>\n",
       "</table>\n",
       "<p>200 rows × 5 columns</p>\n",
       "</div>"
      ],
      "text/plain": [
       "     Unnamed: 0     TV  Radio  Newspaper  Sales\n",
       "0             1  230.1   37.8       69.2   22.1\n",
       "1             2   44.5   39.3       45.1   10.4\n",
       "2             3   17.2   45.9       69.3    9.3\n",
       "3             4  151.5   41.3       58.5   18.5\n",
       "4             5  180.8   10.8       58.4   12.9\n",
       "..          ...    ...    ...        ...    ...\n",
       "195         196   38.2    3.7       13.8    7.6\n",
       "196         197   94.2    4.9        8.1    9.7\n",
       "197         198  177.0    9.3        6.4   12.8\n",
       "198         199  283.6   42.0       66.2   25.5\n",
       "199         200  232.1    8.6        8.7   13.4\n",
       "\n",
       "[200 rows x 5 columns]"
      ]
     },
     "execution_count": 2,
     "metadata": {},
     "output_type": "execute_result"
    }
   ],
   "source": [
    "df = pd.read_csv('Advertising.csv')\n",
    "df"
   ]
  },
  {
   "cell_type": "markdown",
   "id": "493464b0",
   "metadata": {},
   "source": [
    "### Defining the problem \n",
    "    > We have 3 columns regarding 3 various types of advertisement:\n",
    "        * TV,\n",
    "        * Radio, \n",
    "        * Newspaper.\n",
    "\n",
    "Our task is to study, how much the differnt types of advertisement impact the sales. And build a model, which will predict the impact on sales.  \n",
    "\n",
    "Task #2 - Were the amount of money invest in the specific type of adverisement will allow to achieve the goal in sales?\n",
    "Task #3 - If there are some relations between variables? If they are we can try to implement Linear Regression."
   ]
  },
  {
   "cell_type": "code",
   "execution_count": 3,
   "id": "b38669cb",
   "metadata": {},
   "outputs": [
    {
     "data": {
      "text/html": [
       "<div>\n",
       "<style scoped>\n",
       "    .dataframe tbody tr th:only-of-type {\n",
       "        vertical-align: middle;\n",
       "    }\n",
       "\n",
       "    .dataframe tbody tr th {\n",
       "        vertical-align: top;\n",
       "    }\n",
       "\n",
       "    .dataframe thead th {\n",
       "        text-align: right;\n",
       "    }\n",
       "</style>\n",
       "<table border=\"1\" class=\"dataframe\">\n",
       "  <thead>\n",
       "    <tr style=\"text-align: right;\">\n",
       "      <th></th>\n",
       "      <th>Unnamed: 0</th>\n",
       "      <th>TV</th>\n",
       "      <th>Radio</th>\n",
       "      <th>Newspaper</th>\n",
       "      <th>Sales</th>\n",
       "    </tr>\n",
       "  </thead>\n",
       "  <tbody>\n",
       "    <tr>\n",
       "      <th>0</th>\n",
       "      <td>1</td>\n",
       "      <td>230.1</td>\n",
       "      <td>37.8</td>\n",
       "      <td>69.2</td>\n",
       "      <td>22.1</td>\n",
       "    </tr>\n",
       "    <tr>\n",
       "      <th>1</th>\n",
       "      <td>2</td>\n",
       "      <td>44.5</td>\n",
       "      <td>39.3</td>\n",
       "      <td>45.1</td>\n",
       "      <td>10.4</td>\n",
       "    </tr>\n",
       "    <tr>\n",
       "      <th>2</th>\n",
       "      <td>3</td>\n",
       "      <td>17.2</td>\n",
       "      <td>45.9</td>\n",
       "      <td>69.3</td>\n",
       "      <td>9.3</td>\n",
       "    </tr>\n",
       "    <tr>\n",
       "      <th>3</th>\n",
       "      <td>4</td>\n",
       "      <td>151.5</td>\n",
       "      <td>41.3</td>\n",
       "      <td>58.5</td>\n",
       "      <td>18.5</td>\n",
       "    </tr>\n",
       "    <tr>\n",
       "      <th>4</th>\n",
       "      <td>5</td>\n",
       "      <td>180.8</td>\n",
       "      <td>10.8</td>\n",
       "      <td>58.4</td>\n",
       "      <td>12.9</td>\n",
       "    </tr>\n",
       "  </tbody>\n",
       "</table>\n",
       "</div>"
      ],
      "text/plain": [
       "   Unnamed: 0     TV  Radio  Newspaper  Sales\n",
       "0           1  230.1   37.8       69.2   22.1\n",
       "1           2   44.5   39.3       45.1   10.4\n",
       "2           3   17.2   45.9       69.3    9.3\n",
       "3           4  151.5   41.3       58.5   18.5\n",
       "4           5  180.8   10.8       58.4   12.9"
      ]
     },
     "execution_count": 3,
     "metadata": {},
     "output_type": "execute_result"
    }
   ],
   "source": [
    "# Basic EDA\n",
    "df.head()"
   ]
  },
  {
   "cell_type": "code",
   "execution_count": 4,
   "id": "c7517f53",
   "metadata": {},
   "outputs": [
    {
     "data": {
      "text/html": [
       "<div>\n",
       "<style scoped>\n",
       "    .dataframe tbody tr th:only-of-type {\n",
       "        vertical-align: middle;\n",
       "    }\n",
       "\n",
       "    .dataframe tbody tr th {\n",
       "        vertical-align: top;\n",
       "    }\n",
       "\n",
       "    .dataframe thead th {\n",
       "        text-align: right;\n",
       "    }\n",
       "</style>\n",
       "<table border=\"1\" class=\"dataframe\">\n",
       "  <thead>\n",
       "    <tr style=\"text-align: right;\">\n",
       "      <th></th>\n",
       "      <th>Unnamed: 0</th>\n",
       "      <th>TV</th>\n",
       "      <th>Radio</th>\n",
       "      <th>Newspaper</th>\n",
       "      <th>Sales</th>\n",
       "    </tr>\n",
       "  </thead>\n",
       "  <tbody>\n",
       "    <tr>\n",
       "      <th>count</th>\n",
       "      <td>200.000000</td>\n",
       "      <td>200.000000</td>\n",
       "      <td>200.000000</td>\n",
       "      <td>200.000000</td>\n",
       "      <td>200.000000</td>\n",
       "    </tr>\n",
       "    <tr>\n",
       "      <th>mean</th>\n",
       "      <td>100.500000</td>\n",
       "      <td>147.042500</td>\n",
       "      <td>23.264000</td>\n",
       "      <td>30.554000</td>\n",
       "      <td>14.022500</td>\n",
       "    </tr>\n",
       "    <tr>\n",
       "      <th>std</th>\n",
       "      <td>57.879185</td>\n",
       "      <td>85.854236</td>\n",
       "      <td>14.846809</td>\n",
       "      <td>21.778621</td>\n",
       "      <td>5.217457</td>\n",
       "    </tr>\n",
       "    <tr>\n",
       "      <th>min</th>\n",
       "      <td>1.000000</td>\n",
       "      <td>0.700000</td>\n",
       "      <td>0.000000</td>\n",
       "      <td>0.300000</td>\n",
       "      <td>1.600000</td>\n",
       "    </tr>\n",
       "    <tr>\n",
       "      <th>25%</th>\n",
       "      <td>50.750000</td>\n",
       "      <td>74.375000</td>\n",
       "      <td>9.975000</td>\n",
       "      <td>12.750000</td>\n",
       "      <td>10.375000</td>\n",
       "    </tr>\n",
       "    <tr>\n",
       "      <th>50%</th>\n",
       "      <td>100.500000</td>\n",
       "      <td>149.750000</td>\n",
       "      <td>22.900000</td>\n",
       "      <td>25.750000</td>\n",
       "      <td>12.900000</td>\n",
       "    </tr>\n",
       "    <tr>\n",
       "      <th>75%</th>\n",
       "      <td>150.250000</td>\n",
       "      <td>218.825000</td>\n",
       "      <td>36.525000</td>\n",
       "      <td>45.100000</td>\n",
       "      <td>17.400000</td>\n",
       "    </tr>\n",
       "    <tr>\n",
       "      <th>max</th>\n",
       "      <td>200.000000</td>\n",
       "      <td>296.400000</td>\n",
       "      <td>49.600000</td>\n",
       "      <td>114.000000</td>\n",
       "      <td>27.000000</td>\n",
       "    </tr>\n",
       "  </tbody>\n",
       "</table>\n",
       "</div>"
      ],
      "text/plain": [
       "       Unnamed: 0          TV       Radio   Newspaper       Sales\n",
       "count  200.000000  200.000000  200.000000  200.000000  200.000000\n",
       "mean   100.500000  147.042500   23.264000   30.554000   14.022500\n",
       "std     57.879185   85.854236   14.846809   21.778621    5.217457\n",
       "min      1.000000    0.700000    0.000000    0.300000    1.600000\n",
       "25%     50.750000   74.375000    9.975000   12.750000   10.375000\n",
       "50%    100.500000  149.750000   22.900000   25.750000   12.900000\n",
       "75%    150.250000  218.825000   36.525000   45.100000   17.400000\n",
       "max    200.000000  296.400000   49.600000  114.000000   27.000000"
      ]
     },
     "execution_count": 4,
     "metadata": {},
     "output_type": "execute_result"
    }
   ],
   "source": [
    "df.describe()"
   ]
  },
  {
   "cell_type": "code",
   "execution_count": 5,
   "id": "9d74bda3",
   "metadata": {},
   "outputs": [
    {
     "data": {
      "application/vnd.jupyter.widget-view+json": {
       "model_id": "2f35b5ae0f784624884d29e515d655eb",
       "version_major": 2,
       "version_minor": 0
      },
      "text/plain": [
       "Tab(children=(HTML(value='<div id=\"overview-content\" class=\"row variable spacing\">\\n    <div class=\"row\">\\n   …"
      ]
     },
     "metadata": {},
     "output_type": "display_data"
    },
    {
     "data": {
      "text/html": [
       "Report generated with <a href=\"https://github.com/pandas-profiling/pandas-profiling\">pandas-profiling</a>."
      ],
      "text/plain": [
       "<IPython.core.display.HTML object>"
      ]
     },
     "metadata": {},
     "output_type": "display_data"
    },
    {
     "data": {
      "text/plain": []
     },
     "execution_count": 5,
     "metadata": {},
     "output_type": "execute_result"
    }
   ],
   "source": [
    "# Pandas profiling\n",
    "ProfileReport(df)"
   ]
  },
  {
   "cell_type": "code",
   "execution_count": 6,
   "id": "656e8c65",
   "metadata": {},
   "outputs": [
    {
     "data": {
      "application/vnd.jupyter.widget-view+json": {
       "model_id": "18f4847b86354cb6b388e526548505cd",
       "version_major": 2,
       "version_minor": 0
      },
      "text/plain": [
       "Tab(children=(HTML(value='<div id=\"overview-content\" class=\"row variable spacing\">\\n    <div class=\"row\">\\n   …"
      ]
     },
     "metadata": {},
     "output_type": "display_data"
    },
    {
     "data": {
      "text/html": [
       "Report generated with <a href=\"https://github.com/pandas-profiling/pandas-profiling\">pandas-profiling</a>."
      ],
      "text/plain": [
       "<IPython.core.display.HTML object>"
      ]
     },
     "metadata": {},
     "output_type": "display_data"
    }
   ],
   "source": [
    "# Saving PF to variable for beautification\n",
    "pf = ProfileReport(df)\n",
    "pf.to_widgets()"
   ]
  },
  {
   "cell_type": "code",
   "execution_count": 7,
   "id": "062202f9",
   "metadata": {},
   "outputs": [],
   "source": [
    "# Saving report\n",
    "pf.to_file('pf_advertising.html')"
   ]
  },
  {
   "cell_type": "markdown",
   "id": "ba628df8",
   "metadata": {},
   "source": [
    "### Multicolinearity \n",
    "\n",
    "Two independent variable which are highly correlated to each other. In this case one of them needs to be dropped. Why? Because upon feeding the data to the model, it will start to learn correlation in the dataset (x1, x2) and not work on the correlations between x and y. \n",
    "\n",
    "\n",
    "> In this dataset we do not have multicolinearity. We do not need to drop any columns, because of it. "
   ]
  },
  {
   "cell_type": "markdown",
   "id": "11cacc62",
   "metadata": {},
   "source": [
    "## Building a model\n",
    "\n",
    "Building Linear regression model with Tv and Sales. (the highest correlation)\n",
    "\n",
    "y = mx + c\n",
    "\n",
    "y - predictions\n",
    "m - \n",
    "c - "
   ]
  },
  {
   "cell_type": "code",
   "execution_count": 8,
   "id": "ef64be59",
   "metadata": {},
   "outputs": [],
   "source": [
    "# Selecting variables X, y\n",
    "X = df[['TV']]\n",
    "y = df['Sales']"
   ]
  },
  {
   "cell_type": "markdown",
   "id": "a3530617",
   "metadata": {},
   "source": [
    "### Using sklearn"
   ]
  },
  {
   "cell_type": "code",
   "execution_count": 9,
   "id": "e967b18b",
   "metadata": {},
   "outputs": [],
   "source": [
    "from sklearn.linear_model import LinearRegression"
   ]
  },
  {
   "cell_type": "code",
   "execution_count": 10,
   "id": "01434af6",
   "metadata": {},
   "outputs": [],
   "source": [
    "lin_reg = LinearRegression()"
   ]
  },
  {
   "cell_type": "code",
   "execution_count": 11,
   "id": "a71b4ead",
   "metadata": {},
   "outputs": [
    {
     "data": {
      "text/plain": [
       "LinearRegression()"
      ]
     },
     "execution_count": 11,
     "metadata": {},
     "output_type": "execute_result"
    }
   ],
   "source": [
    "lin_reg.fit(X, y)"
   ]
  },
  {
   "cell_type": "markdown",
   "id": "530f81b7",
   "metadata": {},
   "source": [
    "#### Checking the values of m and c"
   ]
  },
  {
   "cell_type": "code",
   "execution_count": 12,
   "id": "dfb4a4ef",
   "metadata": {},
   "outputs": [
    {
     "data": {
      "text/plain": [
       "7.032593549127693"
      ]
     },
     "execution_count": 12,
     "metadata": {},
     "output_type": "execute_result"
    }
   ],
   "source": [
    "lin_reg.intercept_ # c value"
   ]
  },
  {
   "cell_type": "code",
   "execution_count": 13,
   "id": "05500a35",
   "metadata": {},
   "outputs": [
    {
     "data": {
      "text/plain": [
       "array([0.04753664])"
      ]
     },
     "execution_count": 13,
     "metadata": {},
     "output_type": "execute_result"
    }
   ],
   "source": [
    "lin_reg.coef_ # m value"
   ]
  },
  {
   "cell_type": "markdown",
   "id": "991224ab",
   "metadata": {},
   "source": [
    "#### Equation for sales\n",
    "\n",
    "    > sales = m*x + c"
   ]
  },
  {
   "cell_type": "code",
   "execution_count": 14,
   "id": "32d3e075",
   "metadata": {},
   "outputs": [],
   "source": [
    "# Saving model to file\n",
    "model = 'lin_reg.sav'\n",
    "pickle.dump(lin_reg, open(model,'wb'))"
   ]
  },
  {
   "cell_type": "markdown",
   "id": "bdfbc93d",
   "metadata": {},
   "source": [
    "#### Predictions"
   ]
  },
  {
   "cell_type": "code",
   "execution_count": 15,
   "id": "369fe907",
   "metadata": {},
   "outputs": [
    {
     "data": {
      "text/plain": [
       "array([9.17174237])"
      ]
     },
     "execution_count": 15,
     "metadata": {},
     "output_type": "execute_result"
    }
   ],
   "source": [
    "# Predicting 45 on Tv, results in sales\n",
    "lin_reg.predict([[45]])"
   ]
  },
  {
   "cell_type": "code",
   "execution_count": 16,
   "id": "79570d35",
   "metadata": {},
   "outputs": [
    {
     "name": "stdout",
     "output_type": "stream",
     "text": [
      "[7.22274011]\n",
      "[7.27027675]\n",
      "[7.31781339]\n",
      "[7.36535003]\n",
      "[11.26335455]\n",
      "[8.64883932]\n",
      "[9.17174237]\n",
      "[10.21754846]\n",
      "[8.12593628]\n"
     ]
    }
   ],
   "source": [
    "# Predicting on multiple values\n",
    "l = [4,5,6,7,89,34,45,67,23]\n",
    "\n",
    "for i in l:\n",
    "    print(lin_reg.predict([[i]]))"
   ]
  },
  {
   "cell_type": "code",
   "execution_count": 17,
   "id": "f528babb",
   "metadata": {},
   "outputs": [],
   "source": [
    "# Loading saved model\n",
    "sav_model = pickle.load(open(model, 'rb'))"
   ]
  },
  {
   "cell_type": "code",
   "execution_count": 18,
   "id": "70ff7dbe",
   "metadata": {},
   "outputs": [
    {
     "data": {
      "text/plain": [
       "array([9.17174237])"
      ]
     },
     "execution_count": 18,
     "metadata": {},
     "output_type": "execute_result"
    }
   ],
   "source": [
    "# Preciting with saved, loaded model\n",
    "sav_model.predict([[45]])"
   ]
  },
  {
   "cell_type": "markdown",
   "id": "7d79d14e",
   "metadata": {},
   "source": [
    "#### Evaluations of the model\n",
    "\n",
    "Note that evaluation on the same data as we are doing training is done here only for learning purposes. We shouldn't do evaluation on the same data. "
   ]
  },
  {
   "cell_type": "code",
   "execution_count": 19,
   "id": "e0e6a4a1",
   "metadata": {},
   "outputs": [
    {
     "data": {
      "text/plain": [
       "0.611875050850071"
      ]
     },
     "execution_count": 19,
     "metadata": {},
     "output_type": "execute_result"
    }
   ],
   "source": [
    "lin_reg.score(X,y) # Evalution with rsquared "
   ]
  },
  {
   "cell_type": "markdown",
   "id": "3ed3a8ee",
   "metadata": {},
   "source": [
    "## Multilinear Regression"
   ]
  },
  {
   "cell_type": "code",
   "execution_count": 20,
   "id": "38491e41",
   "metadata": {},
   "outputs": [],
   "source": [
    "data_x = df[['TV', 'Radio', 'Newspaper']]"
   ]
  },
  {
   "cell_type": "code",
   "execution_count": 21,
   "id": "f3bc71e7",
   "metadata": {},
   "outputs": [
    {
     "data": {
      "text/html": [
       "<div>\n",
       "<style scoped>\n",
       "    .dataframe tbody tr th:only-of-type {\n",
       "        vertical-align: middle;\n",
       "    }\n",
       "\n",
       "    .dataframe tbody tr th {\n",
       "        vertical-align: top;\n",
       "    }\n",
       "\n",
       "    .dataframe thead th {\n",
       "        text-align: right;\n",
       "    }\n",
       "</style>\n",
       "<table border=\"1\" class=\"dataframe\">\n",
       "  <thead>\n",
       "    <tr style=\"text-align: right;\">\n",
       "      <th></th>\n",
       "      <th>TV</th>\n",
       "      <th>Radio</th>\n",
       "      <th>Newspaper</th>\n",
       "    </tr>\n",
       "  </thead>\n",
       "  <tbody>\n",
       "    <tr>\n",
       "      <th>0</th>\n",
       "      <td>230.1</td>\n",
       "      <td>37.8</td>\n",
       "      <td>69.2</td>\n",
       "    </tr>\n",
       "    <tr>\n",
       "      <th>1</th>\n",
       "      <td>44.5</td>\n",
       "      <td>39.3</td>\n",
       "      <td>45.1</td>\n",
       "    </tr>\n",
       "    <tr>\n",
       "      <th>2</th>\n",
       "      <td>17.2</td>\n",
       "      <td>45.9</td>\n",
       "      <td>69.3</td>\n",
       "    </tr>\n",
       "    <tr>\n",
       "      <th>3</th>\n",
       "      <td>151.5</td>\n",
       "      <td>41.3</td>\n",
       "      <td>58.5</td>\n",
       "    </tr>\n",
       "    <tr>\n",
       "      <th>4</th>\n",
       "      <td>180.8</td>\n",
       "      <td>10.8</td>\n",
       "      <td>58.4</td>\n",
       "    </tr>\n",
       "    <tr>\n",
       "      <th>...</th>\n",
       "      <td>...</td>\n",
       "      <td>...</td>\n",
       "      <td>...</td>\n",
       "    </tr>\n",
       "    <tr>\n",
       "      <th>195</th>\n",
       "      <td>38.2</td>\n",
       "      <td>3.7</td>\n",
       "      <td>13.8</td>\n",
       "    </tr>\n",
       "    <tr>\n",
       "      <th>196</th>\n",
       "      <td>94.2</td>\n",
       "      <td>4.9</td>\n",
       "      <td>8.1</td>\n",
       "    </tr>\n",
       "    <tr>\n",
       "      <th>197</th>\n",
       "      <td>177.0</td>\n",
       "      <td>9.3</td>\n",
       "      <td>6.4</td>\n",
       "    </tr>\n",
       "    <tr>\n",
       "      <th>198</th>\n",
       "      <td>283.6</td>\n",
       "      <td>42.0</td>\n",
       "      <td>66.2</td>\n",
       "    </tr>\n",
       "    <tr>\n",
       "      <th>199</th>\n",
       "      <td>232.1</td>\n",
       "      <td>8.6</td>\n",
       "      <td>8.7</td>\n",
       "    </tr>\n",
       "  </tbody>\n",
       "</table>\n",
       "<p>200 rows × 3 columns</p>\n",
       "</div>"
      ],
      "text/plain": [
       "        TV  Radio  Newspaper\n",
       "0    230.1   37.8       69.2\n",
       "1     44.5   39.3       45.1\n",
       "2     17.2   45.9       69.3\n",
       "3    151.5   41.3       58.5\n",
       "4    180.8   10.8       58.4\n",
       "..     ...    ...        ...\n",
       "195   38.2    3.7       13.8\n",
       "196   94.2    4.9        8.1\n",
       "197  177.0    9.3        6.4\n",
       "198  283.6   42.0       66.2\n",
       "199  232.1    8.6        8.7\n",
       "\n",
       "[200 rows x 3 columns]"
      ]
     },
     "execution_count": 21,
     "metadata": {},
     "output_type": "execute_result"
    }
   ],
   "source": [
    "data_x"
   ]
  },
  {
   "cell_type": "code",
   "execution_count": 22,
   "id": "d2803319",
   "metadata": {},
   "outputs": [],
   "source": [
    "y = df.Sales"
   ]
  },
  {
   "cell_type": "code",
   "execution_count": 23,
   "id": "f69abf06",
   "metadata": {},
   "outputs": [
    {
     "data": {
      "text/plain": [
       "LinearRegression()"
      ]
     },
     "execution_count": 23,
     "metadata": {},
     "output_type": "execute_result"
    }
   ],
   "source": [
    "lin_reg.fit(data_x, y)"
   ]
  },
  {
   "cell_type": "code",
   "execution_count": 24,
   "id": "c4a89734",
   "metadata": {},
   "outputs": [
    {
     "data": {
      "text/plain": [
       "(2.9388893694594085, array([ 0.04576465,  0.18853002, -0.00103749]))"
      ]
     },
     "execution_count": 24,
     "metadata": {},
     "output_type": "execute_result"
    }
   ],
   "source": [
    "lin_reg.intercept_, lin_reg.coef_"
   ]
  },
  {
   "cell_type": "markdown",
   "id": "155c2ed8",
   "metadata": {},
   "source": [
    "### Equation for multilinear regression\n",
    "\n",
    "y = mx1 + mx2 + mx3 + c\n",
    "y = 0.04 (TV) + 0.188 (Radio) - 0.00103 (Newspaper) + 2.938 (intercept -> c)\n",
    "\n",
    "\n",
    "### What will be the Confidence Interval on r-squared?"
   ]
  },
  {
   "cell_type": "code",
   "execution_count": 25,
   "id": "f4ae596d",
   "metadata": {},
   "outputs": [
    {
     "data": {
      "text/plain": [
       "0.8972106381789522"
      ]
     },
     "execution_count": 25,
     "metadata": {},
     "output_type": "execute_result"
    }
   ],
   "source": [
    "lin_reg.score(data_x, y)"
   ]
  },
  {
   "cell_type": "markdown",
   "id": "958afd8c",
   "metadata": {},
   "source": [
    "**Conclusion**\n",
    "    > Score is better for multilinear regression. Multiple columns output better predictions. "
   ]
  },
  {
   "cell_type": "markdown",
   "id": "e6bfcf0a",
   "metadata": {},
   "source": [
    "#### Checking r-squared for TV and radio"
   ]
  },
  {
   "cell_type": "code",
   "execution_count": 26,
   "id": "1d75b650",
   "metadata": {},
   "outputs": [],
   "source": [
    "sel_data = df[['TV', 'Radio']]"
   ]
  },
  {
   "cell_type": "code",
   "execution_count": 27,
   "id": "66e6e333",
   "metadata": {},
   "outputs": [
    {
     "data": {
      "text/plain": [
       "LinearRegression()"
      ]
     },
     "execution_count": 27,
     "metadata": {},
     "output_type": "execute_result"
    }
   ],
   "source": [
    "lin_reg.fit(sel_data, y)"
   ]
  },
  {
   "cell_type": "code",
   "execution_count": 28,
   "id": "4446c180",
   "metadata": {},
   "outputs": [
    {
     "data": {
      "text/plain": [
       "0.8971942610828956"
      ]
     },
     "execution_count": 28,
     "metadata": {},
     "output_type": "execute_result"
    }
   ],
   "source": [
    "    lin_reg.score(sel_data, y)"
   ]
  },
  {
   "cell_type": "markdown",
   "id": "b6e27eef",
   "metadata": {},
   "source": [
    "**Conlusion**\n",
    "    > From the data we can see there is no difference in score between having 2 or 3 columns. It seems that investment in newspaper advertisement is not changing anything to the score in this case. \n",
    "    \n",
    "    > Base on the results, we can conclude, that Newspaper column should be dropped. It is not affecting the sales in positive direction.  \n",
    "    \n",
    "Note! That r-squared is not only way to evaluate features scores. "
   ]
  },
  {
   "cell_type": "markdown",
   "id": "e2f57f05",
   "metadata": {},
   "source": [
    "### Evaluation base on statistical models - Feature selection"
   ]
  },
  {
   "cell_type": "code",
   "execution_count": 29,
   "id": "f347646c",
   "metadata": {},
   "outputs": [],
   "source": [
    "import statsmodels.formula.api as smf"
   ]
  },
  {
   "cell_type": "code",
   "execution_count": 30,
   "id": "629c9f20",
   "metadata": {},
   "outputs": [
    {
     "data": {
      "text/html": [
       "<table class=\"simpletable\">\n",
       "<caption>OLS Regression Results</caption>\n",
       "<tr>\n",
       "  <th>Dep. Variable:</th>          <td>Sales</td>      <th>  R-squared:         </th> <td>   0.612</td>\n",
       "</tr>\n",
       "<tr>\n",
       "  <th>Model:</th>                   <td>OLS</td>       <th>  Adj. R-squared:    </th> <td>   0.610</td>\n",
       "</tr>\n",
       "<tr>\n",
       "  <th>Method:</th>             <td>Least Squares</td>  <th>  F-statistic:       </th> <td>   312.1</td>\n",
       "</tr>\n",
       "<tr>\n",
       "  <th>Date:</th>             <td>Thu, 10 Mar 2022</td> <th>  Prob (F-statistic):</th> <td>1.47e-42</td>\n",
       "</tr>\n",
       "<tr>\n",
       "  <th>Time:</th>                 <td>13:50:37</td>     <th>  Log-Likelihood:    </th> <td> -519.05</td>\n",
       "</tr>\n",
       "<tr>\n",
       "  <th>No. Observations:</th>      <td>   200</td>      <th>  AIC:               </th> <td>   1042.</td>\n",
       "</tr>\n",
       "<tr>\n",
       "  <th>Df Residuals:</th>          <td>   198</td>      <th>  BIC:               </th> <td>   1049.</td>\n",
       "</tr>\n",
       "<tr>\n",
       "  <th>Df Model:</th>              <td>     1</td>      <th>                     </th>     <td> </td>   \n",
       "</tr>\n",
       "<tr>\n",
       "  <th>Covariance Type:</th>      <td>nonrobust</td>    <th>                     </th>     <td> </td>   \n",
       "</tr>\n",
       "</table>\n",
       "<table class=\"simpletable\">\n",
       "<tr>\n",
       "      <td></td>         <th>coef</th>     <th>std err</th>      <th>t</th>      <th>P>|t|</th>  <th>[0.025</th>    <th>0.975]</th>  \n",
       "</tr>\n",
       "<tr>\n",
       "  <th>Intercept</th> <td>    7.0326</td> <td>    0.458</td> <td>   15.360</td> <td> 0.000</td> <td>    6.130</td> <td>    7.935</td>\n",
       "</tr>\n",
       "<tr>\n",
       "  <th>TV</th>        <td>    0.0475</td> <td>    0.003</td> <td>   17.668</td> <td> 0.000</td> <td>    0.042</td> <td>    0.053</td>\n",
       "</tr>\n",
       "</table>\n",
       "<table class=\"simpletable\">\n",
       "<tr>\n",
       "  <th>Omnibus:</th>       <td> 0.531</td> <th>  Durbin-Watson:     </th> <td>   1.935</td>\n",
       "</tr>\n",
       "<tr>\n",
       "  <th>Prob(Omnibus):</th> <td> 0.767</td> <th>  Jarque-Bera (JB):  </th> <td>   0.669</td>\n",
       "</tr>\n",
       "<tr>\n",
       "  <th>Skew:</th>          <td>-0.089</td> <th>  Prob(JB):          </th> <td>   0.716</td>\n",
       "</tr>\n",
       "<tr>\n",
       "  <th>Kurtosis:</th>      <td> 2.779</td> <th>  Cond. No.          </th> <td>    338.</td>\n",
       "</tr>\n",
       "</table><br/><br/>Notes:<br/>[1] Standard Errors assume that the covariance matrix of the errors is correctly specified."
      ],
      "text/plain": [
       "<class 'statsmodels.iolib.summary.Summary'>\n",
       "\"\"\"\n",
       "                            OLS Regression Results                            \n",
       "==============================================================================\n",
       "Dep. Variable:                  Sales   R-squared:                       0.612\n",
       "Model:                            OLS   Adj. R-squared:                  0.610\n",
       "Method:                 Least Squares   F-statistic:                     312.1\n",
       "Date:                Thu, 10 Mar 2022   Prob (F-statistic):           1.47e-42\n",
       "Time:                        13:50:37   Log-Likelihood:                -519.05\n",
       "No. Observations:                 200   AIC:                             1042.\n",
       "Df Residuals:                     198   BIC:                             1049.\n",
       "Df Model:                           1                                         \n",
       "Covariance Type:            nonrobust                                         \n",
       "==============================================================================\n",
       "                 coef    std err          t      P>|t|      [0.025      0.975]\n",
       "------------------------------------------------------------------------------\n",
       "Intercept      7.0326      0.458     15.360      0.000       6.130       7.935\n",
       "TV             0.0475      0.003     17.668      0.000       0.042       0.053\n",
       "==============================================================================\n",
       "Omnibus:                        0.531   Durbin-Watson:                   1.935\n",
       "Prob(Omnibus):                  0.767   Jarque-Bera (JB):                0.669\n",
       "Skew:                          -0.089   Prob(JB):                        0.716\n",
       "Kurtosis:                       2.779   Cond. No.                         338.\n",
       "==============================================================================\n",
       "\n",
       "Notes:\n",
       "[1] Standard Errors assume that the covariance matrix of the errors is correctly specified.\n",
       "\"\"\""
      ]
     },
     "execution_count": 30,
     "metadata": {},
     "output_type": "execute_result"
    }
   ],
   "source": [
    "lm = smf.ols(formula = 'Sales ~ TV', data=df).fit() # Ordinary Least Squares\n",
    "lm.summary()"
   ]
  },
  {
   "cell_type": "code",
   "execution_count": 31,
   "id": "56791122",
   "metadata": {},
   "outputs": [
    {
     "data": {
      "text/html": [
       "<table class=\"simpletable\">\n",
       "<caption>OLS Regression Results</caption>\n",
       "<tr>\n",
       "  <th>Dep. Variable:</th>          <td>Sales</td>      <th>  R-squared:         </th> <td>   0.897</td>\n",
       "</tr>\n",
       "<tr>\n",
       "  <th>Model:</th>                   <td>OLS</td>       <th>  Adj. R-squared:    </th> <td>   0.896</td>\n",
       "</tr>\n",
       "<tr>\n",
       "  <th>Method:</th>             <td>Least Squares</td>  <th>  F-statistic:       </th> <td>   859.6</td>\n",
       "</tr>\n",
       "<tr>\n",
       "  <th>Date:</th>             <td>Thu, 10 Mar 2022</td> <th>  Prob (F-statistic):</th> <td>4.83e-98</td>\n",
       "</tr>\n",
       "<tr>\n",
       "  <th>Time:</th>                 <td>13:50:37</td>     <th>  Log-Likelihood:    </th> <td> -386.20</td>\n",
       "</tr>\n",
       "<tr>\n",
       "  <th>No. Observations:</th>      <td>   200</td>      <th>  AIC:               </th> <td>   778.4</td>\n",
       "</tr>\n",
       "<tr>\n",
       "  <th>Df Residuals:</th>          <td>   197</td>      <th>  BIC:               </th> <td>   788.3</td>\n",
       "</tr>\n",
       "<tr>\n",
       "  <th>Df Model:</th>              <td>     2</td>      <th>                     </th>     <td> </td>   \n",
       "</tr>\n",
       "<tr>\n",
       "  <th>Covariance Type:</th>      <td>nonrobust</td>    <th>                     </th>     <td> </td>   \n",
       "</tr>\n",
       "</table>\n",
       "<table class=\"simpletable\">\n",
       "<tr>\n",
       "      <td></td>         <th>coef</th>     <th>std err</th>      <th>t</th>      <th>P>|t|</th>  <th>[0.025</th>    <th>0.975]</th>  \n",
       "</tr>\n",
       "<tr>\n",
       "  <th>Intercept</th> <td>    2.9211</td> <td>    0.294</td> <td>    9.919</td> <td> 0.000</td> <td>    2.340</td> <td>    3.502</td>\n",
       "</tr>\n",
       "<tr>\n",
       "  <th>TV</th>        <td>    0.0458</td> <td>    0.001</td> <td>   32.909</td> <td> 0.000</td> <td>    0.043</td> <td>    0.048</td>\n",
       "</tr>\n",
       "<tr>\n",
       "  <th>Radio</th>     <td>    0.1880</td> <td>    0.008</td> <td>   23.382</td> <td> 0.000</td> <td>    0.172</td> <td>    0.204</td>\n",
       "</tr>\n",
       "</table>\n",
       "<table class=\"simpletable\">\n",
       "<tr>\n",
       "  <th>Omnibus:</th>       <td>60.022</td> <th>  Durbin-Watson:     </th> <td>   2.081</td>\n",
       "</tr>\n",
       "<tr>\n",
       "  <th>Prob(Omnibus):</th> <td> 0.000</td> <th>  Jarque-Bera (JB):  </th> <td> 148.679</td>\n",
       "</tr>\n",
       "<tr>\n",
       "  <th>Skew:</th>          <td>-1.323</td> <th>  Prob(JB):          </th> <td>5.19e-33</td>\n",
       "</tr>\n",
       "<tr>\n",
       "  <th>Kurtosis:</th>      <td> 6.292</td> <th>  Cond. No.          </th> <td>    425.</td>\n",
       "</tr>\n",
       "</table><br/><br/>Notes:<br/>[1] Standard Errors assume that the covariance matrix of the errors is correctly specified."
      ],
      "text/plain": [
       "<class 'statsmodels.iolib.summary.Summary'>\n",
       "\"\"\"\n",
       "                            OLS Regression Results                            \n",
       "==============================================================================\n",
       "Dep. Variable:                  Sales   R-squared:                       0.897\n",
       "Model:                            OLS   Adj. R-squared:                  0.896\n",
       "Method:                 Least Squares   F-statistic:                     859.6\n",
       "Date:                Thu, 10 Mar 2022   Prob (F-statistic):           4.83e-98\n",
       "Time:                        13:50:37   Log-Likelihood:                -386.20\n",
       "No. Observations:                 200   AIC:                             778.4\n",
       "Df Residuals:                     197   BIC:                             788.3\n",
       "Df Model:                           2                                         \n",
       "Covariance Type:            nonrobust                                         \n",
       "==============================================================================\n",
       "                 coef    std err          t      P>|t|      [0.025      0.975]\n",
       "------------------------------------------------------------------------------\n",
       "Intercept      2.9211      0.294      9.919      0.000       2.340       3.502\n",
       "TV             0.0458      0.001     32.909      0.000       0.043       0.048\n",
       "Radio          0.1880      0.008     23.382      0.000       0.172       0.204\n",
       "==============================================================================\n",
       "Omnibus:                       60.022   Durbin-Watson:                   2.081\n",
       "Prob(Omnibus):                  0.000   Jarque-Bera (JB):              148.679\n",
       "Skew:                          -1.323   Prob(JB):                     5.19e-33\n",
       "Kurtosis:                       6.292   Cond. No.                         425.\n",
       "==============================================================================\n",
       "\n",
       "Notes:\n",
       "[1] Standard Errors assume that the covariance matrix of the errors is correctly specified.\n",
       "\"\"\""
      ]
     },
     "execution_count": 31,
     "metadata": {},
     "output_type": "execute_result"
    }
   ],
   "source": [
    "lm = smf.ols(formula = 'Sales ~ TV + Radio', data=df).fit() # Ordinary Least Squares\n",
    "lm.summary()"
   ]
  },
  {
   "cell_type": "code",
   "execution_count": 32,
   "id": "d371f7d3",
   "metadata": {},
   "outputs": [
    {
     "data": {
      "text/html": [
       "<table class=\"simpletable\">\n",
       "<caption>OLS Regression Results</caption>\n",
       "<tr>\n",
       "  <th>Dep. Variable:</th>          <td>Sales</td>      <th>  R-squared:         </th> <td>   0.897</td>\n",
       "</tr>\n",
       "<tr>\n",
       "  <th>Model:</th>                   <td>OLS</td>       <th>  Adj. R-squared:    </th> <td>   0.896</td>\n",
       "</tr>\n",
       "<tr>\n",
       "  <th>Method:</th>             <td>Least Squares</td>  <th>  F-statistic:       </th> <td>   570.3</td>\n",
       "</tr>\n",
       "<tr>\n",
       "  <th>Date:</th>             <td>Thu, 10 Mar 2022</td> <th>  Prob (F-statistic):</th> <td>1.58e-96</td>\n",
       "</tr>\n",
       "<tr>\n",
       "  <th>Time:</th>                 <td>13:50:37</td>     <th>  Log-Likelihood:    </th> <td> -386.18</td>\n",
       "</tr>\n",
       "<tr>\n",
       "  <th>No. Observations:</th>      <td>   200</td>      <th>  AIC:               </th> <td>   780.4</td>\n",
       "</tr>\n",
       "<tr>\n",
       "  <th>Df Residuals:</th>          <td>   196</td>      <th>  BIC:               </th> <td>   793.6</td>\n",
       "</tr>\n",
       "<tr>\n",
       "  <th>Df Model:</th>              <td>     3</td>      <th>                     </th>     <td> </td>   \n",
       "</tr>\n",
       "<tr>\n",
       "  <th>Covariance Type:</th>      <td>nonrobust</td>    <th>                     </th>     <td> </td>   \n",
       "</tr>\n",
       "</table>\n",
       "<table class=\"simpletable\">\n",
       "<tr>\n",
       "      <td></td>         <th>coef</th>     <th>std err</th>      <th>t</th>      <th>P>|t|</th>  <th>[0.025</th>    <th>0.975]</th>  \n",
       "</tr>\n",
       "<tr>\n",
       "  <th>Intercept</th> <td>    2.9389</td> <td>    0.312</td> <td>    9.422</td> <td> 0.000</td> <td>    2.324</td> <td>    3.554</td>\n",
       "</tr>\n",
       "<tr>\n",
       "  <th>TV</th>        <td>    0.0458</td> <td>    0.001</td> <td>   32.809</td> <td> 0.000</td> <td>    0.043</td> <td>    0.049</td>\n",
       "</tr>\n",
       "<tr>\n",
       "  <th>Radio</th>     <td>    0.1885</td> <td>    0.009</td> <td>   21.893</td> <td> 0.000</td> <td>    0.172</td> <td>    0.206</td>\n",
       "</tr>\n",
       "<tr>\n",
       "  <th>Newspaper</th> <td>   -0.0010</td> <td>    0.006</td> <td>   -0.177</td> <td> 0.860</td> <td>   -0.013</td> <td>    0.011</td>\n",
       "</tr>\n",
       "</table>\n",
       "<table class=\"simpletable\">\n",
       "<tr>\n",
       "  <th>Omnibus:</th>       <td>60.414</td> <th>  Durbin-Watson:     </th> <td>   2.084</td>\n",
       "</tr>\n",
       "<tr>\n",
       "  <th>Prob(Omnibus):</th> <td> 0.000</td> <th>  Jarque-Bera (JB):  </th> <td> 151.241</td>\n",
       "</tr>\n",
       "<tr>\n",
       "  <th>Skew:</th>          <td>-1.327</td> <th>  Prob(JB):          </th> <td>1.44e-33</td>\n",
       "</tr>\n",
       "<tr>\n",
       "  <th>Kurtosis:</th>      <td> 6.332</td> <th>  Cond. No.          </th> <td>    454.</td>\n",
       "</tr>\n",
       "</table><br/><br/>Notes:<br/>[1] Standard Errors assume that the covariance matrix of the errors is correctly specified."
      ],
      "text/plain": [
       "<class 'statsmodels.iolib.summary.Summary'>\n",
       "\"\"\"\n",
       "                            OLS Regression Results                            \n",
       "==============================================================================\n",
       "Dep. Variable:                  Sales   R-squared:                       0.897\n",
       "Model:                            OLS   Adj. R-squared:                  0.896\n",
       "Method:                 Least Squares   F-statistic:                     570.3\n",
       "Date:                Thu, 10 Mar 2022   Prob (F-statistic):           1.58e-96\n",
       "Time:                        13:50:37   Log-Likelihood:                -386.18\n",
       "No. Observations:                 200   AIC:                             780.4\n",
       "Df Residuals:                     196   BIC:                             793.6\n",
       "Df Model:                           3                                         \n",
       "Covariance Type:            nonrobust                                         \n",
       "==============================================================================\n",
       "                 coef    std err          t      P>|t|      [0.025      0.975]\n",
       "------------------------------------------------------------------------------\n",
       "Intercept      2.9389      0.312      9.422      0.000       2.324       3.554\n",
       "TV             0.0458      0.001     32.809      0.000       0.043       0.049\n",
       "Radio          0.1885      0.009     21.893      0.000       0.172       0.206\n",
       "Newspaper     -0.0010      0.006     -0.177      0.860      -0.013       0.011\n",
       "==============================================================================\n",
       "Omnibus:                       60.414   Durbin-Watson:                   2.084\n",
       "Prob(Omnibus):                  0.000   Jarque-Bera (JB):              151.241\n",
       "Skew:                          -1.327   Prob(JB):                     1.44e-33\n",
       "Kurtosis:                       6.332   Cond. No.                         454.\n",
       "==============================================================================\n",
       "\n",
       "Notes:\n",
       "[1] Standard Errors assume that the covariance matrix of the errors is correctly specified.\n",
       "\"\"\""
      ]
     },
     "execution_count": 32,
     "metadata": {},
     "output_type": "execute_result"
    }
   ],
   "source": [
    "lm = smf.ols(formula = 'Sales ~ TV + Radio + Newspaper', data=df).fit() # Ordinary Least Squares\n",
    "lm.summary()"
   ]
  },
  {
   "cell_type": "markdown",
   "id": "67def5b1",
   "metadata": {},
   "source": [
    "#### Legend\n",
    "* std err -> Standard deviation\n",
    "* Adj R-squared -> Tells us about possible overfitting. It is more robust than the r-squared. It is considering in calculation(above the usual r-squared equation) increased increment of the rows and a number of a columns. "
   ]
  },
  {
   "cell_type": "markdown",
   "id": "ab6a0d6a",
   "metadata": {},
   "source": [
    "> Take a look at p-value of Newspaper. It has .860 value, which means it has very low sigificance to the model.\n",
    "\n",
    "What is the meaning of p-value of the Newspaper here? In 100 experiments, only 14 are contributing to the final score. 86 of them are not contributing. \n",
    "\n",
    "**Conclusion**\n",
    "    > Taking into consideration both r-squared and p-value of the Newspaper, we can drop Newspaper. "
   ]
  },
  {
   "cell_type": "markdown",
   "id": "9260dd4a",
   "metadata": {},
   "source": [
    "### Multicolinearity - variance inflation factor - Feature selection\n",
    "\n",
    "To check for Multicolinearity calculate variance inflation factor. "
   ]
  },
  {
   "cell_type": "markdown",
   "id": "d4a3f029",
   "metadata": {},
   "source": [
    "### Regularization\n",
    "\n",
    "Adjusting values of m and c to achieve the best results. \n",
    "Regularization is used to stabilize the outcome predictions. "
   ]
  },
  {
   "cell_type": "markdown",
   "id": "fc1bbdf0",
   "metadata": {},
   "source": [
    "#### L1 - REGULARIZATION - Lasso Regression\n",
    "> Having higher impact. - for smaller values of m\n"
   ]
  },
  {
   "cell_type": "markdown",
   "id": "4e8156d5",
   "metadata": {},
   "source": [
    "#### L2 - Ridge Regression\n",
    "> Having less impact. - for smaller values of m"
   ]
  },
  {
   "cell_type": "markdown",
   "id": "60510734",
   "metadata": {},
   "source": [
    "#### Elastic net\n",
    "> L1, L2 combined. It is changing behaviour according to the need. "
   ]
  },
  {
   "cell_type": "markdown",
   "id": "2452436c",
   "metadata": {},
   "source": [
    "## Loading new data"
   ]
  },
  {
   "cell_type": "code",
   "execution_count": 33,
   "id": "d22b5c7c",
   "metadata": {},
   "outputs": [
    {
     "data": {
      "text/html": [
       "<div>\n",
       "<style scoped>\n",
       "    .dataframe tbody tr th:only-of-type {\n",
       "        vertical-align: middle;\n",
       "    }\n",
       "\n",
       "    .dataframe tbody tr th {\n",
       "        vertical-align: top;\n",
       "    }\n",
       "\n",
       "    .dataframe thead th {\n",
       "        text-align: right;\n",
       "    }\n",
       "</style>\n",
       "<table border=\"1\" class=\"dataframe\">\n",
       "  <thead>\n",
       "    <tr style=\"text-align: right;\">\n",
       "      <th></th>\n",
       "      <th>Serial No.</th>\n",
       "      <th>GRE Score</th>\n",
       "      <th>TOEFL Score</th>\n",
       "      <th>University Rating</th>\n",
       "      <th>SOP</th>\n",
       "      <th>LOR</th>\n",
       "      <th>CGPA</th>\n",
       "      <th>Research</th>\n",
       "      <th>Chance of Admit</th>\n",
       "    </tr>\n",
       "  </thead>\n",
       "  <tbody>\n",
       "    <tr>\n",
       "      <th>0</th>\n",
       "      <td>1</td>\n",
       "      <td>337.0</td>\n",
       "      <td>118.0</td>\n",
       "      <td>4.0</td>\n",
       "      <td>4.5</td>\n",
       "      <td>4.5</td>\n",
       "      <td>9.65</td>\n",
       "      <td>1</td>\n",
       "      <td>0.92</td>\n",
       "    </tr>\n",
       "    <tr>\n",
       "      <th>1</th>\n",
       "      <td>2</td>\n",
       "      <td>324.0</td>\n",
       "      <td>107.0</td>\n",
       "      <td>4.0</td>\n",
       "      <td>4.0</td>\n",
       "      <td>4.5</td>\n",
       "      <td>8.87</td>\n",
       "      <td>1</td>\n",
       "      <td>0.76</td>\n",
       "    </tr>\n",
       "    <tr>\n",
       "      <th>2</th>\n",
       "      <td>3</td>\n",
       "      <td>NaN</td>\n",
       "      <td>104.0</td>\n",
       "      <td>3.0</td>\n",
       "      <td>3.0</td>\n",
       "      <td>3.5</td>\n",
       "      <td>8.00</td>\n",
       "      <td>1</td>\n",
       "      <td>0.72</td>\n",
       "    </tr>\n",
       "    <tr>\n",
       "      <th>3</th>\n",
       "      <td>4</td>\n",
       "      <td>322.0</td>\n",
       "      <td>110.0</td>\n",
       "      <td>3.0</td>\n",
       "      <td>3.5</td>\n",
       "      <td>2.5</td>\n",
       "      <td>8.67</td>\n",
       "      <td>1</td>\n",
       "      <td>0.80</td>\n",
       "    </tr>\n",
       "    <tr>\n",
       "      <th>4</th>\n",
       "      <td>5</td>\n",
       "      <td>314.0</td>\n",
       "      <td>103.0</td>\n",
       "      <td>2.0</td>\n",
       "      <td>2.0</td>\n",
       "      <td>3.0</td>\n",
       "      <td>8.21</td>\n",
       "      <td>0</td>\n",
       "      <td>0.65</td>\n",
       "    </tr>\n",
       "    <tr>\n",
       "      <th>...</th>\n",
       "      <td>...</td>\n",
       "      <td>...</td>\n",
       "      <td>...</td>\n",
       "      <td>...</td>\n",
       "      <td>...</td>\n",
       "      <td>...</td>\n",
       "      <td>...</td>\n",
       "      <td>...</td>\n",
       "      <td>...</td>\n",
       "    </tr>\n",
       "    <tr>\n",
       "      <th>495</th>\n",
       "      <td>496</td>\n",
       "      <td>332.0</td>\n",
       "      <td>108.0</td>\n",
       "      <td>5.0</td>\n",
       "      <td>4.5</td>\n",
       "      <td>4.0</td>\n",
       "      <td>9.02</td>\n",
       "      <td>1</td>\n",
       "      <td>0.87</td>\n",
       "    </tr>\n",
       "    <tr>\n",
       "      <th>496</th>\n",
       "      <td>497</td>\n",
       "      <td>337.0</td>\n",
       "      <td>117.0</td>\n",
       "      <td>5.0</td>\n",
       "      <td>5.0</td>\n",
       "      <td>5.0</td>\n",
       "      <td>9.87</td>\n",
       "      <td>1</td>\n",
       "      <td>0.96</td>\n",
       "    </tr>\n",
       "    <tr>\n",
       "      <th>497</th>\n",
       "      <td>498</td>\n",
       "      <td>330.0</td>\n",
       "      <td>120.0</td>\n",
       "      <td>5.0</td>\n",
       "      <td>4.5</td>\n",
       "      <td>5.0</td>\n",
       "      <td>9.56</td>\n",
       "      <td>1</td>\n",
       "      <td>0.93</td>\n",
       "    </tr>\n",
       "    <tr>\n",
       "      <th>498</th>\n",
       "      <td>499</td>\n",
       "      <td>312.0</td>\n",
       "      <td>103.0</td>\n",
       "      <td>4.0</td>\n",
       "      <td>4.0</td>\n",
       "      <td>5.0</td>\n",
       "      <td>8.43</td>\n",
       "      <td>0</td>\n",
       "      <td>0.73</td>\n",
       "    </tr>\n",
       "    <tr>\n",
       "      <th>499</th>\n",
       "      <td>500</td>\n",
       "      <td>327.0</td>\n",
       "      <td>113.0</td>\n",
       "      <td>4.0</td>\n",
       "      <td>4.5</td>\n",
       "      <td>4.5</td>\n",
       "      <td>9.04</td>\n",
       "      <td>0</td>\n",
       "      <td>0.84</td>\n",
       "    </tr>\n",
       "  </tbody>\n",
       "</table>\n",
       "<p>500 rows × 9 columns</p>\n",
       "</div>"
      ],
      "text/plain": [
       "     Serial No.  GRE Score  TOEFL Score  University Rating  SOP  LOR  CGPA  \\\n",
       "0             1      337.0        118.0                4.0  4.5  4.5  9.65   \n",
       "1             2      324.0        107.0                4.0  4.0  4.5  8.87   \n",
       "2             3        NaN        104.0                3.0  3.0  3.5  8.00   \n",
       "3             4      322.0        110.0                3.0  3.5  2.5  8.67   \n",
       "4             5      314.0        103.0                2.0  2.0  3.0  8.21   \n",
       "..          ...        ...          ...                ...  ...  ...   ...   \n",
       "495         496      332.0        108.0                5.0  4.5  4.0  9.02   \n",
       "496         497      337.0        117.0                5.0  5.0  5.0  9.87   \n",
       "497         498      330.0        120.0                5.0  4.5  5.0  9.56   \n",
       "498         499      312.0        103.0                4.0  4.0  5.0  8.43   \n",
       "499         500      327.0        113.0                4.0  4.5  4.5  9.04   \n",
       "\n",
       "     Research  Chance of Admit  \n",
       "0           1             0.92  \n",
       "1           1             0.76  \n",
       "2           1             0.72  \n",
       "3           1             0.80  \n",
       "4           0             0.65  \n",
       "..        ...              ...  \n",
       "495         1             0.87  \n",
       "496         1             0.96  \n",
       "497         1             0.93  \n",
       "498         0             0.73  \n",
       "499         0             0.84  \n",
       "\n",
       "[500 rows x 9 columns]"
      ]
     },
     "execution_count": 33,
     "metadata": {},
     "output_type": "execute_result"
    }
   ],
   "source": [
    "pd.read_csv('Admission_Prediction.csv')"
   ]
  },
  {
   "cell_type": "markdown",
   "id": "2025210d",
   "metadata": {},
   "source": [
    "### Task\n",
    "Predicting chance of admission based on given information. "
   ]
  },
  {
   "cell_type": "markdown",
   "id": "c8f7b963",
   "metadata": {},
   "source": [
    "### EDA"
   ]
  },
  {
   "cell_type": "code",
   "execution_count": 34,
   "id": "781828d1",
   "metadata": {},
   "outputs": [],
   "source": [
    "# Storing data in variable adm\n",
    "adm = pd.read_csv('Admission_Prediction.csv')"
   ]
  },
  {
   "cell_type": "code",
   "execution_count": 35,
   "id": "4bc21cc9",
   "metadata": {},
   "outputs": [
    {
     "data": {
      "application/vnd.jupyter.widget-view+json": {
       "model_id": "433de1e054b44ae7a6816a4f4782636e",
       "version_major": 2,
       "version_minor": 0
      },
      "text/plain": [
       "Tab(children=(HTML(value='<div id=\"overview-content\" class=\"row variable spacing\">\\n    <div class=\"row\">\\n   …"
      ]
     },
     "metadata": {},
     "output_type": "display_data"
    },
    {
     "data": {
      "text/html": [
       "Report generated with <a href=\"https://github.com/pandas-profiling/pandas-profiling\">pandas-profiling</a>."
      ],
      "text/plain": [
       "<IPython.core.display.HTML object>"
      ]
     },
     "metadata": {},
     "output_type": "display_data"
    },
    {
     "data": {
      "text/plain": []
     },
     "execution_count": 35,
     "metadata": {},
     "output_type": "execute_result"
    }
   ],
   "source": [
    "# Pandas profiling\n",
    "ProfileReport(adm)"
   ]
  },
  {
   "cell_type": "markdown",
   "id": "34994058",
   "metadata": {},
   "source": [
    "### Missing values"
   ]
  },
  {
   "cell_type": "code",
   "execution_count": 36,
   "id": "b793dc4e",
   "metadata": {},
   "outputs": [],
   "source": [
    "adm['GRE_Score'] = adm['GRE_Score'].fillna(adm['GRE_Score'].mean())"
   ]
  },
  {
   "cell_type": "code",
   "execution_count": 37,
   "id": "9ae932c8",
   "metadata": {},
   "outputs": [],
   "source": [
    "adm['TOEFL_Score'] = adm['TOEFL_Score'].fillna(adm['TOEFL_Score'].mean())"
   ]
  },
  {
   "cell_type": "code",
   "execution_count": 38,
   "id": "9879abfe",
   "metadata": {},
   "outputs": [],
   "source": [
    "adm['University_Rating'] = adm['University_Rating'].fillna(adm['University_Rating'].mean())"
   ]
  },
  {
   "cell_type": "code",
   "execution_count": 40,
   "id": "fe9685f2",
   "metadata": {},
   "outputs": [
    {
     "data": {
      "text/html": [
       "<div>\n",
       "<style scoped>\n",
       "    .dataframe tbody tr th:only-of-type {\n",
       "        vertical-align: middle;\n",
       "    }\n",
       "\n",
       "    .dataframe tbody tr th {\n",
       "        vertical-align: top;\n",
       "    }\n",
       "\n",
       "    .dataframe thead th {\n",
       "        text-align: right;\n",
       "    }\n",
       "</style>\n",
       "<table border=\"1\" class=\"dataframe\">\n",
       "  <thead>\n",
       "    <tr style=\"text-align: right;\">\n",
       "      <th></th>\n",
       "      <th>Serial_No.</th>\n",
       "      <th>GRE_Score</th>\n",
       "      <th>TOEFL_Score</th>\n",
       "      <th>University_Rating</th>\n",
       "      <th>SOP</th>\n",
       "      <th>LOR</th>\n",
       "      <th>CGPA</th>\n",
       "      <th>Research</th>\n",
       "      <th>Chance_of_Admit</th>\n",
       "    </tr>\n",
       "  </thead>\n",
       "  <tbody>\n",
       "    <tr>\n",
       "      <th>count</th>\n",
       "      <td>500.000000</td>\n",
       "      <td>500.000000</td>\n",
       "      <td>500.000000</td>\n",
       "      <td>500.000000</td>\n",
       "      <td>500.000000</td>\n",
       "      <td>500.00000</td>\n",
       "      <td>500.000000</td>\n",
       "      <td>500.000000</td>\n",
       "      <td>500.00000</td>\n",
       "    </tr>\n",
       "    <tr>\n",
       "      <th>mean</th>\n",
       "      <td>250.500000</td>\n",
       "      <td>316.558763</td>\n",
       "      <td>107.187755</td>\n",
       "      <td>3.121649</td>\n",
       "      <td>3.374000</td>\n",
       "      <td>3.48400</td>\n",
       "      <td>8.576440</td>\n",
       "      <td>0.560000</td>\n",
       "      <td>0.72174</td>\n",
       "    </tr>\n",
       "    <tr>\n",
       "      <th>std</th>\n",
       "      <td>144.481833</td>\n",
       "      <td>11.103952</td>\n",
       "      <td>6.051338</td>\n",
       "      <td>1.128802</td>\n",
       "      <td>0.991004</td>\n",
       "      <td>0.92545</td>\n",
       "      <td>0.604813</td>\n",
       "      <td>0.496884</td>\n",
       "      <td>0.14114</td>\n",
       "    </tr>\n",
       "    <tr>\n",
       "      <th>min</th>\n",
       "      <td>1.000000</td>\n",
       "      <td>290.000000</td>\n",
       "      <td>92.000000</td>\n",
       "      <td>1.000000</td>\n",
       "      <td>1.000000</td>\n",
       "      <td>1.00000</td>\n",
       "      <td>6.800000</td>\n",
       "      <td>0.000000</td>\n",
       "      <td>0.34000</td>\n",
       "    </tr>\n",
       "    <tr>\n",
       "      <th>25%</th>\n",
       "      <td>125.750000</td>\n",
       "      <td>309.000000</td>\n",
       "      <td>103.000000</td>\n",
       "      <td>2.000000</td>\n",
       "      <td>2.500000</td>\n",
       "      <td>3.00000</td>\n",
       "      <td>8.127500</td>\n",
       "      <td>0.000000</td>\n",
       "      <td>0.63000</td>\n",
       "    </tr>\n",
       "    <tr>\n",
       "      <th>50%</th>\n",
       "      <td>250.500000</td>\n",
       "      <td>316.558763</td>\n",
       "      <td>107.000000</td>\n",
       "      <td>3.000000</td>\n",
       "      <td>3.500000</td>\n",
       "      <td>3.50000</td>\n",
       "      <td>8.560000</td>\n",
       "      <td>1.000000</td>\n",
       "      <td>0.72000</td>\n",
       "    </tr>\n",
       "    <tr>\n",
       "      <th>75%</th>\n",
       "      <td>375.250000</td>\n",
       "      <td>324.000000</td>\n",
       "      <td>112.000000</td>\n",
       "      <td>4.000000</td>\n",
       "      <td>4.000000</td>\n",
       "      <td>4.00000</td>\n",
       "      <td>9.040000</td>\n",
       "      <td>1.000000</td>\n",
       "      <td>0.82000</td>\n",
       "    </tr>\n",
       "    <tr>\n",
       "      <th>max</th>\n",
       "      <td>500.000000</td>\n",
       "      <td>340.000000</td>\n",
       "      <td>120.000000</td>\n",
       "      <td>5.000000</td>\n",
       "      <td>5.000000</td>\n",
       "      <td>5.00000</td>\n",
       "      <td>9.920000</td>\n",
       "      <td>1.000000</td>\n",
       "      <td>0.97000</td>\n",
       "    </tr>\n",
       "  </tbody>\n",
       "</table>\n",
       "</div>"
      ],
      "text/plain": [
       "       Serial_No.   GRE_Score  TOEFL_Score  University_Rating         SOP  \\\n",
       "count  500.000000  500.000000   500.000000         500.000000  500.000000   \n",
       "mean   250.500000  316.558763   107.187755           3.121649    3.374000   \n",
       "std    144.481833   11.103952     6.051338           1.128802    0.991004   \n",
       "min      1.000000  290.000000    92.000000           1.000000    1.000000   \n",
       "25%    125.750000  309.000000   103.000000           2.000000    2.500000   \n",
       "50%    250.500000  316.558763   107.000000           3.000000    3.500000   \n",
       "75%    375.250000  324.000000   112.000000           4.000000    4.000000   \n",
       "max    500.000000  340.000000   120.000000           5.000000    5.000000   \n",
       "\n",
       "             LOR        CGPA    Research  Chance_of_Admit  \n",
       "count  500.00000  500.000000  500.000000        500.00000  \n",
       "mean     3.48400    8.576440    0.560000          0.72174  \n",
       "std      0.92545    0.604813    0.496884          0.14114  \n",
       "min      1.00000    6.800000    0.000000          0.34000  \n",
       "25%      3.00000    8.127500    0.000000          0.63000  \n",
       "50%      3.50000    8.560000    1.000000          0.72000  \n",
       "75%      4.00000    9.040000    1.000000          0.82000  \n",
       "max      5.00000    9.920000    1.000000          0.97000  "
      ]
     },
     "execution_count": 40,
     "metadata": {},
     "output_type": "execute_result"
    }
   ],
   "source": [
    "adm.describe()"
   ]
  },
  {
   "cell_type": "code",
   "execution_count": 41,
   "id": "860ff192",
   "metadata": {},
   "outputs": [
    {
     "data": {
      "text/plain": [
       "Serial_No.           0\n",
       "GRE_Score            0\n",
       "TOEFL_Score          0\n",
       "University_Rating    0\n",
       "SOP                  0\n",
       "LOR                  0\n",
       "CGPA                 0\n",
       "Research             0\n",
       "Chance_of_Admit      0\n",
       "dtype: int64"
      ]
     },
     "execution_count": 41,
     "metadata": {},
     "output_type": "execute_result"
    }
   ],
   "source": [
    "adm.isnull().sum()"
   ]
  },
  {
   "cell_type": "markdown",
   "id": "44898f6f",
   "metadata": {},
   "source": [
    "### Dropping id column"
   ]
  },
  {
   "cell_type": "code",
   "execution_count": 45,
   "id": "5fc1d012",
   "metadata": {},
   "outputs": [],
   "source": [
    "adm.drop('Serial_No.', axis=1, inplace=True)"
   ]
  },
  {
   "cell_type": "code",
   "execution_count": 46,
   "id": "ac6a77ae",
   "metadata": {},
   "outputs": [
    {
     "data": {
      "text/html": [
       "<div>\n",
       "<style scoped>\n",
       "    .dataframe tbody tr th:only-of-type {\n",
       "        vertical-align: middle;\n",
       "    }\n",
       "\n",
       "    .dataframe tbody tr th {\n",
       "        vertical-align: top;\n",
       "    }\n",
       "\n",
       "    .dataframe thead th {\n",
       "        text-align: right;\n",
       "    }\n",
       "</style>\n",
       "<table border=\"1\" class=\"dataframe\">\n",
       "  <thead>\n",
       "    <tr style=\"text-align: right;\">\n",
       "      <th></th>\n",
       "      <th>GRE_Score</th>\n",
       "      <th>TOEFL_Score</th>\n",
       "      <th>University_Rating</th>\n",
       "      <th>SOP</th>\n",
       "      <th>LOR</th>\n",
       "      <th>CGPA</th>\n",
       "      <th>Research</th>\n",
       "      <th>Chance_of_Admit</th>\n",
       "    </tr>\n",
       "  </thead>\n",
       "  <tbody>\n",
       "    <tr>\n",
       "      <th>0</th>\n",
       "      <td>337.000000</td>\n",
       "      <td>118.0</td>\n",
       "      <td>4.0</td>\n",
       "      <td>4.5</td>\n",
       "      <td>4.5</td>\n",
       "      <td>9.65</td>\n",
       "      <td>1</td>\n",
       "      <td>0.92</td>\n",
       "    </tr>\n",
       "    <tr>\n",
       "      <th>1</th>\n",
       "      <td>324.000000</td>\n",
       "      <td>107.0</td>\n",
       "      <td>4.0</td>\n",
       "      <td>4.0</td>\n",
       "      <td>4.5</td>\n",
       "      <td>8.87</td>\n",
       "      <td>1</td>\n",
       "      <td>0.76</td>\n",
       "    </tr>\n",
       "    <tr>\n",
       "      <th>2</th>\n",
       "      <td>316.558763</td>\n",
       "      <td>104.0</td>\n",
       "      <td>3.0</td>\n",
       "      <td>3.0</td>\n",
       "      <td>3.5</td>\n",
       "      <td>8.00</td>\n",
       "      <td>1</td>\n",
       "      <td>0.72</td>\n",
       "    </tr>\n",
       "    <tr>\n",
       "      <th>3</th>\n",
       "      <td>322.000000</td>\n",
       "      <td>110.0</td>\n",
       "      <td>3.0</td>\n",
       "      <td>3.5</td>\n",
       "      <td>2.5</td>\n",
       "      <td>8.67</td>\n",
       "      <td>1</td>\n",
       "      <td>0.80</td>\n",
       "    </tr>\n",
       "    <tr>\n",
       "      <th>4</th>\n",
       "      <td>314.000000</td>\n",
       "      <td>103.0</td>\n",
       "      <td>2.0</td>\n",
       "      <td>2.0</td>\n",
       "      <td>3.0</td>\n",
       "      <td>8.21</td>\n",
       "      <td>0</td>\n",
       "      <td>0.65</td>\n",
       "    </tr>\n",
       "    <tr>\n",
       "      <th>...</th>\n",
       "      <td>...</td>\n",
       "      <td>...</td>\n",
       "      <td>...</td>\n",
       "      <td>...</td>\n",
       "      <td>...</td>\n",
       "      <td>...</td>\n",
       "      <td>...</td>\n",
       "      <td>...</td>\n",
       "    </tr>\n",
       "    <tr>\n",
       "      <th>495</th>\n",
       "      <td>332.000000</td>\n",
       "      <td>108.0</td>\n",
       "      <td>5.0</td>\n",
       "      <td>4.5</td>\n",
       "      <td>4.0</td>\n",
       "      <td>9.02</td>\n",
       "      <td>1</td>\n",
       "      <td>0.87</td>\n",
       "    </tr>\n",
       "    <tr>\n",
       "      <th>496</th>\n",
       "      <td>337.000000</td>\n",
       "      <td>117.0</td>\n",
       "      <td>5.0</td>\n",
       "      <td>5.0</td>\n",
       "      <td>5.0</td>\n",
       "      <td>9.87</td>\n",
       "      <td>1</td>\n",
       "      <td>0.96</td>\n",
       "    </tr>\n",
       "    <tr>\n",
       "      <th>497</th>\n",
       "      <td>330.000000</td>\n",
       "      <td>120.0</td>\n",
       "      <td>5.0</td>\n",
       "      <td>4.5</td>\n",
       "      <td>5.0</td>\n",
       "      <td>9.56</td>\n",
       "      <td>1</td>\n",
       "      <td>0.93</td>\n",
       "    </tr>\n",
       "    <tr>\n",
       "      <th>498</th>\n",
       "      <td>312.000000</td>\n",
       "      <td>103.0</td>\n",
       "      <td>4.0</td>\n",
       "      <td>4.0</td>\n",
       "      <td>5.0</td>\n",
       "      <td>8.43</td>\n",
       "      <td>0</td>\n",
       "      <td>0.73</td>\n",
       "    </tr>\n",
       "    <tr>\n",
       "      <th>499</th>\n",
       "      <td>327.000000</td>\n",
       "      <td>113.0</td>\n",
       "      <td>4.0</td>\n",
       "      <td>4.5</td>\n",
       "      <td>4.5</td>\n",
       "      <td>9.04</td>\n",
       "      <td>0</td>\n",
       "      <td>0.84</td>\n",
       "    </tr>\n",
       "  </tbody>\n",
       "</table>\n",
       "<p>500 rows × 8 columns</p>\n",
       "</div>"
      ],
      "text/plain": [
       "      GRE_Score  TOEFL_Score  University_Rating  SOP  LOR  CGPA  Research  \\\n",
       "0    337.000000        118.0                4.0  4.5  4.5  9.65         1   \n",
       "1    324.000000        107.0                4.0  4.0  4.5  8.87         1   \n",
       "2    316.558763        104.0                3.0  3.0  3.5  8.00         1   \n",
       "3    322.000000        110.0                3.0  3.5  2.5  8.67         1   \n",
       "4    314.000000        103.0                2.0  2.0  3.0  8.21         0   \n",
       "..          ...          ...                ...  ...  ...   ...       ...   \n",
       "495  332.000000        108.0                5.0  4.5  4.0  9.02         1   \n",
       "496  337.000000        117.0                5.0  5.0  5.0  9.87         1   \n",
       "497  330.000000        120.0                5.0  4.5  5.0  9.56         1   \n",
       "498  312.000000        103.0                4.0  4.0  5.0  8.43         0   \n",
       "499  327.000000        113.0                4.0  4.5  4.5  9.04         0   \n",
       "\n",
       "     Chance_of_Admit  \n",
       "0               0.92  \n",
       "1               0.76  \n",
       "2               0.72  \n",
       "3               0.80  \n",
       "4               0.65  \n",
       "..               ...  \n",
       "495             0.87  \n",
       "496             0.96  \n",
       "497             0.93  \n",
       "498             0.73  \n",
       "499             0.84  \n",
       "\n",
       "[500 rows x 8 columns]"
      ]
     },
     "execution_count": 46,
     "metadata": {},
     "output_type": "execute_result"
    }
   ],
   "source": [
    "adm"
   ]
  },
  {
   "cell_type": "markdown",
   "id": "43dfb8b9",
   "metadata": {},
   "source": [
    "### Splitting for X and y"
   ]
  },
  {
   "cell_type": "code",
   "execution_count": 48,
   "id": "760975ea",
   "metadata": {},
   "outputs": [],
   "source": [
    "y = adm['Chance_of_Admit']"
   ]
  },
  {
   "cell_type": "code",
   "execution_count": 63,
   "id": "b22e7b58",
   "metadata": {},
   "outputs": [],
   "source": [
    "x = adm"
   ]
  },
  {
   "cell_type": "code",
   "execution_count": 64,
   "id": "661d4cd6",
   "metadata": {},
   "outputs": [
    {
     "data": {
      "text/html": [
       "<div>\n",
       "<style scoped>\n",
       "    .dataframe tbody tr th:only-of-type {\n",
       "        vertical-align: middle;\n",
       "    }\n",
       "\n",
       "    .dataframe tbody tr th {\n",
       "        vertical-align: top;\n",
       "    }\n",
       "\n",
       "    .dataframe thead th {\n",
       "        text-align: right;\n",
       "    }\n",
       "</style>\n",
       "<table border=\"1\" class=\"dataframe\">\n",
       "  <thead>\n",
       "    <tr style=\"text-align: right;\">\n",
       "      <th></th>\n",
       "      <th>GRE_Score</th>\n",
       "      <th>TOEFL_Score</th>\n",
       "      <th>University_Rating</th>\n",
       "      <th>SOP</th>\n",
       "      <th>LOR</th>\n",
       "      <th>CGPA</th>\n",
       "      <th>Research</th>\n",
       "    </tr>\n",
       "  </thead>\n",
       "  <tbody>\n",
       "    <tr>\n",
       "      <th>0</th>\n",
       "      <td>337.000000</td>\n",
       "      <td>118.0</td>\n",
       "      <td>4.0</td>\n",
       "      <td>4.5</td>\n",
       "      <td>4.5</td>\n",
       "      <td>9.65</td>\n",
       "      <td>1</td>\n",
       "    </tr>\n",
       "    <tr>\n",
       "      <th>1</th>\n",
       "      <td>324.000000</td>\n",
       "      <td>107.0</td>\n",
       "      <td>4.0</td>\n",
       "      <td>4.0</td>\n",
       "      <td>4.5</td>\n",
       "      <td>8.87</td>\n",
       "      <td>1</td>\n",
       "    </tr>\n",
       "    <tr>\n",
       "      <th>2</th>\n",
       "      <td>316.558763</td>\n",
       "      <td>104.0</td>\n",
       "      <td>3.0</td>\n",
       "      <td>3.0</td>\n",
       "      <td>3.5</td>\n",
       "      <td>8.00</td>\n",
       "      <td>1</td>\n",
       "    </tr>\n",
       "    <tr>\n",
       "      <th>3</th>\n",
       "      <td>322.000000</td>\n",
       "      <td>110.0</td>\n",
       "      <td>3.0</td>\n",
       "      <td>3.5</td>\n",
       "      <td>2.5</td>\n",
       "      <td>8.67</td>\n",
       "      <td>1</td>\n",
       "    </tr>\n",
       "    <tr>\n",
       "      <th>4</th>\n",
       "      <td>314.000000</td>\n",
       "      <td>103.0</td>\n",
       "      <td>2.0</td>\n",
       "      <td>2.0</td>\n",
       "      <td>3.0</td>\n",
       "      <td>8.21</td>\n",
       "      <td>0</td>\n",
       "    </tr>\n",
       "    <tr>\n",
       "      <th>...</th>\n",
       "      <td>...</td>\n",
       "      <td>...</td>\n",
       "      <td>...</td>\n",
       "      <td>...</td>\n",
       "      <td>...</td>\n",
       "      <td>...</td>\n",
       "      <td>...</td>\n",
       "    </tr>\n",
       "    <tr>\n",
       "      <th>495</th>\n",
       "      <td>332.000000</td>\n",
       "      <td>108.0</td>\n",
       "      <td>5.0</td>\n",
       "      <td>4.5</td>\n",
       "      <td>4.0</td>\n",
       "      <td>9.02</td>\n",
       "      <td>1</td>\n",
       "    </tr>\n",
       "    <tr>\n",
       "      <th>496</th>\n",
       "      <td>337.000000</td>\n",
       "      <td>117.0</td>\n",
       "      <td>5.0</td>\n",
       "      <td>5.0</td>\n",
       "      <td>5.0</td>\n",
       "      <td>9.87</td>\n",
       "      <td>1</td>\n",
       "    </tr>\n",
       "    <tr>\n",
       "      <th>497</th>\n",
       "      <td>330.000000</td>\n",
       "      <td>120.0</td>\n",
       "      <td>5.0</td>\n",
       "      <td>4.5</td>\n",
       "      <td>5.0</td>\n",
       "      <td>9.56</td>\n",
       "      <td>1</td>\n",
       "    </tr>\n",
       "    <tr>\n",
       "      <th>498</th>\n",
       "      <td>312.000000</td>\n",
       "      <td>103.0</td>\n",
       "      <td>4.0</td>\n",
       "      <td>4.0</td>\n",
       "      <td>5.0</td>\n",
       "      <td>8.43</td>\n",
       "      <td>0</td>\n",
       "    </tr>\n",
       "    <tr>\n",
       "      <th>499</th>\n",
       "      <td>327.000000</td>\n",
       "      <td>113.0</td>\n",
       "      <td>4.0</td>\n",
       "      <td>4.5</td>\n",
       "      <td>4.5</td>\n",
       "      <td>9.04</td>\n",
       "      <td>0</td>\n",
       "    </tr>\n",
       "  </tbody>\n",
       "</table>\n",
       "<p>500 rows × 7 columns</p>\n",
       "</div>"
      ],
      "text/plain": [
       "      GRE_Score  TOEFL_Score  University_Rating  SOP  LOR  CGPA  Research\n",
       "0    337.000000        118.0                4.0  4.5  4.5  9.65         1\n",
       "1    324.000000        107.0                4.0  4.0  4.5  8.87         1\n",
       "2    316.558763        104.0                3.0  3.0  3.5  8.00         1\n",
       "3    322.000000        110.0                3.0  3.5  2.5  8.67         1\n",
       "4    314.000000        103.0                2.0  2.0  3.0  8.21         0\n",
       "..          ...          ...                ...  ...  ...   ...       ...\n",
       "495  332.000000        108.0                5.0  4.5  4.0  9.02         1\n",
       "496  337.000000        117.0                5.0  5.0  5.0  9.87         1\n",
       "497  330.000000        120.0                5.0  4.5  5.0  9.56         1\n",
       "498  312.000000        103.0                4.0  4.0  5.0  8.43         0\n",
       "499  327.000000        113.0                4.0  4.5  4.5  9.04         0\n",
       "\n",
       "[500 rows x 7 columns]"
      ]
     },
     "execution_count": 64,
     "metadata": {},
     "output_type": "execute_result"
    }
   ],
   "source": [
    "x"
   ]
  },
  {
   "cell_type": "markdown",
   "id": "49900853",
   "metadata": {},
   "source": [
    "### Standarization of the data"
   ]
  },
  {
   "cell_type": "code",
   "execution_count": 65,
   "id": "5e288124",
   "metadata": {},
   "outputs": [],
   "source": [
    "# Creating object for Standard Scaler\n",
    "scaler = StandardScaler()"
   ]
  },
  {
   "cell_type": "code",
   "execution_count": 66,
   "id": "d89f83c7",
   "metadata": {},
   "outputs": [],
   "source": [
    "# Fitting and transforming x\n",
    "arr = scaler.fit_transform(x)"
   ]
  },
  {
   "cell_type": "code",
   "execution_count": 71,
   "id": "50ba2ed8",
   "metadata": {},
   "outputs": [],
   "source": [
    "# Transforming to a data frame\n",
    "df1 = pd.DataFrame(arr, columns=x.columns)"
   ]
  },
  {
   "cell_type": "code",
   "execution_count": 72,
   "id": "ee6831f9",
   "metadata": {},
   "outputs": [
    {
     "data": {
      "text/html": [
       "<div>\n",
       "<style scoped>\n",
       "    .dataframe tbody tr th:only-of-type {\n",
       "        vertical-align: middle;\n",
       "    }\n",
       "\n",
       "    .dataframe tbody tr th {\n",
       "        vertical-align: top;\n",
       "    }\n",
       "\n",
       "    .dataframe thead th {\n",
       "        text-align: right;\n",
       "    }\n",
       "</style>\n",
       "<table border=\"1\" class=\"dataframe\">\n",
       "  <thead>\n",
       "    <tr style=\"text-align: right;\">\n",
       "      <th></th>\n",
       "      <th>GRE_Score</th>\n",
       "      <th>TOEFL_Score</th>\n",
       "      <th>University_Rating</th>\n",
       "      <th>SOP</th>\n",
       "      <th>LOR</th>\n",
       "      <th>CGPA</th>\n",
       "      <th>Research</th>\n",
       "    </tr>\n",
       "  </thead>\n",
       "  <tbody>\n",
       "    <tr>\n",
       "      <th>0</th>\n",
       "      <td>1.842741e+00</td>\n",
       "      <td>1.788542</td>\n",
       "      <td>0.778906</td>\n",
       "      <td>1.137360</td>\n",
       "      <td>1.098944</td>\n",
       "      <td>1.776806</td>\n",
       "      <td>0.886405</td>\n",
       "    </tr>\n",
       "    <tr>\n",
       "      <th>1</th>\n",
       "      <td>6.708143e-01</td>\n",
       "      <td>-0.031058</td>\n",
       "      <td>0.778906</td>\n",
       "      <td>0.632315</td>\n",
       "      <td>1.098944</td>\n",
       "      <td>0.485859</td>\n",
       "      <td>0.886405</td>\n",
       "    </tr>\n",
       "    <tr>\n",
       "      <th>2</th>\n",
       "      <td>5.124333e-15</td>\n",
       "      <td>-0.527313</td>\n",
       "      <td>-0.107877</td>\n",
       "      <td>-0.377773</td>\n",
       "      <td>0.017306</td>\n",
       "      <td>-0.954043</td>\n",
       "      <td>0.886405</td>\n",
       "    </tr>\n",
       "    <tr>\n",
       "      <th>3</th>\n",
       "      <td>4.905178e-01</td>\n",
       "      <td>0.465197</td>\n",
       "      <td>-0.107877</td>\n",
       "      <td>0.127271</td>\n",
       "      <td>-1.064332</td>\n",
       "      <td>0.154847</td>\n",
       "      <td>0.886405</td>\n",
       "    </tr>\n",
       "    <tr>\n",
       "      <th>4</th>\n",
       "      <td>-2.306679e-01</td>\n",
       "      <td>-0.692731</td>\n",
       "      <td>-0.994659</td>\n",
       "      <td>-1.387862</td>\n",
       "      <td>-0.523513</td>\n",
       "      <td>-0.606480</td>\n",
       "      <td>-1.128152</td>\n",
       "    </tr>\n",
       "    <tr>\n",
       "      <th>...</th>\n",
       "      <td>...</td>\n",
       "      <td>...</td>\n",
       "      <td>...</td>\n",
       "      <td>...</td>\n",
       "      <td>...</td>\n",
       "      <td>...</td>\n",
       "      <td>...</td>\n",
       "    </tr>\n",
       "    <tr>\n",
       "      <th>495</th>\n",
       "      <td>1.392000e+00</td>\n",
       "      <td>0.134360</td>\n",
       "      <td>1.665688</td>\n",
       "      <td>1.137360</td>\n",
       "      <td>0.558125</td>\n",
       "      <td>0.734118</td>\n",
       "      <td>0.886405</td>\n",
       "    </tr>\n",
       "    <tr>\n",
       "      <th>496</th>\n",
       "      <td>1.842741e+00</td>\n",
       "      <td>1.623124</td>\n",
       "      <td>1.665688</td>\n",
       "      <td>1.642404</td>\n",
       "      <td>1.639763</td>\n",
       "      <td>2.140919</td>\n",
       "      <td>0.886405</td>\n",
       "    </tr>\n",
       "    <tr>\n",
       "      <th>497</th>\n",
       "      <td>1.211704e+00</td>\n",
       "      <td>2.119379</td>\n",
       "      <td>1.665688</td>\n",
       "      <td>1.137360</td>\n",
       "      <td>1.639763</td>\n",
       "      <td>1.627851</td>\n",
       "      <td>0.886405</td>\n",
       "    </tr>\n",
       "    <tr>\n",
       "      <th>498</th>\n",
       "      <td>-4.109644e-01</td>\n",
       "      <td>-0.692731</td>\n",
       "      <td>0.778906</td>\n",
       "      <td>0.632315</td>\n",
       "      <td>1.639763</td>\n",
       "      <td>-0.242367</td>\n",
       "      <td>-1.128152</td>\n",
       "    </tr>\n",
       "    <tr>\n",
       "      <th>499</th>\n",
       "      <td>9.412590e-01</td>\n",
       "      <td>0.961451</td>\n",
       "      <td>0.778906</td>\n",
       "      <td>1.137360</td>\n",
       "      <td>1.098944</td>\n",
       "      <td>0.767220</td>\n",
       "      <td>-1.128152</td>\n",
       "    </tr>\n",
       "  </tbody>\n",
       "</table>\n",
       "<p>500 rows × 7 columns</p>\n",
       "</div>"
      ],
      "text/plain": [
       "        GRE_Score  TOEFL_Score  University_Rating       SOP       LOR  \\\n",
       "0    1.842741e+00     1.788542           0.778906  1.137360  1.098944   \n",
       "1    6.708143e-01    -0.031058           0.778906  0.632315  1.098944   \n",
       "2    5.124333e-15    -0.527313          -0.107877 -0.377773  0.017306   \n",
       "3    4.905178e-01     0.465197          -0.107877  0.127271 -1.064332   \n",
       "4   -2.306679e-01    -0.692731          -0.994659 -1.387862 -0.523513   \n",
       "..            ...          ...                ...       ...       ...   \n",
       "495  1.392000e+00     0.134360           1.665688  1.137360  0.558125   \n",
       "496  1.842741e+00     1.623124           1.665688  1.642404  1.639763   \n",
       "497  1.211704e+00     2.119379           1.665688  1.137360  1.639763   \n",
       "498 -4.109644e-01    -0.692731           0.778906  0.632315  1.639763   \n",
       "499  9.412590e-01     0.961451           0.778906  1.137360  1.098944   \n",
       "\n",
       "         CGPA  Research  \n",
       "0    1.776806  0.886405  \n",
       "1    0.485859  0.886405  \n",
       "2   -0.954043  0.886405  \n",
       "3    0.154847  0.886405  \n",
       "4   -0.606480 -1.128152  \n",
       "..        ...       ...  \n",
       "495  0.734118  0.886405  \n",
       "496  2.140919  0.886405  \n",
       "497  1.627851  0.886405  \n",
       "498 -0.242367 -1.128152  \n",
       "499  0.767220 -1.128152  \n",
       "\n",
       "[500 rows x 7 columns]"
      ]
     },
     "execution_count": 72,
     "metadata": {},
     "output_type": "execute_result"
    }
   ],
   "source": [
    "df1"
   ]
  },
  {
   "cell_type": "code",
   "execution_count": 73,
   "id": "1db59607",
   "metadata": {},
   "outputs": [
    {
     "data": {
      "application/vnd.jupyter.widget-view+json": {
       "model_id": "08213b1126fb4e4f982713e6767eeb1d",
       "version_major": 2,
       "version_minor": 0
      },
      "text/plain": [
       "Tab(children=(HTML(value='<div id=\"overview-content\" class=\"row variable spacing\">\\n    <div class=\"row\">\\n   …"
      ]
     },
     "metadata": {},
     "output_type": "display_data"
    },
    {
     "data": {
      "text/html": [
       "Report generated with <a href=\"https://github.com/pandas-profiling/pandas-profiling\">pandas-profiling</a>."
      ],
      "text/plain": [
       "<IPython.core.display.HTML object>"
      ]
     },
     "metadata": {},
     "output_type": "display_data"
    },
    {
     "data": {
      "text/plain": []
     },
     "execution_count": 73,
     "metadata": {},
     "output_type": "execute_result"
    }
   ],
   "source": [
    "ProfileReport(df1)"
   ]
  },
  {
   "cell_type": "code",
   "execution_count": 75,
   "id": "dea001a1",
   "metadata": {},
   "outputs": [
    {
     "data": {
      "text/html": [
       "<div>\n",
       "<style scoped>\n",
       "    .dataframe tbody tr th:only-of-type {\n",
       "        vertical-align: middle;\n",
       "    }\n",
       "\n",
       "    .dataframe tbody tr th {\n",
       "        vertical-align: top;\n",
       "    }\n",
       "\n",
       "    .dataframe thead th {\n",
       "        text-align: right;\n",
       "    }\n",
       "</style>\n",
       "<table border=\"1\" class=\"dataframe\">\n",
       "  <thead>\n",
       "    <tr style=\"text-align: right;\">\n",
       "      <th></th>\n",
       "      <th>GRE_Score</th>\n",
       "      <th>TOEFL_Score</th>\n",
       "      <th>University_Rating</th>\n",
       "      <th>SOP</th>\n",
       "      <th>LOR</th>\n",
       "      <th>CGPA</th>\n",
       "      <th>Research</th>\n",
       "    </tr>\n",
       "  </thead>\n",
       "  <tbody>\n",
       "    <tr>\n",
       "      <th>count</th>\n",
       "      <td>5.000000e+02</td>\n",
       "      <td>5.000000e+02</td>\n",
       "      <td>5.000000e+02</td>\n",
       "      <td>5.000000e+02</td>\n",
       "      <td>5.000000e+02</td>\n",
       "      <td>5.000000e+02</td>\n",
       "      <td>5.000000e+02</td>\n",
       "    </tr>\n",
       "    <tr>\n",
       "      <th>mean</th>\n",
       "      <td>4.350520e-15</td>\n",
       "      <td>9.419132e-16</td>\n",
       "      <td>5.608847e-16</td>\n",
       "      <td>2.926548e-16</td>\n",
       "      <td>-1.332268e-17</td>\n",
       "      <td>3.091971e-15</td>\n",
       "      <td>-2.202682e-16</td>\n",
       "    </tr>\n",
       "    <tr>\n",
       "      <th>std</th>\n",
       "      <td>1.001002e+00</td>\n",
       "      <td>1.001002e+00</td>\n",
       "      <td>1.001002e+00</td>\n",
       "      <td>1.001002e+00</td>\n",
       "      <td>1.001002e+00</td>\n",
       "      <td>1.001002e+00</td>\n",
       "      <td>1.001002e+00</td>\n",
       "    </tr>\n",
       "    <tr>\n",
       "      <th>min</th>\n",
       "      <td>-2.394225e+00</td>\n",
       "      <td>-2.512331e+00</td>\n",
       "      <td>-1.881441e+00</td>\n",
       "      <td>-2.397950e+00</td>\n",
       "      <td>-2.686789e+00</td>\n",
       "      <td>-2.940115e+00</td>\n",
       "      <td>-1.128152e+00</td>\n",
       "    </tr>\n",
       "    <tr>\n",
       "      <th>25%</th>\n",
       "      <td>-6.814090e-01</td>\n",
       "      <td>-6.927310e-01</td>\n",
       "      <td>-9.946589e-01</td>\n",
       "      <td>-8.828175e-01</td>\n",
       "      <td>-5.235128e-01</td>\n",
       "      <td>-7.430227e-01</td>\n",
       "      <td>-1.128152e+00</td>\n",
       "    </tr>\n",
       "    <tr>\n",
       "      <th>50%</th>\n",
       "      <td>5.124333e-15</td>\n",
       "      <td>-3.105811e-02</td>\n",
       "      <td>-1.078766e-01</td>\n",
       "      <td>1.272712e-01</td>\n",
       "      <td>1.730621e-02</td>\n",
       "      <td>-2.720919e-02</td>\n",
       "      <td>8.864053e-01</td>\n",
       "    </tr>\n",
       "    <tr>\n",
       "      <th>75%</th>\n",
       "      <td>6.708143e-01</td>\n",
       "      <td>7.960330e-01</td>\n",
       "      <td>7.789057e-01</td>\n",
       "      <td>6.323155e-01</td>\n",
       "      <td>5.581253e-01</td>\n",
       "      <td>7.672196e-01</td>\n",
       "      <td>8.864053e-01</td>\n",
       "    </tr>\n",
       "    <tr>\n",
       "      <th>max</th>\n",
       "      <td>2.113186e+00</td>\n",
       "      <td>2.119379e+00</td>\n",
       "      <td>1.665688e+00</td>\n",
       "      <td>1.642404e+00</td>\n",
       "      <td>1.639763e+00</td>\n",
       "      <td>2.223672e+00</td>\n",
       "      <td>8.864053e-01</td>\n",
       "    </tr>\n",
       "  </tbody>\n",
       "</table>\n",
       "</div>"
      ],
      "text/plain": [
       "          GRE_Score   TOEFL_Score  University_Rating           SOP  \\\n",
       "count  5.000000e+02  5.000000e+02       5.000000e+02  5.000000e+02   \n",
       "mean   4.350520e-15  9.419132e-16       5.608847e-16  2.926548e-16   \n",
       "std    1.001002e+00  1.001002e+00       1.001002e+00  1.001002e+00   \n",
       "min   -2.394225e+00 -2.512331e+00      -1.881441e+00 -2.397950e+00   \n",
       "25%   -6.814090e-01 -6.927310e-01      -9.946589e-01 -8.828175e-01   \n",
       "50%    5.124333e-15 -3.105811e-02      -1.078766e-01  1.272712e-01   \n",
       "75%    6.708143e-01  7.960330e-01       7.789057e-01  6.323155e-01   \n",
       "max    2.113186e+00  2.119379e+00       1.665688e+00  1.642404e+00   \n",
       "\n",
       "                LOR          CGPA      Research  \n",
       "count  5.000000e+02  5.000000e+02  5.000000e+02  \n",
       "mean  -1.332268e-17  3.091971e-15 -2.202682e-16  \n",
       "std    1.001002e+00  1.001002e+00  1.001002e+00  \n",
       "min   -2.686789e+00 -2.940115e+00 -1.128152e+00  \n",
       "25%   -5.235128e-01 -7.430227e-01 -1.128152e+00  \n",
       "50%    1.730621e-02 -2.720919e-02  8.864053e-01  \n",
       "75%    5.581253e-01  7.672196e-01  8.864053e-01  \n",
       "max    1.639763e+00  2.223672e+00  8.864053e-01  "
      ]
     },
     "execution_count": 75,
     "metadata": {},
     "output_type": "execute_result"
    }
   ],
   "source": [
    "df1.describe()"
   ]
  },
  {
   "cell_type": "markdown",
   "id": "51b0e747",
   "metadata": {},
   "source": [
    "### Multicolinearity"
   ]
  },
  {
   "cell_type": "code",
   "execution_count": 76,
   "id": "2c09c60d",
   "metadata": {},
   "outputs": [],
   "source": [
    "from statsmodels.stats.outliers_influence import variance_inflation_factor"
   ]
  },
  {
   "cell_type": "code",
   "execution_count": 77,
   "id": "b59c36bc",
   "metadata": {},
   "outputs": [
    {
     "data": {
      "text/plain": [
       "(500, 7)"
      ]
     },
     "execution_count": 77,
     "metadata": {},
     "output_type": "execute_result"
    }
   ],
   "source": [
    "arr.shape"
   ]
  },
  {
   "cell_type": "code",
   "execution_count": 78,
   "id": "757a6953",
   "metadata": {},
   "outputs": [
    {
     "data": {
      "text/plain": [
       "[4.153267572225826,\n",
       " 3.792866110594647,\n",
       " 2.508768242278762,\n",
       " 2.7757495092534947,\n",
       " 2.0373076624897517,\n",
       " 4.651669561154733,\n",
       " 1.4593106786827286]"
      ]
     },
     "execution_count": 78,
     "metadata": {},
     "output_type": "execute_result"
    }
   ],
   "source": [
    "[variance_inflation_factor(arr,i) for i in range(arr.shape[1])] # Variance inflation factor for every columns"
   ]
  },
  {
   "cell_type": "code",
   "execution_count": 79,
   "id": "b66875e9",
   "metadata": {},
   "outputs": [],
   "source": [
    "vif_df = pd.DataFrame()"
   ]
  },
  {
   "cell_type": "code",
   "execution_count": 82,
   "id": "51e6102c",
   "metadata": {},
   "outputs": [],
   "source": [
    "vif_df['vif'] = [variance_inflation_factor(arr,i) for i in range(arr.shape[1])]\n",
    "vif_df['feature'] = x.columns"
   ]
  },
  {
   "cell_type": "code",
   "execution_count": 83,
   "id": "bec8b0c8",
   "metadata": {},
   "outputs": [
    {
     "data": {
      "text/html": [
       "<div>\n",
       "<style scoped>\n",
       "    .dataframe tbody tr th:only-of-type {\n",
       "        vertical-align: middle;\n",
       "    }\n",
       "\n",
       "    .dataframe tbody tr th {\n",
       "        vertical-align: top;\n",
       "    }\n",
       "\n",
       "    .dataframe thead th {\n",
       "        text-align: right;\n",
       "    }\n",
       "</style>\n",
       "<table border=\"1\" class=\"dataframe\">\n",
       "  <thead>\n",
       "    <tr style=\"text-align: right;\">\n",
       "      <th></th>\n",
       "      <th>feature</th>\n",
       "      <th>vif</th>\n",
       "    </tr>\n",
       "  </thead>\n",
       "  <tbody>\n",
       "    <tr>\n",
       "      <th>0</th>\n",
       "      <td>GRE_Score</td>\n",
       "      <td>4.153268</td>\n",
       "    </tr>\n",
       "    <tr>\n",
       "      <th>1</th>\n",
       "      <td>TOEFL_Score</td>\n",
       "      <td>3.792866</td>\n",
       "    </tr>\n",
       "    <tr>\n",
       "      <th>2</th>\n",
       "      <td>University_Rating</td>\n",
       "      <td>2.508768</td>\n",
       "    </tr>\n",
       "    <tr>\n",
       "      <th>3</th>\n",
       "      <td>SOP</td>\n",
       "      <td>2.775750</td>\n",
       "    </tr>\n",
       "    <tr>\n",
       "      <th>4</th>\n",
       "      <td>LOR</td>\n",
       "      <td>2.037308</td>\n",
       "    </tr>\n",
       "    <tr>\n",
       "      <th>5</th>\n",
       "      <td>CGPA</td>\n",
       "      <td>4.651670</td>\n",
       "    </tr>\n",
       "    <tr>\n",
       "      <th>6</th>\n",
       "      <td>Research</td>\n",
       "      <td>1.459311</td>\n",
       "    </tr>\n",
       "  </tbody>\n",
       "</table>\n",
       "</div>"
      ],
      "text/plain": [
       "             feature       vif\n",
       "0          GRE_Score  4.153268\n",
       "1        TOEFL_Score  3.792866\n",
       "2  University_Rating  2.508768\n",
       "3                SOP  2.775750\n",
       "4                LOR  2.037308\n",
       "5               CGPA  4.651670\n",
       "6           Research  1.459311"
      ]
     },
     "execution_count": 83,
     "metadata": {},
     "output_type": "execute_result"
    }
   ],
   "source": [
    "vif_df"
   ]
  },
  {
   "cell_type": "markdown",
   "id": "9bf8396e",
   "metadata": {},
   "source": [
    "No need to remove any columns. Vif < 10. "
   ]
  },
  {
   "cell_type": "markdown",
   "id": "d39d4d7a",
   "metadata": {},
   "source": [
    "### Modelling\n",
    "### Splitting - train_test split"
   ]
  },
  {
   "cell_type": "code",
   "execution_count": 85,
   "id": "3c4dd7ff",
   "metadata": {},
   "outputs": [],
   "source": [
    "x_train, x_test, y_train, y_test = train_test_split(arr, y, test_size=0.25, random_state=42)"
   ]
  },
  {
   "cell_type": "code",
   "execution_count": 86,
   "id": "57294f15",
   "metadata": {},
   "outputs": [],
   "source": [
    "lr = LinearRegression()"
   ]
  },
  {
   "cell_type": "code",
   "execution_count": 87,
   "id": "5f6b1b94",
   "metadata": {},
   "outputs": [
    {
     "data": {
      "text/plain": [
       "LinearRegression()"
      ]
     },
     "execution_count": 87,
     "metadata": {},
     "output_type": "execute_result"
    }
   ],
   "source": [
    "lr.fit(x_train, y_train)"
   ]
  },
  {
   "cell_type": "code",
   "execution_count": 89,
   "id": "e380f529",
   "metadata": {},
   "outputs": [],
   "source": [
    "# Saving model\n",
    "pickle.dump(lr, open('admission_lr_model.pickle', 'wb'))"
   ]
  },
  {
   "cell_type": "code",
   "execution_count": 93,
   "id": "9c22b6ca",
   "metadata": {},
   "outputs": [
    {
     "name": "stderr",
     "output_type": "stream",
     "text": [
      "'ls' is not recognized as an internal or external command,\n",
      "operable program or batch file.\n"
     ]
    }
   ],
   "source": [
    "import os\n",
    "!ls"
   ]
  },
  {
   "cell_type": "code",
   "execution_count": 97,
   "id": "6ebb8bc5",
   "metadata": {},
   "outputs": [
    {
     "data": {
      "text/html": [
       "<div>\n",
       "<style scoped>\n",
       "    .dataframe tbody tr th:only-of-type {\n",
       "        vertical-align: middle;\n",
       "    }\n",
       "\n",
       "    .dataframe tbody tr th {\n",
       "        vertical-align: top;\n",
       "    }\n",
       "\n",
       "    .dataframe thead th {\n",
       "        text-align: right;\n",
       "    }\n",
       "</style>\n",
       "<table border=\"1\" class=\"dataframe\">\n",
       "  <thead>\n",
       "    <tr style=\"text-align: right;\">\n",
       "      <th></th>\n",
       "      <th>Serial No.</th>\n",
       "      <th>GRE Score</th>\n",
       "      <th>TOEFL Score</th>\n",
       "      <th>University Rating</th>\n",
       "      <th>SOP</th>\n",
       "      <th>LOR</th>\n",
       "      <th>CGPA</th>\n",
       "      <th>Research</th>\n",
       "      <th>Chance of Admit</th>\n",
       "    </tr>\n",
       "  </thead>\n",
       "  <tbody>\n",
       "    <tr>\n",
       "      <th>0</th>\n",
       "      <td>1</td>\n",
       "      <td>337.0</td>\n",
       "      <td>118.0</td>\n",
       "      <td>4.0</td>\n",
       "      <td>4.5</td>\n",
       "      <td>4.5</td>\n",
       "      <td>9.65</td>\n",
       "      <td>1</td>\n",
       "      <td>0.92</td>\n",
       "    </tr>\n",
       "    <tr>\n",
       "      <th>1</th>\n",
       "      <td>2</td>\n",
       "      <td>324.0</td>\n",
       "      <td>107.0</td>\n",
       "      <td>4.0</td>\n",
       "      <td>4.0</td>\n",
       "      <td>4.5</td>\n",
       "      <td>8.87</td>\n",
       "      <td>1</td>\n",
       "      <td>0.76</td>\n",
       "    </tr>\n",
       "    <tr>\n",
       "      <th>2</th>\n",
       "      <td>3</td>\n",
       "      <td>NaN</td>\n",
       "      <td>104.0</td>\n",
       "      <td>3.0</td>\n",
       "      <td>3.0</td>\n",
       "      <td>3.5</td>\n",
       "      <td>8.00</td>\n",
       "      <td>1</td>\n",
       "      <td>0.72</td>\n",
       "    </tr>\n",
       "    <tr>\n",
       "      <th>3</th>\n",
       "      <td>4</td>\n",
       "      <td>322.0</td>\n",
       "      <td>110.0</td>\n",
       "      <td>3.0</td>\n",
       "      <td>3.5</td>\n",
       "      <td>2.5</td>\n",
       "      <td>8.67</td>\n",
       "      <td>1</td>\n",
       "      <td>0.80</td>\n",
       "    </tr>\n",
       "    <tr>\n",
       "      <th>4</th>\n",
       "      <td>5</td>\n",
       "      <td>314.0</td>\n",
       "      <td>103.0</td>\n",
       "      <td>2.0</td>\n",
       "      <td>2.0</td>\n",
       "      <td>3.0</td>\n",
       "      <td>8.21</td>\n",
       "      <td>0</td>\n",
       "      <td>0.65</td>\n",
       "    </tr>\n",
       "    <tr>\n",
       "      <th>...</th>\n",
       "      <td>...</td>\n",
       "      <td>...</td>\n",
       "      <td>...</td>\n",
       "      <td>...</td>\n",
       "      <td>...</td>\n",
       "      <td>...</td>\n",
       "      <td>...</td>\n",
       "      <td>...</td>\n",
       "      <td>...</td>\n",
       "    </tr>\n",
       "    <tr>\n",
       "      <th>495</th>\n",
       "      <td>496</td>\n",
       "      <td>332.0</td>\n",
       "      <td>108.0</td>\n",
       "      <td>5.0</td>\n",
       "      <td>4.5</td>\n",
       "      <td>4.0</td>\n",
       "      <td>9.02</td>\n",
       "      <td>1</td>\n",
       "      <td>0.87</td>\n",
       "    </tr>\n",
       "    <tr>\n",
       "      <th>496</th>\n",
       "      <td>497</td>\n",
       "      <td>337.0</td>\n",
       "      <td>117.0</td>\n",
       "      <td>5.0</td>\n",
       "      <td>5.0</td>\n",
       "      <td>5.0</td>\n",
       "      <td>9.87</td>\n",
       "      <td>1</td>\n",
       "      <td>0.96</td>\n",
       "    </tr>\n",
       "    <tr>\n",
       "      <th>497</th>\n",
       "      <td>498</td>\n",
       "      <td>330.0</td>\n",
       "      <td>120.0</td>\n",
       "      <td>5.0</td>\n",
       "      <td>4.5</td>\n",
       "      <td>5.0</td>\n",
       "      <td>9.56</td>\n",
       "      <td>1</td>\n",
       "      <td>0.93</td>\n",
       "    </tr>\n",
       "    <tr>\n",
       "      <th>498</th>\n",
       "      <td>499</td>\n",
       "      <td>312.0</td>\n",
       "      <td>103.0</td>\n",
       "      <td>4.0</td>\n",
       "      <td>4.0</td>\n",
       "      <td>5.0</td>\n",
       "      <td>8.43</td>\n",
       "      <td>0</td>\n",
       "      <td>0.73</td>\n",
       "    </tr>\n",
       "    <tr>\n",
       "      <th>499</th>\n",
       "      <td>500</td>\n",
       "      <td>327.0</td>\n",
       "      <td>113.0</td>\n",
       "      <td>4.0</td>\n",
       "      <td>4.5</td>\n",
       "      <td>4.5</td>\n",
       "      <td>9.04</td>\n",
       "      <td>0</td>\n",
       "      <td>0.84</td>\n",
       "    </tr>\n",
       "  </tbody>\n",
       "</table>\n",
       "<p>500 rows × 9 columns</p>\n",
       "</div>"
      ],
      "text/plain": [
       "     Serial No.  GRE Score  TOEFL Score  University Rating  SOP  LOR  CGPA  \\\n",
       "0             1      337.0        118.0                4.0  4.5  4.5  9.65   \n",
       "1             2      324.0        107.0                4.0  4.0  4.5  8.87   \n",
       "2             3        NaN        104.0                3.0  3.0  3.5  8.00   \n",
       "3             4      322.0        110.0                3.0  3.5  2.5  8.67   \n",
       "4             5      314.0        103.0                2.0  2.0  3.0  8.21   \n",
       "..          ...        ...          ...                ...  ...  ...   ...   \n",
       "495         496      332.0        108.0                5.0  4.5  4.0  9.02   \n",
       "496         497      337.0        117.0                5.0  5.0  5.0  9.87   \n",
       "497         498      330.0        120.0                5.0  4.5  5.0  9.56   \n",
       "498         499      312.0        103.0                4.0  4.0  5.0  8.43   \n",
       "499         500      327.0        113.0                4.0  4.5  4.5  9.04   \n",
       "\n",
       "     Research  Chance of Admit  \n",
       "0           1             0.92  \n",
       "1           1             0.76  \n",
       "2           1             0.72  \n",
       "3           1             0.80  \n",
       "4           0             0.65  \n",
       "..        ...              ...  \n",
       "495         1             0.87  \n",
       "496         1             0.96  \n",
       "497         1             0.93  \n",
       "498         0             0.73  \n",
       "499         0             0.84  \n",
       "\n",
       "[500 rows x 9 columns]"
      ]
     },
     "execution_count": 97,
     "metadata": {},
     "output_type": "execute_result"
    }
   ],
   "source": [
    "# Predictions\n",
    "adm = pd.read_csv('Admission_Prediction.csv')\n",
    "adm"
   ]
  },
  {
   "cell_type": "code",
   "execution_count": 98,
   "id": "75757720",
   "metadata": {},
   "outputs": [
    {
     "data": {
      "text/plain": [
       "array([11.32582343])"
      ]
     },
     "execution_count": 98,
     "metadata": {},
     "output_type": "execute_result"
    }
   ],
   "source": [
    "lr.predict([[337.000000,118.0,4.0,4.5,4.5,9.65,1]])"
   ]
  },
  {
   "cell_type": "code",
   "execution_count": 99,
   "id": "ffe04821",
   "metadata": {},
   "outputs": [
    {
     "data": {
      "text/plain": [
       "array([[1.84274116, 1.78854223, 0.77890565, 1.13735981, 1.09894429,\n",
       "        1.77680627, 0.88640526]])"
      ]
     },
     "execution_count": 99,
     "metadata": {},
     "output_type": "execute_result"
    }
   ],
   "source": [
    "# Predicting with scaled data\n",
    "scaler.transform([[337.000000,118.0,4.0,4.5,4.5,9.65,1]])"
   ]
  },
  {
   "cell_type": "code",
   "execution_count": 100,
   "id": "b8351dca",
   "metadata": {},
   "outputs": [
    {
     "data": {
      "text/plain": [
       "array([0.95976005])"
      ]
     },
     "execution_count": 100,
     "metadata": {},
     "output_type": "execute_result"
    }
   ],
   "source": [
    "lr.predict([[1.84274116, 1.78854223, 0.77890565, 1.13735981, 1.09894429,\n",
    "        1.77680627, 0.88640526]])"
   ]
  },
  {
   "cell_type": "code",
   "execution_count": 102,
   "id": "71f58b8f",
   "metadata": {},
   "outputs": [],
   "source": [
    "# Predicting with model loaded with pickle\n",
    "model = pickle.load(open('admission_lr_model.pickle', 'rb'))"
   ]
  },
  {
   "cell_type": "code",
   "execution_count": 103,
   "id": "3e828a56",
   "metadata": {},
   "outputs": [
    {
     "data": {
      "text/plain": [
       "array([0.95976005])"
      ]
     },
     "execution_count": 103,
     "metadata": {},
     "output_type": "execute_result"
    }
   ],
   "source": [
    "test1 = scaler.transform([[337.000000,118.0,4.0,4.5,4.5,9.65,1]])\n",
    "model.predict(test1)"
   ]
  },
  {
   "cell_type": "markdown",
   "id": "04ef232b",
   "metadata": {},
   "source": [
    "### Evaluation of the model"
   ]
  },
  {
   "cell_type": "code",
   "execution_count": 105,
   "id": "48dae6a0",
   "metadata": {},
   "outputs": [
    {
     "data": {
      "text/plain": [
       "array([[ 1.57229650e+00,  1.45770580e+00,  7.78905651e-01,\n",
       "         6.32315491e-01,  1.73062093e-02,  1.59474966e+00,\n",
       "         8.86405260e-01],\n",
       "       [-2.30667922e-01,  1.34360100e-01,  7.78905651e-01,\n",
       "         1.13735981e+00,  5.58125251e-01,  7.67219636e-01,\n",
       "         8.86405260e-01],\n",
       "       [-1.40519701e-01, -3.61894539e-01, -9.94658860e-01,\n",
       "        -1.38786180e+00, -1.06433187e+00, -1.53331383e+00,\n",
       "        -1.12815215e+00],\n",
       "       [ 5.12433309e-15,  2.99778313e-01, -1.07876604e-01,\n",
       "        -3.77773152e-01, -5.23512832e-01,  1.87948619e-01,\n",
       "        -1.12815215e+00],\n",
       "       [ 8.51110730e-01,  7.96032952e-01, -1.07876604e-01,\n",
       "         1.27271169e-01, -5.23512832e-01,  7.83770236e-01,\n",
       "         8.86405260e-01],\n",
       "       [ 1.12155539e+00,  6.30614739e-01,  7.78905651e-01,\n",
       "         1.13735981e+00,  5.58125251e-01,  1.08168105e+00,\n",
       "         8.86405260e-01],\n",
       "       [-2.39422523e+00, -1.18898560e+00, -1.88144112e+00,\n",
       "        -1.89290612e+00, -1.60515091e+00, -1.68226924e+00,\n",
       "        -1.12815215e+00],\n",
       "       [ 5.12433309e-15, -1.96476326e-01,  7.78905651e-01,\n",
       "        -8.82817474e-01, -5.23512832e-01, -1.76164592e-01,\n",
       "        -1.12815215e+00],\n",
       "       [ 1.29924962e-01,  2.99778313e-01, -1.07876604e-01,\n",
       "         1.27271169e-01,  5.58125251e-01,  1.06513044e+00,\n",
       "         8.86405260e-01],\n",
       "       [ 3.10221404e-01,  7.96032952e-01,  7.78905651e-01,\n",
       "        -3.77773152e-01,  1.09894429e+00,  4.69308827e-01,\n",
       "         8.86405260e-01],\n",
       "       [ 5.80666067e-01,  1.34360100e-01, -1.07876604e-01,\n",
       "         1.27271169e-01, -5.23512832e-01,  3.89932147e-02,\n",
       "        -1.12815215e+00],\n",
       "       [-5.03714802e-02,  2.99778313e-01, -1.07876604e-01,\n",
       "         1.27271169e-01, -5.23512832e-01,  3.03802822e-01,\n",
       "        -1.12815215e+00],\n",
       "       [ 4.90517846e-01, -6.92730965e-01,  7.78905651e-01,\n",
       "        -3.77773152e-01, -1.06433187e+00, -9.20941613e-01,\n",
       "         8.86405260e-01],\n",
       "       [ 2.11318582e+00,  1.29228759e+00,  1.66568791e+00,\n",
       "         1.13735981e+00,  1.09894429e+00,  1.44579426e+00,\n",
       "         8.86405260e-01],\n",
       "       [ 6.70814288e-01,  4.65196526e-01, -1.07876604e-01,\n",
       "         1.27271169e-01, -5.23512832e-01,  1.06513044e+00,\n",
       "         8.86405260e-01],\n",
       "       [-1.85333590e+00, -1.68524024e+00, -9.94658860e-01,\n",
       "        -1.89290612e+00, -1.60515091e+00, -1.28505482e+00,\n",
       "        -1.12815215e+00],\n",
       "       [ 1.39200006e+00,  1.34360100e-01,  1.66568791e+00,\n",
       "         1.13735981e+00,  5.58125251e-01,  7.34118435e-01,\n",
       "         8.86405260e-01],\n",
       "       [-1.49274302e+00, -1.68524024e+00, -9.94658860e-01,\n",
       "        -3.77773152e-01, -5.23512832e-01, -7.88536809e-01,\n",
       "         8.86405260e-01],\n",
       "       [-1.67303946e+00, -1.02356739e+00, -9.94658860e-01,\n",
       "        -1.89290612e+00, -1.60515091e+00, -1.18575122e+00,\n",
       "        -1.12815215e+00],\n",
       "       [-1.76318768e+00, -1.02356739e+00, -1.07876604e-01,\n",
       "        -1.38786180e+00,  5.58125251e-01, -1.50021263e+00,\n",
       "         8.86405260e-01],\n",
       "       [-8.61705469e-01, -3.61894539e-01, -9.94658860e-01,\n",
       "        -8.82817474e-01,  1.09894429e+00, -7.55435608e-01,\n",
       "         8.86405260e-01],\n",
       "       [-1.76318768e+00, -1.35440382e+00,  7.78905651e-01,\n",
       "        -3.77773152e-01,  1.73062093e-02, -1.26850422e+00,\n",
       "        -1.12815215e+00],\n",
       "       [-5.01112585e-01, -8.58149178e-01, -1.07876604e-01,\n",
       "         1.13735981e+00,  5.58125251e-01,  1.05195617e-01,\n",
       "         8.86405260e-01],\n",
       "       [ 9.41258951e-01,  2.99778313e-01, -1.07876604e-01,\n",
       "         1.27271169e-01,  5.58125251e-01,  3.20353423e-01,\n",
       "         8.86405260e-01],\n",
       "       [ 9.41258951e-01,  7.96032952e-01, -1.07876604e-01,\n",
       "        -3.77773152e-01, -5.23512832e-01,  2.37600421e-01,\n",
       "         8.86405260e-01],\n",
       "       [-1.40259480e+00, -8.58149178e-01, -1.07876604e-01,\n",
       "        -8.82817474e-01, -1.60515091e+00, -7.38885008e-01,\n",
       "         8.86405260e-01],\n",
       "       [ 1.21170361e+00,  2.11937866e+00,  1.66568791e+00,\n",
       "         1.13735981e+00,  1.63976333e+00,  1.62785086e+00,\n",
       "         8.86405260e-01],\n",
       "       [ 1.03140717e+00,  4.65196526e-01,  7.78905651e-01,\n",
       "         1.64240413e+00,  5.58125251e-01,  9.32725641e-01,\n",
       "         8.86405260e-01],\n",
       "       [-4.10964364e-01, -3.61894539e-01, -9.94658860e-01,\n",
       "        -8.82817474e-01, -5.23512832e-01, -7.55435608e-01,\n",
       "        -1.12815215e+00],\n",
       "       [-4.10964364e-01, -3.10581135e-02,  7.78905651e-01,\n",
       "         1.13735981e+00,  5.58125251e-01,  1.21746217e-01,\n",
       "         8.86405260e-01],\n",
       "       [-1.49274302e+00, -1.02356739e+00, -1.07876604e-01,\n",
       "         1.27271169e-01, -1.06433187e+00, -1.15265002e+00,\n",
       "        -1.12815215e+00],\n",
       "       [ 2.20073183e-01,  4.65196526e-01, -1.07876604e-01,\n",
       "        -3.77773152e-01, -1.06433187e+00,  3.53454624e-01,\n",
       "        -1.12815215e+00],\n",
       "       [-1.04200191e+00, -5.27312752e-01, -9.94658860e-01,\n",
       "        -8.82817474e-01, -2.14596996e+00, -1.30160542e+00,\n",
       "        -1.12815215e+00],\n",
       "       [ 5.80666067e-01,  9.61451165e-01,  7.78905651e-01,\n",
       "         6.32315491e-01,  1.09894429e+00,  1.08168105e+00,\n",
       "         8.86405260e-01],\n",
       "       [ 5.12433309e-15, -5.27312752e-01, -1.07876604e-01,\n",
       "        -3.77773152e-01,  1.73062093e-02, -9.54042814e-01,\n",
       "         8.86405260e-01],\n",
       "       [ 2.20073183e-01,  1.34360100e-01, -1.07876604e-01,\n",
       "        -3.77773152e-01,  1.73062093e-02, -6.03103882e-02,\n",
       "         8.86405260e-01],\n",
       "       [-1.49274302e+00, -1.51982203e+00, -1.88144112e+00,\n",
       "        -1.38786180e+00, -1.06433187e+00, -9.20941613e-01,\n",
       "        -1.12815215e+00],\n",
       "       [ 5.12433309e-15,  1.78854223e+00,  1.66568791e+00,\n",
       "         1.64240413e+00,  1.63976333e+00,  1.76025566e+00,\n",
       "         8.86405260e-01],\n",
       "       [-1.40259480e+00, -5.27312752e-01, -1.07876604e-01,\n",
       "         1.27271169e-01,  5.58125251e-01, -7.55435608e-01,\n",
       "         8.86405260e-01],\n",
       "       [-1.40519701e-01, -3.10581135e-02, -9.94658860e-01,\n",
       "         6.32315491e-01, -5.23512832e-01, -1.26512790e-01,\n",
       "         8.86405260e-01],\n",
       "       [ 2.11318582e+00,  9.61451165e-01,  7.78905651e-01,\n",
       "         1.64240413e+00,  1.63976333e+00,  1.92576167e+00,\n",
       "         8.86405260e-01],\n",
       "       [-1.40259480e+00, -1.68524024e+00, -9.94658860e-01,\n",
       "        -3.77773152e-01, -5.23512832e-01, -1.15265002e+00,\n",
       "         8.86405260e-01],\n",
       "       [-5.01112585e-01,  0.00000000e+00, -9.94658860e-01,\n",
       "        -8.82817474e-01,  1.73062093e-02, -3.91322398e-01,\n",
       "         8.86405260e-01],\n",
       "       [ 9.41258951e-01,  9.61451165e-01,  7.78905651e-01,\n",
       "         1.13735981e+00,  1.09894429e+00,  8.83073839e-01,\n",
       "         8.86405260e-01],\n",
       "       [ 2.11318582e+00,  1.12686938e+00,  1.66568791e+00,\n",
       "         6.32315491e-01,  5.58125251e-01,  1.69405326e+00,\n",
       "         8.86405260e-01],\n",
       "       [-1.40259480e+00, -1.35440382e+00, -9.94658860e-01,\n",
       "        -3.77773152e-01, -1.60515091e+00, -5.89929604e-01,\n",
       "        -1.12815215e+00],\n",
       "       [ 1.84274116e+00,  1.78854223e+00,  7.78905651e-01,\n",
       "         1.13735981e+00,  1.09894429e+00,  1.77680627e+00,\n",
       "         8.86405260e-01],\n",
       "       [ 9.41258951e-01,  6.30614739e-01,  7.78905651e-01,\n",
       "         6.32315491e-01,  1.09894429e+00,  7.01017234e-01,\n",
       "         8.86405260e-01],\n",
       "       [ 9.41258951e-01,  0.00000000e+00,  7.78905651e-01,\n",
       "         6.32315491e-01,  1.09894429e+00,  2.87252222e-01,\n",
       "         8.86405260e-01],\n",
       "       [ 1.03140717e+00,  1.45770580e+00,  1.66568791e+00,\n",
       "         1.64240413e+00,  1.63976333e+00,  1.52854726e+00,\n",
       "         8.86405260e-01],\n",
       "       [ 4.00369625e-01,  6.30614739e-01,  1.66568791e+00,\n",
       "         1.64240413e+00,  1.63976333e+00,  1.44579426e+00,\n",
       "         8.86405260e-01],\n",
       "       [ 5.12433309e-15, -1.18898560e+00, -9.94658860e-01,\n",
       "        -3.77773152e-01,  1.73062093e-02, -1.15265002e+00,\n",
       "        -1.12815215e+00],\n",
       "       [-1.22229835e+00, -3.61894539e-01,  1.66568791e+00,\n",
       "         1.64240413e+00,  1.09894429e+00,  1.21746217e-01,\n",
       "        -1.12815215e+00],\n",
       "       [-1.40259480e+00, -1.85065846e+00, -1.88144112e+00,\n",
       "        -3.77773152e-01,  5.58125251e-01, -1.68226924e+00,\n",
       "        -1.12815215e+00],\n",
       "       [ 1.75259294e+00,  1.78854223e+00,  1.66568791e+00,\n",
       "         1.13735981e+00,  1.63976333e+00,  1.57819906e+00,\n",
       "         8.86405260e-01],\n",
       "       [ 3.10221404e-01, -6.92730965e-01, -1.07876604e-01,\n",
       "        -3.77773152e-01, -5.23512832e-01, -1.45056083e+00,\n",
       "        -1.12815215e+00],\n",
       "       [ 2.02303760e+00,  1.45770580e+00,  7.78905651e-01,\n",
       "         6.32315491e-01,  1.73062093e-02,  2.02506527e+00,\n",
       "         8.86405260e-01],\n",
       "       [ 1.29924962e-01,  4.65196526e-01, -1.07876604e-01,\n",
       "         6.32315491e-01, -5.23512832e-01,  3.70005224e-01,\n",
       "        -1.12815215e+00],\n",
       "       [-1.67303946e+00, -3.61894539e-01, -1.07876604e-01,\n",
       "         1.27271169e-01,  5.58125251e-01, -6.03103882e-02,\n",
       "        -1.12815215e+00],\n",
       "       [-1.85333590e+00, -2.01607667e+00, -9.94658860e-01,\n",
       "        -3.77773152e-01, -1.60515091e+00, -1.71537044e+00,\n",
       "         8.86405260e-01],\n",
       "       [-1.40259480e+00, -1.35440382e+00, -1.07876604e-01,\n",
       "        -8.82817474e-01, -1.60515091e+00, -2.09265793e-01,\n",
       "         8.86405260e-01],\n",
       "       [-7.71557248e-01, -6.92730965e-01, -9.94658860e-01,\n",
       "        -8.82817474e-01,  5.58125251e-01, -3.58221197e-01,\n",
       "         8.86405260e-01],\n",
       "       [-1.04200191e+00, -8.58149178e-01, -9.94658860e-01,\n",
       "        -1.38786180e+00, -1.06433187e+00, -6.56132006e-01,\n",
       "        -1.12815215e+00],\n",
       "       [-1.13215013e+00, -6.92730965e-01,  1.66568791e+00,\n",
       "         1.64240413e+00, -5.23512832e-01, -1.08644762e+00,\n",
       "        -1.12815215e+00],\n",
       "       [-2.03363234e+00, -2.34691310e+00, -1.88144112e+00,\n",
       "        -1.89290612e+00, -1.60515091e+00, -2.01328125e+00,\n",
       "        -1.12815215e+00],\n",
       "       [-8.61705469e-01,  1.34360100e-01, -9.94658860e-01,\n",
       "         6.32315491e-01,  1.73062093e-02, -1.45056083e+00,\n",
       "        -1.12815215e+00],\n",
       "       [ 6.70814288e-01,  9.61451165e-01,  7.78905651e-01,\n",
       "         1.13735981e+00,  1.09894429e+00,  1.11478225e+00,\n",
       "         8.86405260e-01],\n",
       "       [ 1.12155539e+00,  1.12686938e+00,  1.66568791e+00,\n",
       "         6.32315491e-01,  1.63976333e+00,  1.19753525e+00,\n",
       "         8.86405260e-01],\n",
       "       [-5.91260806e-01, -5.27312752e-01, -1.07876604e-01,\n",
       "        -1.38786180e+00,  1.73062093e-02, -3.41670596e-01,\n",
       "        -1.12815215e+00],\n",
       "       [ 1.29924962e-01, -1.96476326e-01, -1.07876604e-01,\n",
       "        -1.38786180e+00, -5.23512832e-01,  1.21746217e-01,\n",
       "        -1.12815215e+00],\n",
       "       [-1.22229835e+00, -1.18898560e+00, -9.94658860e-01,\n",
       "        -3.77773152e-01,  1.73062093e-02, -8.54739211e-01,\n",
       "         8.86405260e-01],\n",
       "       [ 8.51110730e-01,  4.65196526e-01, -1.07876604e-01,\n",
       "         1.27271169e-01,  1.73062093e-02,  3.03802822e-01,\n",
       "         8.86405260e-01],\n",
       "       [ 3.10221404e-01, -1.02356739e+00, -9.94658860e-01,\n",
       "        -8.82817474e-01, -5.23512832e-01,  7.20944157e-02,\n",
       "        -1.12815215e+00],\n",
       "       [-8.61705469e-01, -3.61894539e-01, -9.94658860e-01,\n",
       "        -8.82817474e-01, -5.23512832e-01, -1.53331383e+00,\n",
       "        -1.12815215e+00],\n",
       "       [-1.49274302e+00, -1.35440382e+00, -1.88144112e+00,\n",
       "        -2.39795044e+00, -1.06433187e+00, -9.37492214e-01,\n",
       "        -1.12815215e+00],\n",
       "       [-3.20816143e-01, -1.96476326e-01, -9.94658860e-01,\n",
       "        -8.82817474e-01, -1.60515091e+00, -2.42366993e-01,\n",
       "        -1.12815215e+00],\n",
       "       [ 9.41258951e-01,  9.61451165e-01,  7.78905651e-01,\n",
       "         1.13735981e+00,  1.63976333e+00,  9.32725641e-01,\n",
       "        -1.12815215e+00],\n",
       "       [ 1.03140717e+00,  1.29228759e+00,  7.78905651e-01,\n",
       "         1.13735981e+00,  5.58125251e-01,  9.65826842e-01,\n",
       "         8.86405260e-01],\n",
       "       [-1.04200191e+00, -8.58149178e-01, -9.94658860e-01,\n",
       "        -1.89290612e+00, -1.06433187e+00, -1.54986443e+00,\n",
       "        -1.12815215e+00],\n",
       "       [-1.04200191e+00, -1.85065846e+00,  7.78905651e-01,\n",
       "        -3.77773152e-01,  1.09894429e+00, -5.23727202e-01,\n",
       "        -1.12815215e+00],\n",
       "       [ 8.51110730e-01,  1.34360100e-01, -1.07876604e-01,\n",
       "        -3.77773152e-01,  1.73062093e-02,  5.18960629e-01,\n",
       "        -1.12815215e+00],\n",
       "       [ 3.10221404e-01,  4.65196526e-01,  1.66568791e+00,\n",
       "         1.64240413e+00,  1.09894429e+00,  1.06513044e+00,\n",
       "         8.86405260e-01],\n",
       "       [-6.81409027e-01, -3.61894539e-01,  7.78905651e-01,\n",
       "         1.27271169e-01, -1.60515091e+00, -6.56132006e-01,\n",
       "        -1.12815215e+00],\n",
       "       [ 4.90517846e-01,  0.00000000e+00,  7.78905651e-01,\n",
       "         6.32315491e-01,  1.63976333e+00,  9.16175040e-01,\n",
       "         8.86405260e-01],\n",
       "       [ 5.80666067e-01, -5.27312752e-01, -1.07876604e-01,\n",
       "         6.32315491e-01,  5.58125251e-01, -2.25816393e-01,\n",
       "         8.86405260e-01],\n",
       "       [ 1.29924962e-01, -1.96476326e-01, -9.94658860e-01,\n",
       "         6.32315491e-01,  5.58125251e-01, -1.08644762e+00,\n",
       "         8.86405260e-01],\n",
       "       [-1.49274302e+00, -5.27312752e-01, -1.07876604e-01,\n",
       "         1.27271169e-01, -5.23512832e-01, -6.89233206e-01,\n",
       "        -1.12815215e+00],\n",
       "       [ 4.00369625e-01,  4.65196526e-01,  7.78905651e-01,\n",
       "         1.27271169e-01,  5.58125251e-01, -3.74771797e-01,\n",
       "         8.86405260e-01],\n",
       "       [-5.01112585e-01, -3.10581135e-02,  7.78905651e-01,\n",
       "         1.13735981e+00,  1.09894429e+00,  7.01017234e-01,\n",
       "         8.86405260e-01],\n",
       "       [-7.71557248e-01, -6.92730965e-01, -9.94658860e-01,\n",
       "        -3.77773152e-01,  1.73062093e-02, -1.43063391e-01,\n",
       "        -1.12815215e+00],\n",
       "       [ 2.20073183e-01, -3.61894539e-01, -1.07876604e-01,\n",
       "        -3.77773152e-01,  1.73062093e-02,  1.54847418e-01,\n",
       "         8.86405260e-01],\n",
       "       [ 9.41258951e-01,  1.45770580e+00,  7.78905651e-01,\n",
       "         6.32315491e-01,  1.09894429e+00,  1.49544606e+00,\n",
       "         8.86405260e-01],\n",
       "       [ 1.93288938e+00,  1.29228759e+00,  1.66568791e+00,\n",
       "         1.13735981e+00,  1.63976333e+00,  1.08168105e+00,\n",
       "         8.86405260e-01],\n",
       "       [-1.40519701e-01, -5.27312752e-01, -1.07876604e-01,\n",
       "        -3.77773152e-01, -1.06433187e+00, -4.07872998e-01,\n",
       "        -1.12815215e+00],\n",
       "       [ 3.10221404e-01,  7.96032952e-01, -9.94658860e-01,\n",
       "         1.27271169e-01,  1.73062093e-02,  3.36904023e-01,\n",
       "         8.86405260e-01],\n",
       "       [-1.58289124e+00, -2.18149488e+00, -1.88144112e+00,\n",
       "        -2.39795044e+00, -2.68678900e+00, -2.04638245e+00,\n",
       "        -1.12815215e+00],\n",
       "       [-1.40519701e-01, -1.96476326e-01, -1.07876604e-01,\n",
       "         1.13735981e+00,  1.73062093e-02, -2.58917594e-01,\n",
       "        -1.12815215e+00],\n",
       "       [ 1.12155539e+00,  1.12686938e+00, -9.94658860e-01,\n",
       "        -1.38786180e+00,  5.58125251e-01, -2.72091872e-02,\n",
       "         8.86405260e-01],\n",
       "       [ 1.29924962e-01,  4.65196526e-01,  3.93810431e-16,\n",
       "        -8.82817474e-01,  1.73062093e-02, -6.03103882e-02,\n",
       "         8.86405260e-01],\n",
       "       [-2.30667922e-01, -3.61894539e-01, -1.07876604e-01,\n",
       "         1.27271169e-01, -1.06433187e+00, -4.57524800e-01,\n",
       "        -1.12815215e+00],\n",
       "       [ 4.00369625e-01,  6.30614739e-01, -1.07876604e-01,\n",
       "         1.27271169e-01,  5.58125251e-01,  4.19657026e-01,\n",
       "         8.86405260e-01],\n",
       "       [-5.03714802e-02,  6.30614739e-01,  7.78905651e-01,\n",
       "         6.32315491e-01,  1.63976333e+00, -6.03103882e-02,\n",
       "        -1.12815215e+00],\n",
       "       [-1.22229835e+00, -8.58149178e-01, -1.07876604e-01,\n",
       "         1.27271169e-01, -5.23512832e-01, -1.26512790e-01,\n",
       "        -1.12815215e+00],\n",
       "       [-2.30667922e-01, -3.10581135e-02, -9.94658860e-01,\n",
       "        -8.82817474e-01,  5.58125251e-01, -5.07176601e-01,\n",
       "        -1.12815215e+00],\n",
       "       [-7.71557248e-01, -1.96476326e-01, -1.07876604e-01,\n",
       "         1.27271169e-01, -1.06433187e+00, -6.06480204e-01,\n",
       "         8.86405260e-01],\n",
       "       [-5.03714802e-02, -8.58149178e-01, -1.07876604e-01,\n",
       "        -1.38786180e+00, -5.23512832e-01, -1.94707884e+00,\n",
       "        -1.12815215e+00],\n",
       "       [ 2.20073183e-01,  1.34360100e-01, -9.94658860e-01,\n",
       "        -8.82817474e-01, -5.23512832e-01,  3.03802822e-01,\n",
       "        -1.12815215e+00],\n",
       "       [ 6.70814288e-01,  6.30614739e-01,  7.78905651e-01,\n",
       "        -3.77773152e-01, -5.23512832e-01,  7.17567835e-01,\n",
       "         8.86405260e-01],\n",
       "       [-5.01112585e-01, -3.61894539e-01, -9.94658860e-01,\n",
       "        -3.77773152e-01, -1.60515091e+00, -7.55435608e-01,\n",
       "         8.86405260e-01],\n",
       "       [-6.81409027e-01, -3.61894539e-01,  1.66568791e+00,\n",
       "         1.27271169e-01,  1.73062093e-02, -2.72091872e-02,\n",
       "        -1.12815215e+00],\n",
       "       [-5.03714802e-02, -1.18898560e+00, -9.94658860e-01,\n",
       "        -1.89290612e+00, -5.23512832e-01, -6.89233206e-01,\n",
       "         8.86405260e-01],\n",
       "       [ 1.57229650e+00,  1.95396044e+00,  1.66568791e+00,\n",
       "         1.13735981e+00,  1.63976333e+00,  1.59474966e+00,\n",
       "         8.86405260e-01],\n",
       "       [ 7.60962509e-01,  6.30614739e-01,  7.78905651e-01,\n",
       "         6.32315491e-01,  1.09894429e+00,  8.83073839e-01,\n",
       "         8.86405260e-01],\n",
       "       [ 2.11318582e+00,  2.11937866e+00,  1.66568791e+00,\n",
       "         1.13735981e+00,  1.09894429e+00,  1.69405326e+00,\n",
       "         8.86405260e-01],\n",
       "       [-1.67303946e+00, -1.68524024e+00,  3.93810431e-16,\n",
       "        -1.38786180e+00, -5.23512832e-01, -2.26154025e+00,\n",
       "        -1.12815215e+00],\n",
       "       [ 3.97767408e-02,  4.65196526e-01, -1.07876604e-01,\n",
       "         6.32315491e-01,  1.09894429e+00,  8.83073839e-01,\n",
       "         8.86405260e-01],\n",
       "       [-5.01112585e-01, -5.27312752e-01, -9.94658860e-01,\n",
       "        -8.82817474e-01,  1.73062093e-02, -1.59613991e-01,\n",
       "        -1.12815215e+00],\n",
       "       [ 1.12155539e+00,  1.12686938e+00,  1.66568791e+00,\n",
       "         1.13735981e+00,  1.63976333e+00,  1.01547864e+00,\n",
       "         8.86405260e-01],\n",
       "       [-2.39422523e+00, -5.27312752e-01,  7.78905651e-01,\n",
       "        -1.38786180e+00, -1.06433187e+00, -1.84777524e+00,\n",
       "        -1.12815215e+00],\n",
       "       [-3.20816143e-01, -3.10581135e-02, -9.94658860e-01,\n",
       "        -8.82817474e-01, -1.60515091e+00, -1.26512790e-01,\n",
       "         8.86405260e-01],\n",
       "       [-3.20816143e-01, -6.92730965e-01, -1.07876604e-01,\n",
       "         6.32315491e-01,  5.58125251e-01,  2.87252222e-01,\n",
       "        -1.12815215e+00],\n",
       "       [ 1.12155539e+00,  1.95396044e+00,  7.78905651e-01,\n",
       "         1.13735981e+00,  1.09894429e+00,  9.65826842e-01,\n",
       "         8.86405260e-01],\n",
       "       [ 3.97767408e-02, -1.96476326e-01, -1.07876604e-01,\n",
       "         6.32315491e-01,  1.73062093e-02, -1.26512790e-01,\n",
       "         8.86405260e-01],\n",
       "       [ 6.70814288e-01, -3.61894539e-01, -1.07876604e-01,\n",
       "        -3.77773152e-01,  5.58125251e-01,  2.87252222e-01,\n",
       "        -1.12815215e+00],\n",
       "       [ 2.20073183e-01, -1.96476326e-01, -1.07876604e-01,\n",
       "         1.27271169e-01, -1.06433187e+00, -4.07872998e-01,\n",
       "         8.86405260e-01]])"
      ]
     },
     "execution_count": 105,
     "metadata": {},
     "output_type": "execute_result"
    }
   ],
   "source": [
    "    x_test"
   ]
  },
  {
   "cell_type": "code",
   "execution_count": 106,
   "id": "fe92055c",
   "metadata": {},
   "outputs": [
    {
     "data": {
      "text/plain": [
       "361    0.93\n",
       "73     0.84\n",
       "374    0.39\n",
       "155    0.77\n",
       "104    0.74\n",
       "       ... \n",
       "220    0.76\n",
       "176    0.90\n",
       "320    0.75\n",
       "153    0.79\n",
       "231    0.74\n",
       "Name: Chance_of_Admit, Length: 125, dtype: float64"
      ]
     },
     "execution_count": 106,
     "metadata": {},
     "output_type": "execute_result"
    }
   ],
   "source": [
    "y_test"
   ]
  },
  {
   "cell_type": "code",
   "execution_count": 107,
   "id": "4b53f735",
   "metadata": {},
   "outputs": [
    {
     "data": {
      "text/plain": [
       "0.8175497115836482"
      ]
     },
     "execution_count": 107,
     "metadata": {},
     "output_type": "execute_result"
    }
   ],
   "source": [
    "# Calculating r-squared\n",
    "lr.score(x_test, y_test)"
   ]
  },
  {
   "cell_type": "code",
   "execution_count": 110,
   "id": "328a2c1e",
   "metadata": {},
   "outputs": [],
   "source": [
    "# Adjusted r-squared\n",
    "def adj_r2(x,y):\n",
    "    r2 = lr.score(x,y)\n",
    "    n = x.shape[0]\n",
    "    p = x.shape[1]\n",
    "    adjusted_r2 = 1-(1-r2)*(n-1)/(n-p-1)\n",
    "    return adjusted_r2"
   ]
  },
  {
   "cell_type": "code",
   "execution_count": 111,
   "id": "65f0be27",
   "metadata": {},
   "outputs": [
    {
     "data": {
      "text/plain": [
       "0.806633882362157"
      ]
     },
     "execution_count": 111,
     "metadata": {},
     "output_type": "execute_result"
    }
   ],
   "source": [
    "adj_r2(x_test, y_test)"
   ]
  },
  {
   "cell_type": "code",
   "execution_count": 112,
   "id": "4ec694b4",
   "metadata": {},
   "outputs": [
    {
     "data": {
      "text/plain": [
       "(array([0.022218  , 0.01962107, 0.00252948, 0.00128856, 0.01538998,\n",
       "        0.07278466, 0.01299267]),\n",
       " 0.722535407687509)"
      ]
     },
     "execution_count": 112,
     "metadata": {},
     "output_type": "execute_result"
    }
   ],
   "source": [
    "# Checking the equestion\n",
    "lr.coef_, lr.intercept_"
   ]
  },
  {
   "cell_type": "markdown",
   "id": "6686e09d",
   "metadata": {},
   "source": [
    " ### Regularization "
   ]
  },
  {
   "cell_type": "markdown",
   "id": "1c90a0db",
   "metadata": {},
   "source": [
    "### Lasso"
   ]
  },
  {
   "cell_type": "code",
   "execution_count": 125,
   "id": "618e7a0b",
   "metadata": {},
   "outputs": [
    {
     "data": {
      "text/plain": [
       "LassoCV(cv=5, max_iter=200000000, normalize=True)"
      ]
     },
     "execution_count": 125,
     "metadata": {},
     "output_type": "execute_result"
    }
   ],
   "source": [
    "lasso_cv = LassoCV(cv=5, max_iter=200000000, normalize=True)\n",
    "lasso_cv.fit(x_train, y_train)"
   ]
  },
  {
   "cell_type": "code",
   "execution_count": 126,
   "id": "a338d4fc",
   "metadata": {},
   "outputs": [
    {
     "data": {
      "text/plain": [
       "5.9937188109793075e-05"
      ]
     },
     "execution_count": 126,
     "metadata": {},
     "output_type": "execute_result"
    }
   ],
   "source": [
    "lasso_cv.alpha_"
   ]
  },
  {
   "cell_type": "code",
   "execution_count": 127,
   "id": "72943350",
   "metadata": {},
   "outputs": [
    {
     "data": {
      "text/plain": [
       "Lasso(alpha=5.9937188109793075e-05)"
      ]
     },
     "execution_count": 127,
     "metadata": {},
     "output_type": "execute_result"
    }
   ],
   "source": [
    "lasso = Lasso(alpha=lasso_cv.alpha_)\n",
    "lasso.fit(x_train, y_train)"
   ]
  },
  {
   "cell_type": "code",
   "execution_count": 128,
   "id": "bac3b123",
   "metadata": {},
   "outputs": [
    {
     "data": {
      "text/plain": [
       "0.8175868503894765"
      ]
     },
     "execution_count": 128,
     "metadata": {},
     "output_type": "execute_result"
    }
   ],
   "source": [
    "lasso.score(x_test, y_test)"
   ]
  },
  {
   "cell_type": "markdown",
   "id": "f2e0ed33",
   "metadata": {},
   "source": [
    "#### Ridge"
   ]
  },
  {
   "cell_type": "code",
   "execution_count": 136,
   "id": "dfb9b174",
   "metadata": {},
   "outputs": [],
   "source": [
    "alphas = np.random.uniform(0,10, 50)"
   ]
  },
  {
   "cell_type": "code",
   "execution_count": 137,
   "id": "c2dff7d9",
   "metadata": {},
   "outputs": [],
   "source": [
    "ridge_cv = RidgeCV(alphas=alphas, cv=10, normalize=True)"
   ]
  },
  {
   "cell_type": "code",
   "execution_count": 138,
   "id": "ca0b5000",
   "metadata": {},
   "outputs": [
    {
     "data": {
      "text/plain": [
       "RidgeCV(alphas=array([6.8446173 , 8.76546689, 7.77925322, 3.10112758, 8.55602146,\n",
       "       1.14971714, 3.73872013, 4.05077772, 0.64217275, 6.32732219,\n",
       "       7.20001539, 4.78995843, 6.79064201, 5.13327725, 2.46851418,\n",
       "       3.46218572, 3.11047505, 4.66951192, 8.3615347 , 0.13631026,\n",
       "       9.25703213, 5.09451726, 0.13345377, 1.00400151, 3.92375409,\n",
       "       4.75750802, 4.87983014, 5.86233356, 2.13869056, 9.36391679,\n",
       "       8.3670917 , 7.30990863, 5.29717728, 5.73701709, 8.64640351,\n",
       "       5.70360135, 3.25033679, 7.83932718, 5.32480629, 1.07028537,\n",
       "       9.70931003, 6.65128084, 1.45514103, 3.6834711 , 2.72894413,\n",
       "       2.60677081, 2.10606011, 2.99227264, 6.68887837, 5.7757523 ]),\n",
       "        cv=10, normalize=True)"
      ]
     },
     "execution_count": 138,
     "metadata": {},
     "output_type": "execute_result"
    }
   ],
   "source": [
    "ridge_cv.fit(x_train, y_train)"
   ]
  },
  {
   "cell_type": "code",
   "execution_count": 139,
   "id": "72b92959",
   "metadata": {},
   "outputs": [
    {
     "data": {
      "text/plain": [
       "0.13345377439308526"
      ]
     },
     "execution_count": 139,
     "metadata": {},
     "output_type": "execute_result"
    }
   ],
   "source": [
    "ridge_cv.alpha_"
   ]
  },
  {
   "cell_type": "code",
   "execution_count": 140,
   "id": "a077dc6f",
   "metadata": {},
   "outputs": [],
   "source": [
    "ridge = Ridge(alpha=ridge_cv.alpha_)"
   ]
  },
  {
   "cell_type": "code",
   "execution_count": 141,
   "id": "5affbf27",
   "metadata": {},
   "outputs": [
    {
     "data": {
      "text/plain": [
       "Ridge(alpha=0.13345377439308526)"
      ]
     },
     "execution_count": 141,
     "metadata": {},
     "output_type": "execute_result"
    }
   ],
   "source": [
    "ridge.fit(x_train, y_train)"
   ]
  },
  {
   "cell_type": "code",
   "execution_count": 142,
   "id": "19ea2b26",
   "metadata": {},
   "outputs": [
    {
     "data": {
      "text/plain": [
       "0.8175628128024137"
      ]
     },
     "execution_count": 142,
     "metadata": {},
     "output_type": "execute_result"
    }
   ],
   "source": [
    "ridge.score(x_test, y_test)"
   ]
  },
  {
   "cell_type": "markdown",
   "id": "67cc3b21",
   "metadata": {},
   "source": [
    "#### ElasticNet"
   ]
  },
  {
   "cell_type": "code",
   "execution_count": 143,
   "id": "16f0061d",
   "metadata": {},
   "outputs": [
    {
     "data": {
      "text/plain": [
       "ElasticNetCV(cv=10)"
      ]
     },
     "execution_count": 143,
     "metadata": {},
     "output_type": "execute_result"
    }
   ],
   "source": [
    "elastic = ElasticNetCV(alphas=None, cv=10)\n",
    "elastic.fit(x_train, y_train)"
   ]
  },
  {
   "cell_type": "code",
   "execution_count": 144,
   "id": "d8148db9",
   "metadata": {},
   "outputs": [
    {
     "data": {
      "text/plain": [
       "0.001519283042086672"
      ]
     },
     "execution_count": 144,
     "metadata": {},
     "output_type": "execute_result"
    }
   ],
   "source": [
    "elastic.alpha_"
   ]
  },
  {
   "cell_type": "code",
   "execution_count": 145,
   "id": "602b7a2e",
   "metadata": {},
   "outputs": [
    {
     "data": {
      "text/plain": [
       "0.5"
      ]
     },
     "execution_count": 145,
     "metadata": {},
     "output_type": "execute_result"
    }
   ],
   "source": [
    "elastic.l1_ratio_"
   ]
  },
  {
   "cell_type": "code",
   "execution_count": 146,
   "id": "a71dea10",
   "metadata": {},
   "outputs": [],
   "source": [
    "elastic_lr = ElasticNet(alpha=elastic.alpha_, l1_ratio=elastic.l1_ratio_)"
   ]
  },
  {
   "cell_type": "code",
   "execution_count": 147,
   "id": "90b49d9c",
   "metadata": {},
   "outputs": [
    {
     "data": {
      "text/plain": [
       "ElasticNet(alpha=0.001519283042086672)"
      ]
     },
     "execution_count": 147,
     "metadata": {},
     "output_type": "execute_result"
    }
   ],
   "source": [
    "elastic_lr.fit(x_train, y_train)"
   ]
  },
  {
   "cell_type": "code",
   "execution_count": 148,
   "id": "db095472",
   "metadata": {},
   "outputs": [
    {
     "data": {
      "text/plain": [
       "0.8179767633151169"
      ]
     },
     "execution_count": 148,
     "metadata": {},
     "output_type": "execute_result"
    }
   ],
   "source": [
    "elastic_lr.score(x_test, y_test)"
   ]
  }
 ],
 "metadata": {
  "kernelspec": {
   "display_name": "Python 3 (ipykernel)",
   "language": "python",
   "name": "python3"
  },
  "language_info": {
   "codemirror_mode": {
    "name": "ipython",
    "version": 3
   },
   "file_extension": ".py",
   "mimetype": "text/x-python",
   "name": "python",
   "nbconvert_exporter": "python",
   "pygments_lexer": "ipython3",
   "version": "3.9.7"
  }
 },
 "nbformat": 4,
 "nbformat_minor": 5
}
