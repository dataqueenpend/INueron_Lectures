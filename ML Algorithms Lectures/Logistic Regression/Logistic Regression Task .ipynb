{
 "cells": [
  {
   "cell_type": "markdown",
   "id": "d0807222",
   "metadata": {},
   "source": [
    "# Logistic Regression Task \n",
    "\n",
    "https://archive.ics.uci.edu/ml/datasets/Activity+Recognition+system+based+on+Multisensor+data+fusion+%28AReM%29#\n",
    "    \n",
    "Task Logistic Regression\n",
    "~~~~~~~~~~~~~~~~~~~~~~~~~~~\n",
    "1. WAP to read folder name and make a label in the csv with folder name\n",
    "2. Remove unneccesarry info in Automated way\n",
    "3. No other algorithm must be used other than Logistic Regression\n",
    "4. Try to utilize multiple solvers and make multiple models\n",
    "5. Provide the best models\n",
    "6. EDA and all must be done accordingly\n",
    "Note: No manual approaches will be appreciated"
   ]
  }
 ],
 "metadata": {
  "kernelspec": {
   "display_name": "Python 3 (ipykernel)",
   "language": "python",
   "name": "python3"
  },
  "language_info": {
   "codemirror_mode": {
    "name": "ipython",
    "version": 3
   },
   "file_extension": ".py",
   "mimetype": "text/x-python",
   "name": "python",
   "nbconvert_exporter": "python",
   "pygments_lexer": "ipython3",
   "version": "3.9.7"
  }
 },
 "nbformat": 4,
 "nbformat_minor": 5
}
