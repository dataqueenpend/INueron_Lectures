{
 "cells": [
  {
   "cell_type": "code",
   "execution_count": 2,
   "id": "0f3b12b5",
   "metadata": {},
   "outputs": [],
   "source": [
    "import numpy as np"
   ]
  },
  {
   "cell_type": "code",
   "execution_count": 3,
   "id": "3680ae67",
   "metadata": {},
   "outputs": [
    {
     "data": {
      "text/plain": [
       "numpy.ndarray"
      ]
     },
     "execution_count": 3,
     "metadata": {},
     "output_type": "execute_result"
    }
   ],
   "source": [
    "type(np.array([1,2,3,4,5]))"
   ]
  },
  {
   "cell_type": "code",
   "execution_count": 4,
   "id": "eabee05d",
   "metadata": {},
   "outputs": [
    {
     "data": {
      "text/plain": [
       "array([[1, 3],\n",
       "       [3, 4]])"
      ]
     },
     "execution_count": 4,
     "metadata": {},
     "output_type": "execute_result"
    }
   ],
   "source": [
    "np.array([[1,3], [3,4]])"
   ]
  },
  {
   "cell_type": "code",
   "execution_count": 5,
   "id": "3900e7bd",
   "metadata": {},
   "outputs": [
    {
     "name": "stderr",
     "output_type": "stream",
     "text": [
      "C:\\Users\\kskua\\AppData\\Local\\Temp/ipykernel_9748/1024472721.py:1: VisibleDeprecationWarning: Creating an ndarray from ragged nested sequences (which is a list-or-tuple of lists-or-tuples-or ndarrays with different lengths or shapes) is deprecated. If you meant to do this, you must specify 'dtype=object' when creating the ndarray.\n",
      "  np.array([[1,3], [3,4], [6,7,8]])\n"
     ]
    },
    {
     "data": {
      "text/plain": [
       "array([list([1, 3]), list([3, 4]), list([6, 7, 8])], dtype=object)"
      ]
     },
     "execution_count": 5,
     "metadata": {},
     "output_type": "execute_result"
    }
   ],
   "source": [
    "np.array([[1,3], [3,4], [6,7,8]])"
   ]
  },
  {
   "cell_type": "code",
   "execution_count": 6,
   "id": "2d30aba5",
   "metadata": {},
   "outputs": [
    {
     "data": {
      "text/plain": [
       "array([[[1, 3],\n",
       "        [3, 4]],\n",
       "\n",
       "       [[1, 3],\n",
       "        [3, 4]]])"
      ]
     },
     "execution_count": 6,
     "metadata": {},
     "output_type": "execute_result"
    }
   ],
   "source": [
    "np.array([[[1,3], [3,4]], [[1,3], [3,4]]])"
   ]
  },
  {
   "cell_type": "code",
   "execution_count": 7,
   "id": "f1ae37e8",
   "metadata": {},
   "outputs": [
    {
     "data": {
      "text/plain": [
       "array([[[1, 2, 3]]])"
      ]
     },
     "execution_count": 7,
     "metadata": {},
     "output_type": "execute_result"
    }
   ],
   "source": [
    "np.array([1,2,3], ndmin = 3) # Creating array with 3 dimensions"
   ]
  },
  {
   "cell_type": "code",
   "execution_count": 8,
   "id": "bf8fc0c3",
   "metadata": {},
   "outputs": [
    {
     "data": {
      "text/plain": [
       "array([1.+0.j, 2.+0.j, 3.+0.j])"
      ]
     },
     "execution_count": 8,
     "metadata": {},
     "output_type": "execute_result"
    }
   ],
   "source": [
    "np.array([1,2,3], dtype=complex) # Converting array to complex type"
   ]
  },
  {
   "cell_type": "code",
   "execution_count": 9,
   "id": "fd410127",
   "metadata": {},
   "outputs": [
    {
     "data": {
      "text/plain": [
       "array([[1, 2],\n",
       "       [4, 5]])"
      ]
     },
     "execution_count": 9,
     "metadata": {},
     "output_type": "execute_result"
    }
   ],
   "source": [
    "np.array([(1,2), (4,5)]) # We can create arrays with both list and tuples"
   ]
  },
  {
   "cell_type": "code",
   "execution_count": 10,
   "id": "5dfb9ce3",
   "metadata": {},
   "outputs": [],
   "source": [
    "ar = np.array([[1,3], [3,4]], dtype = [('a', '<i4'), ('b', '<i8')])"
   ]
  },
  {
   "cell_type": "code",
   "execution_count": 11,
   "id": "c1c8c36e",
   "metadata": {},
   "outputs": [
    {
     "data": {
      "text/plain": [
       "numpy.void"
      ]
     },
     "execution_count": 11,
     "metadata": {},
     "output_type": "execute_result"
    }
   ],
   "source": [
    "type(ar[0][0])"
   ]
  },
  {
   "cell_type": "code",
   "execution_count": 12,
   "id": "40b9c08b",
   "metadata": {},
   "outputs": [
    {
     "data": {
      "text/plain": [
       "numpy.void"
      ]
     },
     "execution_count": 12,
     "metadata": {},
     "output_type": "execute_result"
    }
   ],
   "source": [
    "type(ar[1][1])"
   ]
  },
  {
   "cell_type": "code",
   "execution_count": 13,
   "id": "5149ef8a",
   "metadata": {},
   "outputs": [],
   "source": [
    "ar = np.array([[1,3], [3,4]])"
   ]
  },
  {
   "cell_type": "code",
   "execution_count": 14,
   "id": "bea8a98a",
   "metadata": {},
   "outputs": [
    {
     "data": {
      "text/plain": [
       "(array([1, 3]), 1, 3)"
      ]
     },
     "execution_count": 14,
     "metadata": {},
     "output_type": "execute_result"
    }
   ],
   "source": [
    "ar[0], ar[0][0], ar[0][1]"
   ]
  },
  {
   "cell_type": "code",
   "execution_count": 15,
   "id": "d2a51222",
   "metadata": {},
   "outputs": [
    {
     "data": {
      "text/plain": [
       "array([3, 4])"
      ]
     },
     "execution_count": 15,
     "metadata": {},
     "output_type": "execute_result"
    }
   ],
   "source": [
    "ar[1]"
   ]
  },
  {
   "cell_type": "code",
   "execution_count": 16,
   "id": "e8360c79",
   "metadata": {},
   "outputs": [
    {
     "data": {
      "text/plain": [
       "numpy.int32"
      ]
     },
     "execution_count": 16,
     "metadata": {},
     "output_type": "execute_result"
    }
   ],
   "source": [
    "type(ar[1][0])"
   ]
  },
  {
   "cell_type": "code",
   "execution_count": 17,
   "id": "7f7790ba",
   "metadata": {},
   "outputs": [
    {
     "data": {
      "text/plain": [
       "matrix([[1, 3],\n",
       "        [3, 4]])"
      ]
     },
     "execution_count": 17,
     "metadata": {},
     "output_type": "execute_result"
    }
   ],
   "source": [
    "np.mat(ar)"
   ]
  },
  {
   "cell_type": "code",
   "execution_count": 18,
   "id": "c518720a",
   "metadata": {},
   "outputs": [
    {
     "data": {
      "text/plain": [
       "numpy.ndarray"
      ]
     },
     "execution_count": 18,
     "metadata": {},
     "output_type": "execute_result"
    }
   ],
   "source": [
    "type(ar)"
   ]
  },
  {
   "cell_type": "code",
   "execution_count": 19,
   "id": "da730d0a",
   "metadata": {},
   "outputs": [
    {
     "data": {
      "text/plain": [
       "matrix([[1, 3],\n",
       "        [3, 4]])"
      ]
     },
     "execution_count": 19,
     "metadata": {},
     "output_type": "execute_result"
    }
   ],
   "source": [
    "np.matrix(ar) # Creating matrix"
   ]
  },
  {
   "cell_type": "code",
   "execution_count": 20,
   "id": "30eef405",
   "metadata": {},
   "outputs": [],
   "source": [
    "m = np.matrix(ar) # Creating matrix"
   ]
  },
  {
   "cell_type": "code",
   "execution_count": 21,
   "id": "1bb9cc95",
   "metadata": {},
   "outputs": [
    {
     "data": {
      "text/plain": [
       "array([[1, 3],\n",
       "       [3, 4]])"
      ]
     },
     "execution_count": 21,
     "metadata": {},
     "output_type": "execute_result"
    }
   ],
   "source": [
    "np.asarray(ar)"
   ]
  },
  {
   "cell_type": "code",
   "execution_count": 22,
   "id": "504a7210",
   "metadata": {},
   "outputs": [
    {
     "data": {
      "text/plain": [
       "False"
      ]
     },
     "execution_count": 22,
     "metadata": {},
     "output_type": "execute_result"
    }
   ],
   "source": [
    "issubclass(np.ndarray, np.matrix)"
   ]
  },
  {
   "cell_type": "code",
   "execution_count": 23,
   "id": "2cbe0eef",
   "metadata": {},
   "outputs": [],
   "source": [
    "a = ar # Shallow copy"
   ]
  },
  {
   "cell_type": "code",
   "execution_count": 24,
   "id": "e6a2f65b",
   "metadata": {},
   "outputs": [],
   "source": [
    "b = np.copy(ar) # Deep copy"
   ]
  },
  {
   "cell_type": "code",
   "execution_count": 25,
   "id": "7025dd47",
   "metadata": {},
   "outputs": [],
   "source": [
    "#Changing value in array\n",
    "ar[0][1] = 67"
   ]
  },
  {
   "cell_type": "code",
   "execution_count": 26,
   "id": "7054f61c",
   "metadata": {},
   "outputs": [
    {
     "data": {
      "text/plain": [
       "array([[ 1, 67],\n",
       "       [ 3,  4]])"
      ]
     },
     "execution_count": 26,
     "metadata": {},
     "output_type": "execute_result"
    }
   ],
   "source": [
    "ar"
   ]
  },
  {
   "cell_type": "code",
   "execution_count": 28,
   "id": "747f8ac6",
   "metadata": {},
   "outputs": [
    {
     "data": {
      "text/plain": [
       "array([[ 1, 67],\n",
       "       [ 3,  4]])"
      ]
     },
     "execution_count": 28,
     "metadata": {},
     "output_type": "execute_result"
    }
   ],
   "source": [
    "a # A - solo copy - is affected by the change. We can change array eleements. Arrays are mutable."
   ]
  },
  {
   "cell_type": "code",
   "execution_count": 27,
   "id": "166a5002",
   "metadata": {},
   "outputs": [
    {
     "data": {
      "text/plain": [
       "array([[1, 3],\n",
       "       [3, 4]])"
      ]
     },
     "execution_count": 27,
     "metadata": {},
     "output_type": "execute_result"
    }
   ],
   "source": [
    "b #B  - deep copy - is holding previous values"
   ]
  },
  {
   "cell_type": "code",
   "execution_count": 29,
   "id": "120fb859",
   "metadata": {},
   "outputs": [
    {
     "name": "stdout",
     "output_type": "stream",
     "text": [
      "[ 1 67]\n",
      "[3 4]\n"
     ]
    }
   ],
   "source": [
    "for i in ar:\n",
    "    print(i)"
   ]
  },
  {
   "cell_type": "code",
   "execution_count": 30,
   "id": "81493846",
   "metadata": {},
   "outputs": [
    {
     "name": "stdout",
     "output_type": "stream",
     "text": [
      "1\n",
      "67\n",
      "3\n",
      "4\n"
     ]
    }
   ],
   "source": [
    "for i in ar:\n",
    "    for j in i:\n",
    "        print(j)"
   ]
  },
  {
   "cell_type": "code",
   "execution_count": 32,
   "id": "6959a740",
   "metadata": {},
   "outputs": [
    {
     "data": {
      "text/plain": [
       "array([[ True, False, False, False],\n",
       "       [False,  True, False, False],\n",
       "       [False, False,  True, False],\n",
       "       [False, False, False,  True]])"
      ]
     },
     "execution_count": 32,
     "metadata": {},
     "output_type": "execute_result"
    }
   ],
   "source": [
    "np.fromfunction(lambda i,j: i==j,(4,4))"
   ]
  },
  {
   "cell_type": "code",
   "execution_count": 33,
   "id": "2843056b",
   "metadata": {},
   "outputs": [
    {
     "data": {
      "text/plain": [
       "array([[1., 0., 0.],\n",
       "       [1., 1., 1.],\n",
       "       [1., 2., 4.]])"
      ]
     },
     "execution_count": 33,
     "metadata": {},
     "output_type": "execute_result"
    }
   ],
   "source": [
    "np.fromfunction(lambda i,j: i**j, (3,3))"
   ]
  },
  {
   "cell_type": "code",
   "execution_count": 38,
   "id": "942f92b2",
   "metadata": {},
   "outputs": [],
   "source": [
    "gen =(i*i for i in range(5))"
   ]
  },
  {
   "cell_type": "code",
   "execution_count": 35,
   "id": "eead86b9",
   "metadata": {},
   "outputs": [],
   "source": [
    "def test(x):\n",
    "    yield x"
   ]
  },
  {
   "cell_type": "code",
   "execution_count": 36,
   "id": "0d81f609",
   "metadata": {},
   "outputs": [
    {
     "data": {
      "text/plain": [
       "<generator object test at 0x000002510541FA50>"
      ]
     },
     "execution_count": 36,
     "metadata": {},
     "output_type": "execute_result"
    }
   ],
   "source": [
    "test(5)"
   ]
  },
  {
   "cell_type": "code",
   "execution_count": 39,
   "id": "7c65342f",
   "metadata": {},
   "outputs": [
    {
     "name": "stdout",
     "output_type": "stream",
     "text": [
      "0\n",
      "1\n",
      "4\n",
      "9\n",
      "16\n"
     ]
    }
   ],
   "source": [
    "\n",
    "for i in gen:\n",
    "    print(i)"
   ]
  },
  {
   "cell_type": "code",
   "execution_count": 40,
   "id": "43ebc3a0",
   "metadata": {},
   "outputs": [
    {
     "data": {
      "text/plain": [
       "array([1, 3, 4, 5, 6])"
      ]
     },
     "execution_count": 40,
     "metadata": {},
     "output_type": "execute_result"
    }
   ],
   "source": [
    "np.fromstring('1,3,4,5,6', sep=',', dtype=int)"
   ]
  },
  {
   "cell_type": "code",
   "execution_count": 43,
   "id": "17a8290c",
   "metadata": {},
   "outputs": [],
   "source": [
    "ar1 = np.array([[1,2,3,], [2,3,4], [3,4,5]])"
   ]
  },
  {
   "cell_type": "code",
   "execution_count": 44,
   "id": "3b83dd6b",
   "metadata": {},
   "outputs": [
    {
     "data": {
      "text/plain": [
       "2"
      ]
     },
     "execution_count": 44,
     "metadata": {},
     "output_type": "execute_result"
    }
   ],
   "source": [
    "ar1.ndim"
   ]
  },
  {
   "cell_type": "code",
   "execution_count": 45,
   "id": "3ecce8d5",
   "metadata": {},
   "outputs": [
    {
     "data": {
      "text/plain": [
       "(9, (3, 3))"
      ]
     },
     "execution_count": 45,
     "metadata": {},
     "output_type": "execute_result"
    }
   ],
   "source": [
    "ar1.size, ar1.shape"
   ]
  },
  {
   "cell_type": "code",
   "execution_count": 46,
   "id": "7ee40af4",
   "metadata": {},
   "outputs": [
    {
     "data": {
      "text/plain": [
       "dtype('int32')"
      ]
     },
     "execution_count": 46,
     "metadata": {},
     "output_type": "execute_result"
    }
   ],
   "source": [
    "ar1.dtype"
   ]
  },
  {
   "cell_type": "code",
   "execution_count": 49,
   "id": "31f20b31",
   "metadata": {},
   "outputs": [],
   "source": [
    "big_a = np.array([ar1, ar1])"
   ]
  },
  {
   "cell_type": "code",
   "execution_count": 52,
   "id": "2c115fcd",
   "metadata": {},
   "outputs": [
    {
     "data": {
      "text/plain": [
       "array([[[1, 2, 3],\n",
       "        [2, 3, 4],\n",
       "        [3, 4, 5]],\n",
       "\n",
       "       [[1, 2, 3],\n",
       "        [2, 3, 4],\n",
       "        [3, 4, 5]]])"
      ]
     },
     "execution_count": 52,
     "metadata": {},
     "output_type": "execute_result"
    }
   ],
   "source": [
    "big_a"
   ]
  },
  {
   "cell_type": "code",
   "execution_count": 50,
   "id": "7e48f126",
   "metadata": {},
   "outputs": [
    {
     "data": {
      "text/plain": [
       "3"
      ]
     },
     "execution_count": 50,
     "metadata": {},
     "output_type": "execute_result"
    }
   ],
   "source": [
    "big_a.ndim"
   ]
  },
  {
   "cell_type": "code",
   "execution_count": 51,
   "id": "8f0f721d",
   "metadata": {},
   "outputs": [
    {
     "data": {
      "text/plain": [
       "(2, 3, 3)"
      ]
     },
     "execution_count": 51,
     "metadata": {},
     "output_type": "execute_result"
    }
   ],
   "source": [
    "big_a.shape"
   ]
  },
  {
   "cell_type": "code",
   "execution_count": 53,
   "id": "924dae78",
   "metadata": {},
   "outputs": [
    {
     "data": {
      "text/plain": [
       "[0, 1, 2, 3, 4, 5]"
      ]
     },
     "execution_count": 53,
     "metadata": {},
     "output_type": "execute_result"
    }
   ],
   "source": [
    "list(range(6))"
   ]
  },
  {
   "cell_type": "code",
   "execution_count": 55,
   "id": "f80e82c4",
   "metadata": {},
   "outputs": [
    {
     "data": {
      "text/plain": [
       "array([ 6.6,  6.7,  6.8,  6.9,  7. ,  7.1,  7.2,  7.3,  7.4,  7.5,  7.6,\n",
       "        7.7,  7.8,  7.9,  8. ,  8.1,  8.2,  8.3,  8.4,  8.5,  8.6,  8.7,\n",
       "        8.8,  8.9,  9. ,  9.1,  9.2,  9.3,  9.4,  9.5,  9.6,  9.7,  9.8,\n",
       "        9.9, 10. , 10.1, 10.2, 10.3, 10.4, 10.5, 10.6, 10.7, 10.8, 10.9,\n",
       "       11. , 11.1, 11.2, 11.3, 11.4, 11.5, 11.6, 11.7, 11.8, 11.9, 12. ,\n",
       "       12.1, 12.2, 12.3, 12.4, 12.5, 12.6, 12.7, 12.8, 12.9, 13. , 13.1,\n",
       "       13.2, 13.3, 13.4, 13.5, 13.6, 13.7, 13.8, 13.9, 14. , 14.1, 14.2,\n",
       "       14.3, 14.4, 14.5, 14.6, 14.7, 14.8, 14.9])"
      ]
     },
     "execution_count": 55,
     "metadata": {},
     "output_type": "execute_result"
    }
   ],
   "source": [
    "np.arange(6.6, 15, 0.1) # Creating array in range with step 0.1"
   ]
  },
  {
   "cell_type": "code",
   "execution_count": 58,
   "id": "81556ef8",
   "metadata": {},
   "outputs": [
    {
     "data": {
      "text/plain": [
       "array([ 1.        ,  1.47368421,  1.94736842,  2.42105263,  2.89473684,\n",
       "        3.36842105,  3.84210526,  4.31578947,  4.78947368,  5.26315789,\n",
       "        5.73684211,  6.21052632,  6.68421053,  7.15789474,  7.63157895,\n",
       "        8.10526316,  8.57894737,  9.05263158,  9.52631579, 10.        ])"
      ]
     },
     "execution_count": 58,
     "metadata": {},
     "output_type": "execute_result"
    }
   ],
   "source": [
    "np.linspace(1,10, 20)"
   ]
  },
  {
   "cell_type": "code",
   "execution_count": 59,
   "id": "556c83f2",
   "metadata": {},
   "outputs": [
    {
     "data": {
      "text/plain": [
       "array([0., 0.])"
      ]
     },
     "execution_count": 59,
     "metadata": {},
     "output_type": "execute_result"
    }
   ],
   "source": [
    "np.zeros(2)"
   ]
  },
  {
   "cell_type": "code",
   "execution_count": 60,
   "id": "7497233d",
   "metadata": {},
   "outputs": [
    {
     "data": {
      "text/plain": [
       "array([[0, 0],\n",
       "       [0, 0]])"
      ]
     },
     "execution_count": 60,
     "metadata": {},
     "output_type": "execute_result"
    }
   ],
   "source": [
    "np.zeros_like(ar)"
   ]
  },
  {
   "cell_type": "code",
   "execution_count": 63,
   "id": "57e870da",
   "metadata": {},
   "outputs": [
    {
     "data": {
      "text/plain": [
       "array([[[0., 0., 0., 0.],\n",
       "        [0., 0., 0., 0.],\n",
       "        [0., 0., 0., 0.],\n",
       "        [0., 0., 0., 0.],\n",
       "        [0., 0., 0., 0.]],\n",
       "\n",
       "       [[0., 0., 0., 0.],\n",
       "        [0., 0., 0., 0.],\n",
       "        [0., 0., 0., 0.],\n",
       "        [0., 0., 0., 0.],\n",
       "        [0., 0., 0., 0.]]])"
      ]
     },
     "execution_count": 63,
     "metadata": {},
     "output_type": "execute_result"
    }
   ],
   "source": [
    "np.zeros((2,5,4))"
   ]
  },
  {
   "cell_type": "code",
   "execution_count": 64,
   "id": "620017de",
   "metadata": {},
   "outputs": [
    {
     "data": {
      "text/plain": [
       "array([[[1., 1., 1.],\n",
       "        [1., 1., 1.]],\n",
       "\n",
       "       [[1., 1., 1.],\n",
       "        [1., 1., 1.]],\n",
       "\n",
       "       [[1., 1., 1.],\n",
       "        [1., 1., 1.]]])"
      ]
     },
     "execution_count": 64,
     "metadata": {},
     "output_type": "execute_result"
    }
   ],
   "source": [
    "np.ones((3,2,3))"
   ]
  },
  {
   "cell_type": "code",
   "execution_count": 66,
   "id": "822b450c",
   "metadata": {},
   "outputs": [
    {
     "data": {
      "text/plain": [
       "array([[[4.67296746e-307, 1.69121096e-306, 1.20161797e-306,\n",
       "         8.34441742e-308],\n",
       "        [1.78022342e-306, 6.23058028e-307, 9.79107872e-307,\n",
       "         6.89807188e-307]],\n",
       "\n",
       "       [[7.56594375e-307, 6.23060065e-307, 1.78021527e-306,\n",
       "         8.34454050e-308],\n",
       "        [1.11261027e-306, 1.15706896e-306, 1.33512173e-306,\n",
       "         8.34402698e-308]]])"
      ]
     },
     "execution_count": 66,
     "metadata": {},
     "output_type": "execute_result"
    }
   ],
   "source": [
    "np.empty((2,2,4))"
   ]
  },
  {
   "cell_type": "code",
   "execution_count": 67,
   "id": "304bd525",
   "metadata": {},
   "outputs": [
    {
     "data": {
      "text/plain": [
       "array([[1., 0., 0.],\n",
       "       [0., 1., 0.],\n",
       "       [0., 0., 1.]])"
      ]
     },
     "execution_count": 67,
     "metadata": {},
     "output_type": "execute_result"
    }
   ],
   "source": [
    "np.eye(3)"
   ]
  },
  {
   "cell_type": "code",
   "execution_count": 69,
   "id": "0a3e5233",
   "metadata": {},
   "outputs": [
    {
     "data": {
      "text/plain": [
       "array([[2.  , 2.04, 2.08, 2.12, 2.16, 2.2 , 2.24, 2.28, 2.32, 2.36, 2.4 ,\n",
       "        2.44, 2.48, 2.52, 2.56, 2.6 , 2.64, 2.68, 2.72, 2.76, 2.8 , 2.84,\n",
       "        2.88, 2.92, 2.96, 3.  , 3.04, 3.08, 3.12, 3.16, 3.2 , 3.24, 3.28,\n",
       "        3.32, 3.36, 3.4 , 3.44, 3.48, 3.52, 3.56, 3.6 , 3.64, 3.68, 3.72,\n",
       "        3.76, 3.8 , 3.84, 3.88, 3.92, 3.96],\n",
       "       [4.  , 4.  , 4.  , 4.  , 4.  , 4.  , 4.  , 4.  , 4.  , 4.  , 4.  ,\n",
       "        4.  , 4.  , 4.  , 4.  , 4.  , 4.  , 4.  , 4.  , 4.  , 4.  , 4.  ,\n",
       "        4.  , 4.  , 4.  , 4.  , 4.  , 4.  , 4.  , 4.  , 4.  , 4.  , 4.  ,\n",
       "        4.  , 4.  , 4.  , 4.  , 4.  , 4.  , 4.  , 4.  , 4.  , 4.  , 4.  ,\n",
       "        4.  , 4.  , 4.  , 4.  , 4.  , 4.  ]])"
      ]
     },
     "execution_count": 69,
     "metadata": {},
     "output_type": "execute_result"
    }
   ],
   "source": [
    "np.linspace([2,4],4, endpoint=False, axis=1)"
   ]
  },
  {
   "cell_type": "code",
   "execution_count": 70,
   "id": "c1cf1f3f",
   "metadata": {},
   "outputs": [
    {
     "data": {
      "text/plain": [
       "array([ 100.        ,  177.827941  ,  316.22776602,  562.34132519,\n",
       "       1000.        ])"
      ]
     },
     "execution_count": 70,
     "metadata": {},
     "output_type": "execute_result"
    }
   ],
   "source": [
    "np.logspace(2,3,5)"
   ]
  },
  {
   "cell_type": "markdown",
   "id": "18ab32f6",
   "metadata": {},
   "source": [
    "## Useful NumPy functions"
   ]
  },
  {
   "cell_type": "markdown",
   "id": "0cf232a3",
   "metadata": {},
   "source": [
    "### Creating data"
   ]
  },
  {
   "cell_type": "code",
   "execution_count": 71,
   "id": "3aeda012",
   "metadata": {},
   "outputs": [],
   "source": [
    "a = np.linspace(1, 20, 30) # Creating 30 instances"
   ]
  },
  {
   "cell_type": "code",
   "execution_count": 72,
   "id": "7e4f43fe",
   "metadata": {},
   "outputs": [
    {
     "data": {
      "text/plain": [
       "1"
      ]
     },
     "execution_count": 72,
     "metadata": {},
     "output_type": "execute_result"
    }
   ],
   "source": [
    "a.ndim"
   ]
  },
  {
   "cell_type": "code",
   "execution_count": 73,
   "id": "089e90cf",
   "metadata": {},
   "outputs": [
    {
     "data": {
      "text/plain": [
       "(30,)"
      ]
     },
     "execution_count": 73,
     "metadata": {},
     "output_type": "execute_result"
    }
   ],
   "source": [
    "a.shape"
   ]
  },
  {
   "cell_type": "markdown",
   "id": "1ab19483",
   "metadata": {},
   "source": [
    "We have created a 30 instances in numpy array, but we have only 1 dimensional data. Let's reshape it to make it columns wise. "
   ]
  },
  {
   "cell_type": "markdown",
   "id": "233d928f",
   "metadata": {},
   "source": [
    "### Reshaping"
   ]
  },
  {
   "cell_type": "code",
   "execution_count": 74,
   "id": "2281d11c",
   "metadata": {},
   "outputs": [
    {
     "data": {
      "text/plain": [
       "array([[ 1.        ],\n",
       "       [ 1.65517241],\n",
       "       [ 2.31034483],\n",
       "       [ 2.96551724],\n",
       "       [ 3.62068966],\n",
       "       [ 4.27586207],\n",
       "       [ 4.93103448],\n",
       "       [ 5.5862069 ],\n",
       "       [ 6.24137931],\n",
       "       [ 6.89655172],\n",
       "       [ 7.55172414],\n",
       "       [ 8.20689655],\n",
       "       [ 8.86206897],\n",
       "       [ 9.51724138],\n",
       "       [10.17241379],\n",
       "       [10.82758621],\n",
       "       [11.48275862],\n",
       "       [12.13793103],\n",
       "       [12.79310345],\n",
       "       [13.44827586],\n",
       "       [14.10344828],\n",
       "       [14.75862069],\n",
       "       [15.4137931 ],\n",
       "       [16.06896552],\n",
       "       [16.72413793],\n",
       "       [17.37931034],\n",
       "       [18.03448276],\n",
       "       [18.68965517],\n",
       "       [19.34482759],\n",
       "       [20.        ]])"
      ]
     },
     "execution_count": 74,
     "metadata": {},
     "output_type": "execute_result"
    }
   ],
   "source": [
    "a.reshape(30,1)"
   ]
  },
  {
   "cell_type": "code",
   "execution_count": 79,
   "id": "40fc8c89",
   "metadata": {},
   "outputs": [
    {
     "data": {
      "text/plain": [
       "array([[[ 1.        ,  1.65517241,  2.31034483,  2.96551724,\n",
       "          3.62068966,  4.27586207,  4.93103448,  5.5862069 ,\n",
       "          6.24137931,  6.89655172,  7.55172414,  8.20689655,\n",
       "          8.86206897,  9.51724138, 10.17241379]],\n",
       "\n",
       "       [[10.82758621, 11.48275862, 12.13793103, 12.79310345,\n",
       "         13.44827586, 14.10344828, 14.75862069, 15.4137931 ,\n",
       "         16.06896552, 16.72413793, 17.37931034, 18.03448276,\n",
       "         18.68965517, 19.34482759, 20.        ]]])"
      ]
     },
     "execution_count": 79,
     "metadata": {},
     "output_type": "execute_result"
    }
   ],
   "source": [
    "a.reshape(2,1, 15) # Reshape number of instances must always equal the number of instances in original array (2*1*15 = 30)"
   ]
  },
  {
   "cell_type": "markdown",
   "id": "35d09769",
   "metadata": {},
   "source": [
    "## Generating random data"
   ]
  },
  {
   "cell_type": "code",
   "execution_count": 80,
   "id": "720ad528",
   "metadata": {},
   "outputs": [
    {
     "data": {
      "text/plain": [
       "array([0.68709588, 0.32798284, 0.61113332, 0.52136253, 0.46921605,\n",
       "       0.35170836, 0.30805906, 0.54340198, 0.5818194 , 0.72844774,\n",
       "       0.38083066, 0.57205696, 0.0165756 , 0.59987495, 0.06277739,\n",
       "       0.60195435, 0.1012997 , 0.53830771, 0.12289696, 0.04322858])"
      ]
     },
     "execution_count": 80,
     "metadata": {},
     "output_type": "execute_result"
    }
   ],
   "source": [
    "np.random.rand(20) # Generates random uniform data - instances with equall possibility to occurr - flat distribution"
   ]
  },
  {
   "cell_type": "code",
   "execution_count": 81,
   "id": "29241404",
   "metadata": {},
   "outputs": [
    {
     "data": {
      "text/plain": [
       "array([[[0.11851981, 0.76451289, 0.91427047],\n",
       "        [0.45022544, 0.77981008, 0.96785116]],\n",
       "\n",
       "       [[0.27410001, 0.80770661, 0.90678982],\n",
       "        [0.08783063, 0.5459125 , 0.6326393 ]]])"
      ]
     },
     "execution_count": 81,
     "metadata": {},
     "output_type": "execute_result"
    }
   ],
   "source": [
    "np.random.rand(2,2,3)"
   ]
  },
  {
   "cell_type": "code",
   "execution_count": 82,
   "id": "d45b2ad1",
   "metadata": {},
   "outputs": [
    {
     "data": {
      "text/plain": [
       "array([6, 8, 1, 4, 4])"
      ]
     },
     "execution_count": 82,
     "metadata": {},
     "output_type": "execute_result"
    }
   ],
   "source": [
    "np.random.randint(1,10,5) # Generates random integers"
   ]
  },
  {
   "cell_type": "markdown",
   "id": "2e992490",
   "metadata": {},
   "source": [
    "## Built-in functions, slicing"
   ]
  },
  {
   "cell_type": "code",
   "execution_count": 83,
   "id": "ed8ffd5f",
   "metadata": {},
   "outputs": [],
   "source": [
    "b = np.random.randint(4,10, (5,5))"
   ]
  },
  {
   "cell_type": "code",
   "execution_count": 84,
   "id": "722829a7",
   "metadata": {},
   "outputs": [
    {
     "data": {
      "text/plain": [
       "array([[4, 6, 8, 4, 8],\n",
       "       [5, 7, 8, 5, 8],\n",
       "       [4, 7, 7, 6, 8],\n",
       "       [5, 8, 6, 7, 6],\n",
       "       [6, 5, 8, 4, 9]])"
      ]
     },
     "execution_count": 84,
     "metadata": {},
     "output_type": "execute_result"
    }
   ],
   "source": [
    "b"
   ]
  },
  {
   "cell_type": "code",
   "execution_count": 85,
   "id": "ed5e2a03",
   "metadata": {},
   "outputs": [
    {
     "data": {
      "text/plain": [
       "9"
      ]
     },
     "execution_count": 85,
     "metadata": {},
     "output_type": "execute_result"
    }
   ],
   "source": [
    "b.max()"
   ]
  },
  {
   "cell_type": "code",
   "execution_count": 86,
   "id": "5d730275",
   "metadata": {},
   "outputs": [
    {
     "data": {
      "text/plain": [
       "4"
      ]
     },
     "execution_count": 86,
     "metadata": {},
     "output_type": "execute_result"
    }
   ],
   "source": [
    "b.min()"
   ]
  },
  {
   "cell_type": "code",
   "execution_count": 88,
   "id": "64c01e8b",
   "metadata": {},
   "outputs": [
    {
     "data": {
      "text/plain": [
       "array([[4, 8],\n",
       "       [5, 8]])"
      ]
     },
     "execution_count": 88,
     "metadata": {},
     "output_type": "execute_result"
    }
   ],
   "source": [
    "b[0:2, 3: ] #Rows, Columns"
   ]
  },
  {
   "cell_type": "code",
   "execution_count": 89,
   "id": "5064504d",
   "metadata": {},
   "outputs": [
    {
     "data": {
      "text/plain": [
       "array([[False,  True,  True, False,  True],\n",
       "       [False,  True,  True, False,  True],\n",
       "       [False,  True,  True,  True,  True],\n",
       "       [False,  True,  True,  True,  True],\n",
       "       [ True, False,  True, False,  True]])"
      ]
     },
     "execution_count": 89,
     "metadata": {},
     "output_type": "execute_result"
    }
   ],
   "source": [
    "b> 5"
   ]
  },
  {
   "cell_type": "code",
   "execution_count": 90,
   "id": "76d70017",
   "metadata": {},
   "outputs": [
    {
     "data": {
      "text/plain": [
       "array([6, 8, 8, 7, 8, 8, 7, 7, 6, 8, 8, 6, 7, 6, 6, 8, 9])"
      ]
     },
     "execution_count": 90,
     "metadata": {},
     "output_type": "execute_result"
    }
   ],
   "source": [
    "b[b>5]"
   ]
  },
  {
   "cell_type": "markdown",
   "id": "b3b92c5b",
   "metadata": {},
   "source": [
    "### Operations on arrays"
   ]
  },
  {
   "cell_type": "code",
   "execution_count": 91,
   "id": "3efa17c2",
   "metadata": {},
   "outputs": [],
   "source": [
    "c = np.random.randint(2,4,(3,3))"
   ]
  },
  {
   "cell_type": "code",
   "execution_count": 92,
   "id": "821e0174",
   "metadata": {},
   "outputs": [],
   "source": [
    "d = np.random.randint(2,4,(3,3,))"
   ]
  },
  {
   "cell_type": "code",
   "execution_count": 93,
   "id": "ae63ffe4",
   "metadata": {},
   "outputs": [
    {
     "data": {
      "text/plain": [
       "array([[3, 3, 2],\n",
       "       [2, 2, 3],\n",
       "       [2, 3, 3]])"
      ]
     },
     "execution_count": 93,
     "metadata": {},
     "output_type": "execute_result"
    }
   ],
   "source": [
    "c"
   ]
  },
  {
   "cell_type": "code",
   "execution_count": 94,
   "id": "7d2c56a1",
   "metadata": {},
   "outputs": [
    {
     "data": {
      "text/plain": [
       "array([[3, 2, 2],\n",
       "       [3, 3, 3],\n",
       "       [2, 2, 2]])"
      ]
     },
     "execution_count": 94,
     "metadata": {},
     "output_type": "execute_result"
    }
   ],
   "source": [
    "d"
   ]
  },
  {
   "cell_type": "code",
   "execution_count": 95,
   "id": "72af2733",
   "metadata": {},
   "outputs": [
    {
     "data": {
      "text/plain": [
       "array([[9, 6, 4],\n",
       "       [6, 6, 9],\n",
       "       [4, 6, 6]])"
      ]
     },
     "execution_count": 95,
     "metadata": {},
     "output_type": "execute_result"
    }
   ],
   "source": [
    "#Multiplication element wise - working only on arrays with the same number of dimensions\n",
    "c*d"
   ]
  },
  {
   "cell_type": "code",
   "execution_count": 96,
   "id": "46750eba",
   "metadata": {},
   "outputs": [
    {
     "data": {
      "text/plain": [
       "array([[22, 19, 19],\n",
       "       [18, 16, 16],\n",
       "       [21, 19, 19]])"
      ]
     },
     "execution_count": 96,
     "metadata": {},
     "output_type": "execute_result"
    }
   ],
   "source": [
    "#Matrix multiplication\n",
    "c@d"
   ]
  },
  {
   "cell_type": "code",
   "execution_count": 97,
   "id": "49e50fda",
   "metadata": {},
   "outputs": [
    {
     "name": "stderr",
     "output_type": "stream",
     "text": [
      "C:\\Users\\kskua\\AppData\\Local\\Temp/ipykernel_9748/97081324.py:1: RuntimeWarning: divide by zero encountered in true_divide\n",
      "  c/0\n"
     ]
    },
    {
     "data": {
      "text/plain": [
       "array([[inf, inf, inf],\n",
       "       [inf, inf, inf],\n",
       "       [inf, inf, inf]])"
      ]
     },
     "execution_count": 97,
     "metadata": {},
     "output_type": "execute_result"
    }
   ],
   "source": [
    "c/0"
   ]
  },
  {
   "cell_type": "markdown",
   "id": "bf07ba7b",
   "metadata": {},
   "source": [
    "### Broadcasting"
   ]
  },
  {
   "cell_type": "code",
   "execution_count": 99,
   "id": "d551c1c8",
   "metadata": {},
   "outputs": [],
   "source": [
    "e = np.zeros((3,4))"
   ]
  },
  {
   "cell_type": "code",
   "execution_count": 100,
   "id": "33f198f0",
   "metadata": {},
   "outputs": [
    {
     "data": {
      "text/plain": [
       "array([[0., 0., 0., 0.],\n",
       "       [0., 0., 0., 0.],\n",
       "       [0., 0., 0., 0.]])"
      ]
     },
     "execution_count": 100,
     "metadata": {},
     "output_type": "execute_result"
    }
   ],
   "source": [
    "e"
   ]
  },
  {
   "cell_type": "code",
   "execution_count": 101,
   "id": "e8e6a42b",
   "metadata": {},
   "outputs": [],
   "source": [
    "a = np.array([1,2,3,4])"
   ]
  },
  {
   "cell_type": "code",
   "execution_count": 102,
   "id": "03fc76b3",
   "metadata": {},
   "outputs": [
    {
     "data": {
      "text/plain": [
       "array([1, 2, 3, 4])"
      ]
     },
     "execution_count": 102,
     "metadata": {},
     "output_type": "execute_result"
    }
   ],
   "source": [
    "a"
   ]
  },
  {
   "cell_type": "code",
   "execution_count": 103,
   "id": "3a952f65",
   "metadata": {},
   "outputs": [
    {
     "data": {
      "text/plain": [
       "array([[1., 2., 3., 4.],\n",
       "       [1., 2., 3., 4.],\n",
       "       [1., 2., 3., 4.]])"
      ]
     },
     "execution_count": 103,
     "metadata": {},
     "output_type": "execute_result"
    }
   ],
   "source": [
    "e + a"
   ]
  },
  {
   "cell_type": "markdown",
   "id": "4b9d512e",
   "metadata": {},
   "source": [
    "#### Broadcasting and reshaping\n",
    "When dimension are not equal we can reshape it"
   ]
  },
  {
   "cell_type": "code",
   "execution_count": 104,
   "id": "d7cc3b1d",
   "metadata": {},
   "outputs": [],
   "source": [
    "f = np.array([5,6,7])"
   ]
  },
  {
   "cell_type": "code",
   "execution_count": 105,
   "id": "fee07009",
   "metadata": {},
   "outputs": [
    {
     "data": {
      "text/plain": [
       "array([5, 6, 7])"
      ]
     },
     "execution_count": 105,
     "metadata": {},
     "output_type": "execute_result"
    }
   ],
   "source": [
    "f"
   ]
  },
  {
   "cell_type": "code",
   "execution_count": 106,
   "id": "b2afc60a",
   "metadata": {},
   "outputs": [
    {
     "data": {
      "text/plain": [
       "array([[0., 0., 0., 0.],\n",
       "       [0., 0., 0., 0.],\n",
       "       [0., 0., 0., 0.]])"
      ]
     },
     "execution_count": 106,
     "metadata": {},
     "output_type": "execute_result"
    }
   ],
   "source": [
    "e"
   ]
  },
  {
   "cell_type": "code",
   "execution_count": 108,
   "id": "8ef4e840",
   "metadata": {},
   "outputs": [
    {
     "ename": "ValueError",
     "evalue": "operands could not be broadcast together with shapes (3,) (3,4) ",
     "output_type": "error",
     "traceback": [
      "\u001b[1;31m---------------------------------------------------------------------------\u001b[0m",
      "\u001b[1;31mValueError\u001b[0m                                Traceback (most recent call last)",
      "\u001b[1;32m~\\AppData\\Local\\Temp/ipykernel_9748/4035481919.py\u001b[0m in \u001b[0;36m<module>\u001b[1;34m\u001b[0m\n\u001b[1;32m----> 1\u001b[1;33m \u001b[0mf\u001b[0m \u001b[1;33m+\u001b[0m \u001b[0me\u001b[0m\u001b[1;33m\u001b[0m\u001b[1;33m\u001b[0m\u001b[0m\n\u001b[0m",
      "\u001b[1;31mValueError\u001b[0m: operands could not be broadcast together with shapes (3,) (3,4) "
     ]
    }
   ],
   "source": [
    "f + e # This will not work - different shapes"
   ]
  },
  {
   "cell_type": "code",
   "execution_count": 107,
   "id": "3576b5da",
   "metadata": {},
   "outputs": [
    {
     "data": {
      "text/plain": [
       "array([[5., 5., 5., 5.],\n",
       "       [6., 6., 6., 6.],\n",
       "       [7., 7., 7., 7.]])"
      ]
     },
     "execution_count": 107,
     "metadata": {},
     "output_type": "execute_result"
    }
   ],
   "source": [
    "f.reshape(3,1) + e # Reshaping 1d arrays made the brodcasting possible"
   ]
  },
  {
   "cell_type": "code",
   "execution_count": 109,
   "id": "5d6e8b42",
   "metadata": {},
   "outputs": [
    {
     "data": {
      "text/plain": [
       "array([[5],\n",
       "       [6],\n",
       "       [7]])"
      ]
     },
     "execution_count": 109,
     "metadata": {},
     "output_type": "execute_result"
    }
   ],
   "source": [
    "f.reshape(3,1) # Reshaped into 3d array"
   ]
  },
  {
   "cell_type": "markdown",
   "id": "8499d16c",
   "metadata": {},
   "source": [
    "Same thing as above, but with a use of a Transpose.\n",
    "\n",
    "! Note that array for this operation needs to be 2d. "
   ]
  },
  {
   "cell_type": "code",
   "execution_count": 110,
   "id": "cb85c46c",
   "metadata": {},
   "outputs": [],
   "source": [
    "g = np.array([[5,6,7]])"
   ]
  },
  {
   "cell_type": "code",
   "execution_count": 111,
   "id": "d0106531",
   "metadata": {},
   "outputs": [
    {
     "data": {
      "text/plain": [
       "2"
      ]
     },
     "execution_count": 111,
     "metadata": {},
     "output_type": "execute_result"
    }
   ],
   "source": [
    "g.ndim"
   ]
  },
  {
   "cell_type": "code",
   "execution_count": 112,
   "id": "4ad30667",
   "metadata": {},
   "outputs": [
    {
     "data": {
      "text/plain": [
       "array([[5],\n",
       "       [6],\n",
       "       [7]])"
      ]
     },
     "execution_count": 112,
     "metadata": {},
     "output_type": "execute_result"
    }
   ],
   "source": [
    "g.T"
   ]
  },
  {
   "cell_type": "markdown",
   "id": "45c9d02a",
   "metadata": {},
   "source": [
    "## Advanced functions in NumPy"
   ]
  },
  {
   "cell_type": "code",
   "execution_count": 113,
   "id": "82363a18",
   "metadata": {},
   "outputs": [
    {
     "data": {
      "text/plain": [
       "array([[20.08553692, 20.08553692,  7.3890561 ],\n",
       "       [ 7.3890561 ,  7.3890561 , 20.08553692],\n",
       "       [ 7.3890561 , 20.08553692, 20.08553692]])"
      ]
     },
     "execution_count": 113,
     "metadata": {},
     "output_type": "execute_result"
    }
   ],
   "source": [
    "np.exp(c)"
   ]
  },
  {
   "cell_type": "code",
   "execution_count": 114,
   "id": "c5e9aad0",
   "metadata": {},
   "outputs": [
    {
     "data": {
      "text/plain": [
       "array([[0.47712125, 0.47712125, 0.30103   ],\n",
       "       [0.30103   , 0.30103   , 0.47712125],\n",
       "       [0.30103   , 0.47712125, 0.47712125]])"
      ]
     },
     "execution_count": 114,
     "metadata": {},
     "output_type": "execute_result"
    }
   ],
   "source": [
    "np.log10(c)"
   ]
  },
  {
   "cell_type": "code",
   "execution_count": 115,
   "id": "f0244933",
   "metadata": {},
   "outputs": [
    {
     "data": {
      "text/plain": [
       "array([[1.73205081, 1.73205081, 1.41421356],\n",
       "       [1.41421356, 1.41421356, 1.73205081],\n",
       "       [1.41421356, 1.73205081, 1.73205081]])"
      ]
     },
     "execution_count": 115,
     "metadata": {},
     "output_type": "execute_result"
    }
   ],
   "source": [
    "np.sqrt(c)"
   ]
  },
  {
   "cell_type": "markdown",
   "id": "076bb22c",
   "metadata": {},
   "source": [
    "## Random seed"
   ]
  },
  {
   "cell_type": "code",
   "execution_count": 123,
   "id": "b2425239",
   "metadata": {},
   "outputs": [],
   "source": [
    "np.random.seed(42)"
   ]
  },
  {
   "cell_type": "code",
   "execution_count": 127,
   "id": "d80dc934",
   "metadata": {},
   "outputs": [
    {
     "data": {
      "text/plain": [
       "array([0, 0, 0, 0, 0, 0, 0, 0, 0, 0])"
      ]
     },
     "execution_count": 127,
     "metadata": {},
     "output_type": "execute_result"
    }
   ],
   "source": [
    "np.random.binomial(0,1,size= 10)"
   ]
  }
 ],
 "metadata": {
  "kernelspec": {
   "display_name": "Python 3 (ipykernel)",
   "language": "python",
   "name": "python3"
  },
  "language_info": {
   "codemirror_mode": {
    "name": "ipython",
    "version": 3
   },
   "file_extension": ".py",
   "mimetype": "text/x-python",
   "name": "python",
   "nbconvert_exporter": "python",
   "pygments_lexer": "ipython3",
   "version": "3.9.7"
  }
 },
 "nbformat": 4,
 "nbformat_minor": 5
}
